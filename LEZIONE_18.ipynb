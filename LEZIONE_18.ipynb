{
  "nbformat": 4,
  "nbformat_minor": 0,
  "metadata": {
    "colab": {
      "provenance": [],
      "authorship_tag": "ABX9TyPLv/24+UJNdYaddmXh8o9p",
      "include_colab_link": true
    },
    "kernelspec": {
      "name": "python3",
      "display_name": "Python 3"
    },
    "language_info": {
      "name": "python"
    }
  },
  "cells": [
    {
      "cell_type": "markdown",
      "metadata": {
        "id": "view-in-github",
        "colab_type": "text"
      },
      "source": [
        "<a href=\"https://colab.research.google.com/github/FrancescoCortopassi/copilot-codespaces-vscode/blob/main/LEZIONE_18.ipynb\" target=\"_parent\"><img src=\"https://colab.research.google.com/assets/colab-badge.svg\" alt=\"Open In Colab\"/></a>"
      ]
    },
    {
      "cell_type": "code",
      "execution_count": 1,
      "metadata": {
        "id": "PPqmsBKufdit"
      },
      "outputs": [],
      "source": [
        "#Creare una FUNZIONE LANDA (una funzione ad una linea)\n",
        "f= lambda x:  x**2"
      ]
    },
    {
      "cell_type": "code",
      "source": [
        "#creare una lista per applicare la LAMBDA FUNCTION\n",
        "lista = [1,2,3,4,5,6]"
      ],
      "metadata": {
        "id": "gS3YpmPjgHuW"
      },
      "execution_count": 2,
      "outputs": []
    },
    {
      "cell_type": "code",
      "source": [
        "#usa la funzione MAPPA per applicare la funzione lambda ad una lista\n",
        "list(map(f,lista))"
      ],
      "metadata": {
        "colab": {
          "base_uri": "https://localhost:8080/"
        },
        "id": "PpS2IIlXgP40",
        "outputId": "2f79a9b0-d8d9-472e-b6e0-db7dc0000642"
      },
      "execution_count": 3,
      "outputs": [
        {
          "output_type": "execute_result",
          "data": {
            "text/plain": [
              "[1, 4, 9, 16, 25, 36]"
            ]
          },
          "metadata": {},
          "execution_count": 3
        }
      ]
    },
    {
      "cell_type": "code",
      "source": [
        "lista = [1,2,3,4,5,6]\n",
        "f= lambda x:  x**2\n",
        "generator = map (f,lista)"
      ],
      "metadata": {
        "id": "M-XPFkVugcBS"
      },
      "execution_count": 3,
      "outputs": []
    },
    {
      "cell_type": "code",
      "source": [
        "generator"
      ],
      "metadata": {
        "colab": {
          "base_uri": "https://localhost:8080/"
        },
        "id": "S0tqXVnpCTCM",
        "outputId": "80893675-1c4c-4643-98a0-df03b4f7a31e"
      },
      "execution_count": 4,
      "outputs": [
        {
          "output_type": "execute_result",
          "data": {
            "text/plain": [
              "<map at 0x7aac5b530910>"
            ]
          },
          "metadata": {},
          "execution_count": 4
        }
      ]
    },
    {
      "cell_type": "code",
      "source": [
        "#mappare la lista\n",
        "list(generator)"
      ],
      "metadata": {
        "colab": {
          "base_uri": "https://localhost:8080/"
        },
        "id": "J3d4ovkBCXZw",
        "outputId": "c8e090eb-c3eb-429a-c2db-65b63c855383"
      },
      "execution_count": 6,
      "outputs": [
        {
          "output_type": "execute_result",
          "data": {
            "text/plain": [
              "[1, 4, 9, 16, 25, 36]"
            ]
          },
          "metadata": {},
          "execution_count": 6
        }
      ]
    }
  ]
}