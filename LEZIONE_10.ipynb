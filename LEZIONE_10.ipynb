{
  "nbformat": 4,
  "nbformat_minor": 0,
  "metadata": {
    "colab": {
      "provenance": [],
      "authorship_tag": "ABX9TyPMzVb9hqspZJyJF9mupo7G",
      "include_colab_link": true
    },
    "kernelspec": {
      "name": "python3",
      "display_name": "Python 3"
    },
    "language_info": {
      "name": "python"
    }
  },
  "cells": [
    {
      "cell_type": "markdown",
      "metadata": {
        "id": "view-in-github",
        "colab_type": "text"
      },
      "source": [
        "<a href=\"https://colab.research.google.com/github/FrancescoCortopassi/copilot-codespaces-vscode/blob/main/LEZIONE_10.ipynb\" target=\"_parent\"><img src=\"https://colab.research.google.com/assets/colab-badge.svg\" alt=\"Open In Colab\"/></a>"
      ]
    },
    {
      "cell_type": "code",
      "execution_count": null,
      "metadata": {
        "id": "11vDgkNKr4pw"
      },
      "outputs": [],
      "source": [
        "#Inizializzare un dizionario\n",
        "dic ={}"
      ]
    },
    {
      "cell_type": "code",
      "source": [
        "#Inizializzare con un valore\n",
        "dic = {\"Tesla Price\": 1500,\n",
        "       \"Google price\": 3000,}\n",
        "dic\n",
        "#se inserisco la stessa chiave con un valore diverso, Python registrerà solo l'ultimo valore inserito"
      ],
      "metadata": {
        "colab": {
          "base_uri": "https://localhost:8080/"
        },
        "id": "3PBLZhT5hJY_",
        "outputId": "56ef708f-1531-44ff-e557-266588608f52"
      },
      "execution_count": null,
      "outputs": [
        {
          "output_type": "execute_result",
          "data": {
            "text/plain": [
              "{'Tesla Price': 1500, 'Google price': 3000}"
            ]
          },
          "metadata": {},
          "execution_count": 9
        }
      ]
    },
    {
      "cell_type": "code",
      "source": [
        "#Aggiungere un valore\n",
        "dic [\"Microsoft price\"]= 4500\n",
        "dic\n",
        "#per l'inserimento di una nuova chiave/valore dobbiamo utilizzare le parentesi quadre delle Tuple, ed il valore viene collegato con il simbolo \"=\" seguito dal valore"
      ],
      "metadata": {
        "colab": {
          "base_uri": "https://localhost:8080/"
        },
        "id": "yCrBtev4hQ1k",
        "outputId": "a26bc83b-58c9-4579-bc4b-3aa9de48698c"
      },
      "execution_count": null,
      "outputs": [
        {
          "output_type": "execute_result",
          "data": {
            "text/plain": [
              "{'Tesla Price': 1500, 'Google price': 3000, 'Microsoft price': 4500}"
            ]
          },
          "metadata": {},
          "execution_count": 22
        }
      ]
    },
    {
      "cell_type": "code",
      "source": [
        "#Cambiare un valore\n",
        "dic [\"Microsoft price\"]= 6500\n",
        "dic"
      ],
      "metadata": {
        "colab": {
          "base_uri": "https://localhost:8080/"
        },
        "id": "qMhhOKaLhWLo",
        "outputId": "b4bb394b-eba2-4d28-958c-3d3a4c43c737"
      },
      "execution_count": null,
      "outputs": [
        {
          "output_type": "execute_result",
          "data": {
            "text/plain": [
              "{'Tesla Price': 1500, 'Google price': 3000, 'Microsoft price': 6500}"
            ]
          },
          "metadata": {},
          "execution_count": 23
        }
      ]
    },
    {
      "cell_type": "code",
      "source": [
        "#Estrarre un valore\n",
        "dic [\"Microsoft price\"]\n",
        "#per estrarre un valore dobbiamo richiamare il dizionario interessato e la rispettiva chiave collegata al valore che ci interessa, in questo caso il prezzo delle stocks di Mmicrosoft"
      ],
      "metadata": {
        "colab": {
          "base_uri": "https://localhost:8080/"
        },
        "id": "nSqz7HighYqc",
        "outputId": "e2567508-0721-43e0-cab2-e16366ca970e"
      },
      "execution_count": null,
      "outputs": [
        {
          "output_type": "execute_result",
          "data": {
            "text/plain": [
              "6500"
            ]
          },
          "metadata": {},
          "execution_count": 24
        }
      ]
    },
    {
      "cell_type": "code",
      "source": [
        "#Come estrarre il nome chiave\n",
        "del dic [\"Microsoft price\"]\n",
        "dic\n",
        "#si utilizza il metodo \"del\""
      ],
      "metadata": {
        "colab": {
          "base_uri": "https://localhost:8080/"
        },
        "id": "4O5RgUgfhePh",
        "outputId": "45466d6f-854c-4f6e-93db-0810ba12507b"
      },
      "execution_count": null,
      "outputs": [
        {
          "output_type": "execute_result",
          "data": {
            "text/plain": [
              "{'Tesla Price': 1500, 'Google price': 3000}"
            ]
          },
          "metadata": {},
          "execution_count": 25
        }
      ]
    },
    {
      "cell_type": "code",
      "source": [
        "#Come estrarre il nome/i nomi della chiave\n",
        "dic.keys ()\n",
        "#possiamo capire che questo dizionario contiene prezzi"
      ],
      "metadata": {
        "colab": {
          "base_uri": "https://localhost:8080/"
        },
        "id": "UXRVH4L9hkhH",
        "outputId": "3f5ad59e-ea48-426b-91cc-94a30961d1f7"
      },
      "execution_count": null,
      "outputs": [
        {
          "output_type": "execute_result",
          "data": {
            "text/plain": [
              "dict_keys(['Tesla Price', 'Google price'])"
            ]
          },
          "metadata": {},
          "execution_count": 27
        }
      ]
    },
    {
      "cell_type": "code",
      "source": [
        "#come estrarre il valore\n",
        "dic.values ()"
      ],
      "metadata": {
        "colab": {
          "base_uri": "https://localhost:8080/"
        },
        "id": "628iPgh2hrOp",
        "outputId": "d09c1f92-83f6-48f2-82f4-2a9734672ead"
      },
      "execution_count": null,
      "outputs": [
        {
          "output_type": "execute_result",
          "data": {
            "text/plain": [
              "dict_values([1500, 3000])"
            ]
          },
          "metadata": {},
          "execution_count": 28
        }
      ]
    }
  ]
}