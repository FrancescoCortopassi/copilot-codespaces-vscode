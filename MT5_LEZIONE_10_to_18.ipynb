{
  "nbformat": 4,
  "nbformat_minor": 0,
  "metadata": {
    "colab": {
      "provenance": [],
      "authorship_tag": "ABX9TyPo6jDCds3ZV5CbXKL5/3Zv",
      "include_colab_link": true
    },
    "kernelspec": {
      "name": "python3",
      "display_name": "Python 3"
    },
    "language_info": {
      "name": "python"
    }
  },
  "cells": [
    {
      "cell_type": "markdown",
      "metadata": {
        "id": "view-in-github",
        "colab_type": "text"
      },
      "source": [
        "<a href=\"https://colab.research.google.com/github/FrancescoCortopassi/copilot-codespaces-vscode/blob/main/MT5_LEZIONE_10_to_18.ipynb\" target=\"_parent\"><img src=\"https://colab.research.google.com/assets/colab-badge.svg\" alt=\"Open In Colab\"/></a>"
      ]
    },
    {
      "cell_type": "markdown",
      "source": [
        "LEZIONE_10_11: FOREX TRADING TERMINOLOGY\n",
        "\n",
        "1.Rapporto tra la coppia di valute (base currency/counter currency)\n",
        "2.Lot size (il minimo in MT5 è 0.01): un lotto corrisponde a 100.000€ (ovvero 100.000 unità della base currency)\n",
        "3.revisone dei concetti sopracitati sulla piattafotma MT5\n"
      ],
      "metadata": {
        "id": "wdqbV7MUYAwy"
      }
    },
    {
      "cell_type": "code",
      "source": [
        "#LEZIONE_12:FETCHING (recuperare) DATA WITH PYTHON API\n",
        "#import MetaTrader5 as mt5\n",
        "#import os\n",
        "#import time"
      ],
      "metadata": {
        "id": "lxpalQNpgXDL"
      },
      "execution_count": 12,
      "outputs": []
    },
    {
      "cell_type": "markdown",
      "source": [
        "#NOTA IMPORTANTE: Purtroppo Google Colab non supporta MT5 quindi per testare il codice di questo corso spesso dovrò appoggiarmi a Jupyter Notebook\n",
        "\n"
      ],
      "metadata": {
        "id": "HqJz_yAhgH1B"
      }
    },
    {
      "cell_type": "markdown",
      "source": [
        "LEZIONE_13:PIPS\n",
        "Si pone nuovamente il focus sul concetto di PIP (Percentage In Points) per introdurre al calcolo dei pips\n",
        "1.Il valore di un PIP è di 0.0001 (0.01 per alune coppie con JPY)\n",
        "\n",
        "IMPORTANTE: CALCOLO DEL VALORE DI UN PIP (in Euro)\n",
        "Comprando 90.909€ usando 100.000$ (EURUSD=rate 1:1)\n",
        "L'aumento di un pip cambierebbe il prezzo a 1.1001\n",
        "La diminuzione di un pip cambierebbe il prezzo ad 1.0099\n",
        "\n",
        "AUMENTO:90.909€ * 1.1001-100.000= 9€\n",
        "DIMINUZIONE:90.909€ * 1.0999-100.000= -9€\n",
        "\n",
        "NOTA: Non ho compreso bene questo calcolo. DA RIVEDERE"
      ],
      "metadata": {
        "id": "KIHHRCL4zoW9"
      }
    },
    {
      "cell_type": "markdown",
      "source": [
        "LEZIONE_14: FETCHING PIP (Recuperare PIP)\n",
        "Vedi MT5_LEZIONE_5 (Jupyter Notebook)\n",
        "\n",
        "CONCETTO BASE: Quando si tratta di recuperare i PIP quello che noi dobbiamo cercare con il metodo SYMBOL_INFO sono i punti (points) perché 10 p0unti equivalgono ad un PIP. Probabilmente quello che dovremo fare per convertirli è un semplice calcolo di moltiplicazione o divisione"
      ],
      "metadata": {
        "id": "pYQ4rFoloT7g"
      }
    },
    {
      "cell_type": "code",
      "source": [
        "#FETCHING PIP\n",
        "#Per calcolare i PIPS creiamo una funzione molto semplice che va a cerca i POINT con SYMBOL_INFO e poi li moltiplica per 10\n",
        "def get_pip(symbol):\n",
        "  return 10*mt5.symbol_info(symbol).point\n",
        ""
      ],
      "metadata": {
        "id": "uFeq66DsuO49"
      },
      "execution_count": 11,
      "outputs": []
    },
    {
      "cell_type": "markdown",
      "source": [
        "LEZIONE_15:LEVERAGE\n",
        "\n",
        "Simulazione di LEVA:\n",
        "Deposito= 1.000€-----Leva=1:100------Potere d'acquisto=100K\n"
      ],
      "metadata": {
        "id": "-_1FtTfz0Cvq"
      }
    },
    {
      "cell_type": "markdown",
      "source": [
        "LEZIONE_16: BALANCE, EQUITY, MARGIN, FREE MARGIN\n",
        "\n",
        "1.BALANCE/DEPOSIT: I soldi disponibili sul conto. Il Balance aumenta e diminuisce in relazione ai tuoi P&L\n",
        "2.Se abbiamo delle posizioni aperte si crea un P&L non realizzato che si andrà a sommare/sottrarre al BALANCE e che si chiama EQUITY\n",
        "3.MARGIN: La porzione del tuo deposito che è \"bloccata\" dalle operazioni di trading in esecuzione\n",
        "4.FREE MARGIN: Il calcolo del free margin, letteralmente il margine libero e quindi ancora utilizzabile per altre operazioni, si sottrae l'EQUITY al MARGIN:\n",
        "\n",
        "Free Margin= Equity-Margin"
      ],
      "metadata": {
        "id": "yKJOyGO7xCKy"
      }
    },
    {
      "cell_type": "markdown",
      "source": [
        "LEZIONE_17:FETCHING ACCOUNT INFORMATIONS USING API\n",
        "In questa lezione andiamo a vedere come recuperare i dati di un'account con il metodo ACCOUNT_INFO"
      ],
      "metadata": {
        "id": "H1wGbnU7zswy"
      }
    },
    {
      "cell_type": "code",
      "source": [
        "#Questo è il codice che crea la funzione ACCOUNT_INFO per andare ad ottenere le informazioni analizzate nelle lezioni precedenti\n",
        "def account_details():\n",
        "  account_details=mt5.account_info()\n",
        "  return{\n",
        "      \"balance\":account_details.balance,\n",
        "      \"equity\":account_details.equity,\n",
        "      \"margin\":account_details.margin,\n",
        "      \"free_margin\":account_details.free_margin,\n",
        "  }"
      ],
      "metadata": {
        "id": "KB4pl08V6BWf"
      },
      "execution_count": 10,
      "outputs": []
    },
    {
      "cell_type": "markdown",
      "source": [
        "LEZIONE_18: CALCOLARE LA POSITION SIZE\n",
        "Per calcolare la dimensione della posizione andremo a creare ancora una volta una funzione apposita.\n",
        "L'utilità di questa funzione è grande dato che ci permette di calcolare il profitto e la perdita netta in cash delle posizioni attive che abbiamo sul nostro conto"
      ],
      "metadata": {
        "id": "Bn6XLygz8UFC"
      }
    },
    {
      "cell_type": "code",
      "source": [
        "#Funzione per il calcolo della dimensione della posizione\n",
        "def calc_pos_size(symbol,req_per_pip_pnl=(10),lot_size=10000):\n",
        "  calc_pos_size=0"
      ],
      "metadata": {
        "id": "JXJXvC5n6SFD"
      },
      "execution_count": 9,
      "outputs": []
    },
    {
      "cell_type": "code",
      "source": [],
      "metadata": {
        "id": "Ul2SHwXV9SPn"
      },
      "execution_count": null,
      "outputs": []
    }
  ]
}