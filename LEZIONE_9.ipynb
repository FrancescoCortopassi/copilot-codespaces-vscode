{
  "nbformat": 4,
  "nbformat_minor": 0,
  "metadata": {
    "colab": {
      "provenance": [],
      "authorship_tag": "ABX9TyNWuknw/EHdc4iy8qw6QxTY",
      "include_colab_link": true
    },
    "kernelspec": {
      "name": "python3",
      "display_name": "Python 3"
    },
    "language_info": {
      "name": "python"
    }
  },
  "cells": [
    {
      "cell_type": "markdown",
      "metadata": {
        "id": "view-in-github",
        "colab_type": "text"
      },
      "source": [
        "<a href=\"https://colab.research.google.com/github/FrancescoCortopassi/copilot-codespaces-vscode/blob/main/LEZIONE_9.ipynb\" target=\"_parent\"><img src=\"https://colab.research.google.com/assets/colab-badge.svg\" alt=\"Open In Colab\"/></a>"
      ]
    },
    {
      "cell_type": "code",
      "execution_count": 1,
      "metadata": {
        "id": "VTjD_bTEZWow"
      },
      "outputs": [],
      "source": [
        "#TUPLE\n",
        "my_taple = '1,2,3,4,5'"
      ]
    },
    {
      "cell_type": "code",
      "source": [
        "#per creare la TUPLE dobbiamo usare la stessa condizione della variabili. Per la SINTASSI dobbiamo utilizzare solo APICI o DOPPI APICI. La TUPLE non è NON MODIFICABILE"
      ],
      "metadata": {
        "id": "A2bOvLlIZuQQ"
      },
      "execution_count": 2,
      "outputs": []
    },
    {
      "cell_type": "code",
      "source": [
        "#LISTA    []\n",
        "my_list = [1,2,3,4,5]\n",
        "my_list"
      ],
      "metadata": {
        "colab": {
          "base_uri": "https://localhost:8080/"
        },
        "id": "m_4X3iYEZuLi",
        "outputId": "121cd8b2-66f0-4db3-fbe7-f38e95a022fe"
      },
      "execution_count": 3,
      "outputs": [
        {
          "output_type": "execute_result",
          "data": {
            "text/plain": [
              "[1, 2, 3, 4, 5]"
            ]
          },
          "metadata": {},
          "execution_count": 3
        }
      ]
    },
    {
      "cell_type": "code",
      "source": [
        "#Questa è una lista. per la sua SINTASSI si usano le PARENTESI QUADRE. La lista è MODIFIFICABILE"
      ],
      "metadata": {
        "id": "iJKbRzmFZuHX"
      },
      "execution_count": null,
      "outputs": []
    },
    {
      "cell_type": "code",
      "source": [
        "#AGGIUNGERE UN VALORE   .append\n",
        "my_list.append(6)\n",
        "my_list"
      ],
      "metadata": {
        "colab": {
          "base_uri": "https://localhost:8080/"
        },
        "id": "AsFNJeMDZt-F",
        "outputId": "f70c2e89-1363-4c26-cd51-c2d62020ff0f"
      },
      "execution_count": 10,
      "outputs": [
        {
          "output_type": "execute_result",
          "data": {
            "text/plain": [
              "[1, 2, 3, 4, 5, 6, 6, 5, 6]"
            ]
          },
          "metadata": {},
          "execution_count": 10
        }
      ]
    },
    {
      "cell_type": "code",
      "source": [
        "#mi sa che ho fatto un pò di confusione..."
      ],
      "metadata": {
        "id": "0a1nL4hzbCj-"
      },
      "execution_count": null,
      "outputs": []
    },
    {
      "cell_type": "code",
      "source": [
        "#AGGIUNGERE ALTRO VALORE   .extend\n",
        "my_list.extend ([8,9,10,11])\n",
        "my_list"
      ],
      "metadata": {
        "colab": {
          "base_uri": "https://localhost:8080/"
        },
        "id": "WMKh50mPZtzc",
        "outputId": "1c6c4923-1864-460d-c07f-71c44834b390"
      },
      "execution_count": 14,
      "outputs": [
        {
          "output_type": "execute_result",
          "data": {
            "text/plain": [
              "[1, 2, 3, 4, 5, 6, 6, 5, 6, 8, 9, 10, 11]"
            ]
          },
          "metadata": {},
          "execution_count": 14
        }
      ]
    },
    {
      "cell_type": "code",
      "source": [
        "#SINTASSI: Quando abbiamo usato .append abbiamo inserito un solo elemento ed abbiamo usato (), invece quando abbiamo usato .extend volevamo estendere la Lista con un'altra Lista quindi abbiamo usato le [] dentro le ()"
      ],
      "metadata": {
        "id": "AozZO69pbCAF"
      },
      "execution_count": 15,
      "outputs": []
    },
    {
      "cell_type": "code",
      "source": [
        "#INDEX    .index\n",
        "my_list.index (8)"
      ],
      "metadata": {
        "colab": {
          "base_uri": "https://localhost:8080/"
        },
        "id": "PcR_cqxZcrNy",
        "outputId": "f1d559ad-9d06-4cd8-c541-b0ceebf7001f"
      },
      "execution_count": 16,
      "outputs": [
        {
          "output_type": "execute_result",
          "data": {
            "text/plain": [
              "9"
            ]
          },
          "metadata": {},
          "execution_count": 16
        }
      ]
    },
    {
      "cell_type": "code",
      "source": [
        "my_list [6]"
      ],
      "metadata": {
        "colab": {
          "base_uri": "https://localhost:8080/"
        },
        "id": "v4FsRzOKczA5",
        "outputId": "fd1d37e6-9a00-4bed-e922-8353dcff3019"
      },
      "execution_count": 17,
      "outputs": [
        {
          "output_type": "execute_result",
          "data": {
            "text/plain": [
              "6"
            ]
          },
          "metadata": {},
          "execution_count": 17
        }
      ]
    },
    {
      "cell_type": "code",
      "source": [
        "#DELETE   del\n",
        "del my_list [0]\n",
        "my_list"
      ],
      "metadata": {
        "colab": {
          "base_uri": "https://localhost:8080/"
        },
        "id": "6hC8B4zjcy18",
        "outputId": "6022a4db-16dd-416c-be9b-4beb7a034e6e"
      },
      "execution_count": 24,
      "outputs": [
        {
          "output_type": "execute_result",
          "data": {
            "text/plain": [
              "[3, 4, 5, 6, 6, 5, 6, 8, 9, 11]"
            ]
          },
          "metadata": {},
          "execution_count": 24
        }
      ]
    },
    {
      "cell_type": "code",
      "source": [
        "#Una lista può ottenere tutti i tipi di OGGETTO, e può contenere anche un'altrea lista all'interno della LISTA PRINCIPALE (sub-list)"
      ],
      "metadata": {
        "id": "1ld6IYP5d1Ke"
      },
      "execution_count": 25,
      "outputs": []
    },
    {
      "cell_type": "code",
      "source": [
        "#Bonus: Nested List\n",
        "my_list = [[1,15],3, \"Finance\"]\n",
        "\n",
        "#Print the sub-list\n",
        "print (my_list[0])\n",
        "\n",
        "#Print value 15\n",
        "print (my_list [0][1])"
      ],
      "metadata": {
        "colab": {
          "base_uri": "https://localhost:8080/"
        },
        "id": "UiesR_QDeCG4",
        "outputId": "5388f15a-b108-443b-efda-695eac18da51"
      },
      "execution_count": 33,
      "outputs": [
        {
          "output_type": "stream",
          "name": "stdout",
          "text": [
            "[1, 15]\n",
            "15\n"
          ]
        }
      ]
    }
  ]
}