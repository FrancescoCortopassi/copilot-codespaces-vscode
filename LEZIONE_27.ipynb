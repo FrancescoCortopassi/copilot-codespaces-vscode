{
  "nbformat": 4,
  "nbformat_minor": 0,
  "metadata": {
    "colab": {
      "provenance": [],
      "authorship_tag": "ABX9TyOiHVm4qM6t19mzg28kf2MP",
      "include_colab_link": true
    },
    "kernelspec": {
      "name": "python3",
      "display_name": "Python 3"
    },
    "language_info": {
      "name": "python"
    }
  },
  "cells": [
    {
      "cell_type": "markdown",
      "metadata": {
        "id": "view-in-github",
        "colab_type": "text"
      },
      "source": [
        "<a href=\"https://colab.research.google.com/github/FrancescoCortopassi/copilot-codespaces-vscode/blob/main/LEZIONE_27.ipynb\" target=\"_parent\"><img src=\"https://colab.research.google.com/assets/colab-badge.svg\" alt=\"Open In Colab\"/></a>"
      ]
    },
    {
      "cell_type": "code",
      "execution_count": 2,
      "metadata": {
        "colab": {
          "base_uri": "https://localhost:8080/"
        },
        "id": "kAubs-mEzvv_",
        "outputId": "a01cb12d-35c5-445c-dcfc-cee0beaec062"
      },
      "outputs": [
        {
          "output_type": "stream",
          "name": "stdout",
          "text": [
            "[ 8  0 13 13  1  1  6 10  5  7  2  1  2  1  8]\n",
            "[ 64   0 169 169   1   1  36 100  25  49   4   1   4   1  64]\n",
            "[24  0 39 39  3  3 18 30 15 21  6  3  6  3 24]\n"
          ]
        }
      ],
      "source": [
        "#Come prima cosa devo importare le librerie necessarie e recuperare l'array che avevo creato nella lezione 26\n",
        "import pandas as pd\n",
        "import matplotlib.pyplot as plt\n",
        "import numpy as np\n",
        "#simulazione di dati\n",
        "arr= np.random.randint (0,15, size= (15,))\n",
        "\n",
        "#square of array\n",
        "square= arr **2\n",
        "\n",
        "#Multiplication of array\n",
        "mut = arr*3\n",
        "\n",
        "print (arr)\n",
        "print (square)\n",
        "print(mut)"
      ]
    },
    {
      "cell_type": "code",
      "source": [
        "#Creare uno scatter plot con matplotlib\n",
        "plt.scatter (arr, mut)\n",
        "plt.scatter (arr, square)\n"
      ],
      "metadata": {
        "colab": {
          "base_uri": "https://localhost:8080/",
          "height": 448
        },
        "id": "0PTx6IHS7Nsf",
        "outputId": "364a5127-4d73-4221-e938-f02206cfc59a"
      },
      "execution_count": 3,
      "outputs": [
        {
          "output_type": "execute_result",
          "data": {
            "text/plain": [
              "<matplotlib.collections.PathCollection at 0x7b4a3b3a2790>"
            ]
          },
          "metadata": {},
          "execution_count": 3
        },
        {
          "output_type": "display_data",
          "data": {
            "text/plain": [
              "<Figure size 640x480 with 1 Axes>"
            ],
            "image/png": "[encoded data removed]"
          },
          "metadata": {}
        }
      ]
    },
    {
      "cell_type": "code",
      "source": [],
      "metadata": {
        "id": "Z8MufV8t7NoC"
      },
      "execution_count": null,
      "outputs": []
    },
    {
      "cell_type": "code",
      "source": [],
      "metadata": {
        "id": "5P_Mq0Ow7NBN"
      },
      "execution_count": null,
      "outputs": []
    }
  ]
}