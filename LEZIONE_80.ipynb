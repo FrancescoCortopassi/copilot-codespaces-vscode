{
  "nbformat": 4,
  "nbformat_minor": 0,
  "metadata": {
    "colab": {
      "provenance": [],
      "authorship_tag": "ABX9TyMvdWxa6l7voeLayk8h5yCK",
      "include_colab_link": true
    },
    "kernelspec": {
      "name": "python3",
      "display_name": "Python 3"
    },
    "language_info": {
      "name": "python"
    }
  },
  "cells": [
    {
      "cell_type": "markdown",
      "metadata": {
        "id": "view-in-github",
        "colab_type": "text"
      },
      "source": [
        "<a href=\"https://colab.research.google.com/github/FrancescoCortopassi/copilot-codespaces-vscode/blob/main/LEZIONE_80.ipynb\" target=\"_parent\"><img src=\"https://colab.research.google.com/assets/colab-badge.svg\" alt=\"Open In Colab\"/></a>"
      ]
    },
    {
      "cell_type": "code",
      "execution_count": 5,
      "metadata": {
        "id": "l474fQX5-Uq7"
      },
      "outputs": [],
      "source": [
        "#LEZIONE_80:\n",
        "import warnings\n",
        "warnings.filterwarnings(\"ignore\")\n",
        "import pandas as pd\n",
        "import time\n",
        "import numpy as np"
      ]
    },
    {
      "cell_type": "code",
      "source": [
        "def random():\n",
        "  values=[True,False]\n",
        "  buy=np.random.choice(values)\n",
        "  sell= not buy\n",
        "  return buy,sell\n",
        "\n",
        "  symbols_list={\n",
        "      \"Nasdaq 100\"= [\"NAS 100\",0.01]\n",
        "      \"Ruseel 200\"=[\"US2000\",0.01]\n",
        "      \"Gold USD\"=[\"XAUUSD\",0.01]\n",
        "      \"SP500\"=[US500\",0.01]\n",
        "      \"US Dollar vs canadian Dollar\"=[\"USDCAD\",0.01]\n",
        "      \"US Dollar vs Euro\n",
        "      \"Euro USD\"=[\"EURUSD\",0.01]\n",
        "\n",
        "current_account.info=mt5.account_info()\n",
        "\n",
        "               #Con questo codice andiamo a printare tutti i dati necessari alla prima comprensione del trade e deisui risultati\n",
        "pritn(\"------------------------------\")\n",
        "print (f\"Date: {datetime.now()strftime(%Y-%m-%d-%H-%M-%S)}\")\n",
        "print (f\"Balance: {current_account_info_balance}\",USD \"\\t\")\n",
        "print (f\"Equity: {current_account_info_equity}\",USD \"\\t\")\n",
        "print (f\"Profit: {current_account_info_profit}\",USD \"\\t\")\n",
        "print (f\"Margin: {current_account_info_margin}\",USD \"\\t\")\n",
        "print(\"------------------------------------------------\")\n",
        "\n",
        "start=datetime.now()strftime (%H-%M-%S)#esempio:\"23:59:59\"\n",
        "while True:\n",
        "               #lanciare l'algoritmo\n",
        "               #Verifica di lancio\n",
        "               if datetime.now().weekday() not in (5,6)== start\n",
        "            else:\n",
        "               is_time= False\n",
        "\n",
        "               if is_time:\n",
        "               #chiudere il trade\n",
        "                  if mt5 position_total()>0:\n",
        "               MT5 close_all_night()\n",
        "\n",
        "               for assets in symbols_list.keys():\n",
        "                #Inizializzare gli inputs\n",
        "               symbol= symbol_list[asset][0]\n",
        "               lot= symbol_list[asset][1]\n",
        "               buy,sell= random()\n",
        "\n",
        "               #\"RUNNARE\" l'algoritmo\n",
        "               MT5.run(symbol, buy, sell,lot)\n",
        "\n"
      ],
      "metadata": {
        "id": "5lcrv7lKDE_0"
      },
      "execution_count": null,
      "outputs": []
    }
  ]
}