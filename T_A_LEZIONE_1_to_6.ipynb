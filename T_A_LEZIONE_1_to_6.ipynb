{
  "nbformat": 4,
  "nbformat_minor": 0,
  "metadata": {
    "colab": {
      "provenance": [],
      "authorship_tag": "ABX9TyOW3o8IiigFN8vTqcWWwaYL",
      "include_colab_link": true
    },
    "kernelspec": {
      "name": "python3",
      "display_name": "Python 3"
    },
    "language_info": {
      "name": "python"
    }
  },
  "cells": [
    {
      "cell_type": "markdown",
      "metadata": {
        "id": "view-in-github",
        "colab_type": "text"
      },
      "source": [
        "<a href=\"https://colab.research.google.com/github/FrancescoCortopassi/copilot-codespaces-vscode/blob/main/T_A_LEZIONE_1_to_6.ipynb\" target=\"_parent\"><img src=\"https://colab.research.google.com/assets/colab-badge.svg\" alt=\"Open In Colab\"/></a>"
      ]
    },
    {
      "cell_type": "markdown",
      "source": [
        "LEZIONE_2: HOW TO GET MOST ON THESE COURSE\n",
        "+Q&A: Abbiamo la possibilità di leggere le Q&A già fatte dagli utenti del corso o fare una domanda nuova tramite l'apposito tasto\n",
        "+CAPTION (translation):Possiamo attivare la traduzione (nel video in basso a destra)\n",
        "+FULL LESSION TRASCRIPT: Possiamo attiavre anche la trascrizione dell'intera lezione (nel video in basso a destra)\n",
        "+SPEED: Si può scegliere anche la velocità di esecuzione del corso\n",
        "+VIDEO QUALITY: Nel caso che il video si vede in maniera sfocata probabilmente sarà dovuto ad un problema di connessione. In questo caso, andremo a lavorare per settare nuovamente i nostri parmentri di connessione oppure abbassare la qualità della riproduzione del video.\n"
      ],
      "metadata": {
        "id": "DpRVNqXCQ2aM"
      }
    },
    {
      "cell_type": "markdown",
      "source": [
        "LEZIONE_3: WHAT DATA CAN TELL US\n",
        "In questa lezione viene mostrato il risultato degli ultimi 15 anni su due strategie basate su indicatori tecnici:\n",
        "\n",
        "+MACD\n",
        "+RSI\n",
        "\n",
        "Come possiamo notare la strategia basata sul MACD ha avuto un ritono di performance pari allo 0 con una strategia buy and hold mentre con una strategia attiva che apre e chiude posizioni intraday secondo i segnali le performance sono altamente negative\n",
        "Viceversa, la performance ottenuta dall' RSI è veramente una performance interessante.\n",
        "NOTA: Tutto questo per comprendere come un'inidcatore tecnico, se analizzato in maniera corretta, possa darci informazioni su un particolare mercato e suggerirci nel tempo quali siano le miglori strategie per tradarlo"
      ],
      "metadata": {
        "id": "venqdvf5Tmi1"
      }
    },
    {
      "cell_type": "markdown",
      "source": [
        "In the following, you will find some more FAQs. If you do not find an answer to your question, post your question on the Q&A board.\n",
        "\n",
        "\n",
        "\n",
        "Q1: The video/audio quality is low. What can I do?\n",
        "\n",
        "A1: This course is screencasted in HD Quality.  Low/volatile video quality (e.g. blurring) or slow speed can be caused by:\n",
        "\n",
        "Slow/volatile internet connection. Even the best internet connection can have slowdowns. Check your connection and your location to the next WiFi Router!\n",
        "\n",
        "The Udemy Autoplay function has it´s weaknesses. If you experience blurring, it can be helpful to turn off Autoplay and to manually select quality (720p or 480p).\n",
        "\n",
        "\n",
        "If you now experience skipping, pausing, or loading with 480p (or even lower), this is a strong indication that your connection is too slow!\n",
        "\n",
        "\n",
        "\n",
        "Udemy Server Problems. If this happens frequently, send them a message!\n",
        "\n",
        "Check this for more information.\n",
        "\n",
        "In any case, please keep in mind that technical problems / low quality / low speed are beyond my control. Thanks!\n",
        "\n",
        "\n",
        "\n",
        "Q2: Why do you ask me for a review after the very first few videos?\n",
        "\n",
        "A2: Apologies for this. Instructors are asking Udemy the same question all the time. It´s their standard-setting to ask for a review after the first few videos. This does not make any sense for courses with more than 20 hours of content. I would ask you earliest after two or three hours. But: This is not in my discretion and I cannot control this!\n",
        "\n",
        "+++ Important: If you get asked too early to give a well-founded review, please do not click randomly on any stars! Click on \"ASK ME LATER\" and continue the course! Don´t waste your vote! Thanks a lot! +++\n",
        "\n",
        "\n",
        "\n",
        "Q3: How important are reviews?\n",
        "\n",
        "A3: For instructors, fair, well-founded, and appropriate reviews are very important! Your review/feedback helps to further improve the course and motivates/enables me to\n",
        "\n",
        "add more high-quality content to the course\n",
        "\n",
        "be active and responsive on the Q&A Board\n",
        "\n",
        "keep the course updated\n",
        "\n",
        "Your contribution matters!\n",
        "\n",
        "\n",
        "\n",
        "Q4: Is the download of Python/Pandas/Anaconda free of charge?\n",
        "\n",
        "A4: Yes, it´s free and open source.\n",
        "\n",
        "\n",
        "\n",
        "Q5: I do not use Jupyter Notebooks / Anaconda Distribution for Python coding. How can I use the downloads/notebooks?\n",
        "\n",
        "A5: There are many ways to set up Python. I do believe that the Anaconda Distribution is the easiest way for beginners and more experienced users to install and maintain a Python Data Science Environment and to perform Data Science and Machine Learning on Linux, Windows, and Mac OS.\n",
        "\n",
        "The notebooks contain lots of embedded text and images and are therefore optimized for use in jupyter notebooks. If you have not used jupyter notebooks yet, this is the opportunity to do so in order to get the best learning experience.\n",
        "\n",
        "I am considering to provide the exercises in .py format upon request. Send me a message!\n",
        "\n",
        "\n",
        "\n",
        "Q6: The download/installation of Anaconda does not work or  I cannot open/use the downloaded jupyter notebooks\n",
        "\n",
        "A6: Before you leave/quit the course:\n",
        "\n",
        "Have a look again at the videos, where these steps are explained in detail.\n",
        "\n",
        "Follow the provided links to the official documentation website and have a look there.\n",
        "\n",
        "Post your question/problem on the Q&A Board.\n",
        "\n",
        "We will get your problem solved!"
      ],
      "metadata": {
        "id": "2i23B6M6VITh"
      }
    },
    {
      "cell_type": "markdown",
      "source": [
        "LEZIONE_4: LEGAL DISCLAIMER\n",
        "Legal Disclaimer (please read carefully!)\n",
        "\n",
        "-------------------------------------------------------------\n",
        "\n",
        "This course is for general information and educational purposes only. It is neither a direct nor indirect recommendation, advice or a call to invest, trade, or take whatsoever actions. Any opinions, news, research, analyses, prices, code examples, or other information is provided as general market commentary and does not constitute investment advice. Examples shown in the course are for illustration purposes only and are not investment advice or an inducement to trade. Past performance is not an indication of future performance.\n",
        "\n",
        "All contents, videos, Python codes, Jupyter Notebooks, and other materials come without warranties or representations. The Instructor does not warrant the correctness or the completeness of the information provided. The Instructor will not accept liability for any loss or damage, including without limitation to, any loss of profit, which may arise directly or indirectly from the use of or reliance on such information.\n",
        "\n",
        "------------------------------------------------------------\n",
        "\n",
        "Thanks and enjoy the Course!"
      ],
      "metadata": {
        "id": "_rUcRz45WT5N"
      }
    },
    {
      "cell_type": "markdown",
      "source": [
        "LEZIONE_6: COURSE MATERIAL\n",
        "In allegato con questa lezione c'è tutto il materiale di base del corso (file .py, dataframes+ altro). Da downlodare sul proprio pc"
      ],
      "metadata": {
        "id": "Ajj5ReXZYiR2"
      }
    },
    {
      "cell_type": "code",
      "source": [],
      "metadata": {
        "id": "up4WT6nbWVZy"
      },
      "execution_count": null,
      "outputs": []
    }
  ]
}