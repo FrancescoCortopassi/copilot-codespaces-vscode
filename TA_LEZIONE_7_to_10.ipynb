{
  "nbformat": 4,
  "nbformat_minor": 0,
  "metadata": {
    "colab": {
      "provenance": [],
      "authorship_tag": "ABX9TyMhTd+ZvnPqT8ZybTcFiHrd",
      "include_colab_link": true
    },
    "kernelspec": {
      "name": "python3",
      "display_name": "Python 3"
    },
    "language_info": {
      "name": "python"
    }
  },
  "cells": [
    {
      "cell_type": "markdown",
      "metadata": {
        "id": "view-in-github",
        "colab_type": "text"
      },
      "source": [
        "<a href=\"https://colab.research.google.com/github/FrancescoCortopassi/copilot-codespaces-vscode/blob/main/TA_LEZIONE_7_to_10.ipynb\" target=\"_parent\"><img src=\"https://colab.research.google.com/assets/colab-badge.svg\" alt=\"Open In Colab\"/></a>"
      ]
    },
    {
      "cell_type": "markdown",
      "source": [
        "LEZIONE_1:OVERVIEW\n",
        "In questo breve video si introduce al contenuto del modulo in cui vengono illustrati i procedimenti per installare ANACONDA, JUPYTER e come ottimizzare il lavoro su quest'ultimo."
      ],
      "metadata": {
        "id": "98EnSfLeZbRz"
      }
    },
    {
      "cell_type": "markdown",
      "source": [
        "LEZIONE_8: DOWNLOAD AND INSTALL ANACONDA\n",
        "Il video mostra come scaricare ed installare ANACONDA (io l'ho già installata)"
      ],
      "metadata": {
        "id": "AGwN8n1JZbKZ"
      }
    },
    {
      "cell_type": "markdown",
      "source": [
        "LEZIONE_9: HOW TO OPEN JUPYTER NOTEBOOKS\n",
        "In questa lezione ci sono due tools che non conoscevo.\n",
        "1.Premendo ALT+INVIO possiamo \"runnare\" il nostro codice\n",
        "2. Se necessario possiamoandare a lavorare direttamente sul PROMPT dei comandi di ANACONDA"
      ],
      "metadata": {
        "id": "t4vpUyYxZbC3"
      }
    },
    {
      "cell_type": "markdown",
      "source": [],
      "metadata": {
        "id": "P6JE7RwoZa6O"
      }
    },
    {
      "cell_type": "markdown",
      "source": [
        "LEZIONE_10: HOW TO WORK WITH JUPYTER NOTEBOOK\n",
        "In questa lezione si mostra come lavorare con il Notebook di Jupyter che secondonn l'insegnante è di gran lunga il tool migliore dove sviluppare codice in Python. Andremo ad annotare solamente le informazioni importanti per l'evoluzione delle mie capacità senza scrivere info ovvie o redondanti.\n",
        "\n",
        "1. Nella sezione a tendina in alto cliccando su HELP possiamo vedere le shortcut per la tastiera, utili per migliorare la fruizione del notebook\n",
        "\n",
        "2. Possiamo passare dalla modalità CODE alla modalità MARKDOWN (quello che in Colab sarebbe il testo) semplicemente cliccando nella parte esterna della cell (dove vediamo la distintiva linea di colore blu o verde). Digitando M entreremo in MARKDOWN, digitando Y torneremo in modalità codice\n",
        "\n",
        "3. Attraverso la modalità MARKDOWN possiamo inserire nelle celle anche delle immagini\n",
        "\n",
        "4.\n",
        "\n"
      ],
      "metadata": {
        "id": "VyCYp0TOrUzG"
      }
    },
    {
      "cell_type": "markdown",
      "source": [],
      "metadata": {
        "id": "nOJHc0GUrUv7"
      }
    }
  ]
}