{
  "nbformat": 4,
  "nbformat_minor": 0,
  "metadata": {
    "colab": {
      "provenance": [],
      "authorship_tag": "ABX9TyNZ8Q8zleYRUbBlYm0212a0",
      "include_colab_link": true
    },
    "kernelspec": {
      "name": "python3",
      "display_name": "Python 3"
    },
    "language_info": {
      "name": "python"
    }
  },
  "cells": [
    {
      "cell_type": "markdown",
      "metadata": {
        "id": "view-in-github",
        "colab_type": "text"
      },
      "source": [
        "<a href=\"https://colab.research.google.com/github/FrancescoCortopassi/copilot-codespaces-vscode/blob/main/LEZIONE_81.ipynb\" target=\"_parent\"><img src=\"https://colab.research.google.com/assets/colab-badge.svg\" alt=\"Open In Colab\"/></a>"
      ]
    },
    {
      "cell_type": "markdown",
      "source": [
        "LEZIONE_80: in questa ultima lezione andremo a mettere in LIVE TRADING la strategia SMA"
      ],
      "metadata": {
        "id": "Ux7UR_7UNTkY"
      }
    },
    {
      "cell_type": "code",
      "source": [
        "!pip install ta"
      ],
      "metadata": {
        "colab": {
          "base_uri": "https://localhost:8080/"
        },
        "id": "_Sr5fPfTOQwX",
        "outputId": "2926e7b6-4b6a-4739-d575-62ef4406b7da"
      },
      "execution_count": 3,
      "outputs": [
        {
          "output_type": "stream",
          "name": "stdout",
          "text": [
            "Collecting ta\n",
            "  Downloading ta-0.11.0.tar.gz (25 kB)\n",
            "  Preparing metadata (setup.py) ... \u001b[?25l\u001b[?25hdone\n",
            "Requirement already satisfied: numpy in /usr/local/lib/python3.11/dist-packages (from ta) (1.26.4)\n",
            "Requirement already satisfied: pandas in /usr/local/lib/python3.11/dist-packages (from ta) (2.2.2)\n",
            "Requirement already satisfied: python-dateutil>=2.8.2 in /usr/local/lib/python3.11/dist-packages (from pandas->ta) (2.8.2)\n",
            "Requirement already satisfied: pytz>=2020.1 in /usr/local/lib/python3.11/dist-packages (from pandas->ta) (2024.2)\n",
            "Requirement already satisfied: tzdata>=2022.7 in /usr/local/lib/python3.11/dist-packages (from pandas->ta) (2025.1)\n",
            "Requirement already satisfied: six>=1.5 in /usr/local/lib/python3.11/dist-packages (from python-dateutil>=2.8.2->pandas->ta) (1.17.0)\n",
            "Building wheels for collected packages: ta\n",
            "  Building wheel for ta (setup.py) ... \u001b[?25l\u001b[?25hdone\n",
            "  Created wheel for ta: filename=ta-0.11.0-py3-none-any.whl size=29412 sha256=477480d8300c5648ba87b7ccbb04052a66dc70b62cd10e16598b9dbb69ed286b\n",
            "  Stored in directory: /root/.cache/pip/wheels/a1/d7/29/7781cc5eb9a3659d032d7d15bdd0f49d07d2b24fec29f44bc4\n",
            "Successfully built ta\n",
            "Installing collected packages: ta\n",
            "Successfully installed ta-0.11.0\n"
          ]
        }
      ]
    },
    {
      "cell_type": "code",
      "execution_count": 8,
      "metadata": {
        "id": "6gGpH7A2NMp2"
      },
      "outputs": [],
      "source": [
        "#Importare le librerie\n",
        "import ta\n",
        "import pandas as pd\n",
        "from datetime import datetime\n",
        "import numpy as np\n",
        "import yfinance as yf\n",
        "import matplotlib.pyplot as plt\n",
        "import warnings\n",
        "warnings.filterwarnings(\"ignore\")\n",
        "#import MetaTrader5 as mt5\n",
        "#mt5.initialize()\n",
        "#from Chapter_88_MT5 import *\n",
        "import time"
      ]
    },
    {
      "cell_type": "code",
      "source": [
        "#Creiamo la strategia SMA utilizzando una funzione\n",
        "def SMA_strategy():\n",
        "  #Import feature engineering\n",
        "  df=MT5.get_data(\"EURUSD\",70)\n",
        "  #Creare una resistenza usando la funzione ROLLING_MAX\n",
        "  df[\"SMA_fast\"]=MT5.rolling_max(30).mean()\n",
        "  #Creare supporto utilizzando la funzione ROLLING_MIN\n",
        "  df[\"SMA_slow\"]=MT5.rolling_min(60).mean()\n",
        "\n",
        "  #Creare i segnali\n",
        "  condition_1_buy=df[\"SMA_fast\"].iloc [-1] > df[\"SMA_slow\"].iloc[-1]#con questo codice prendiamo L'ULTIMO VALORE[-1] creato dalla SMA per validare le condizioni di accesso\n",
        "  condition_2_sell=df[\"SMA_fast\".iloc[-1]] < df[\"SMA_slow\"].iloc[-1]\n",
        "\n",
        "  buy=condition_1_buy\n",
        "  sell=condition_1_sell\n",
        "\n",
        "  return buy,sell\n",
        "\n",
        "  #inserire la strategia su MT5 LIVE\n",
        "  mt5.initialize()\n",
        "  Live= True\n",
        "\n",
        "  if live():\n",
        "    current_account.info=mt5.account_info()\n",
        "    print(\"------------------------------\")\n",
        "print (f\"Date: {datetime.now()strftime(%Y-%m-%d-%H-%M-%S)}\")\n",
        "print (f\"Balance: {current_account_info_balance}\",USD \"\\t\")\n",
        "print (f\"Equity: {current_account_info_equity}\",USD \"\\t\")\n",
        "print (f\"Profit: {current_account_info_profit}\",USD \"\\t\")\n",
        "print (f\"Margin: {current_account_info_margin}\",USD \"\\t\")\n",
        "print(\"------------------------------------------------\")\n",
        "\n",
        "start=datetime.now()strftime (%H-%M-%S)#esempio:\"23:59:59\"\n",
        "while True:\n",
        "               #lanciare l'algoritmo\n",
        "               #Verifica di lancio\n",
        "               if datetime.now().weekday() not in (5,6)== start\n",
        "            else:\n",
        "               is_time= False\n",
        "\n",
        "               if is_time:\n",
        "               #chiudere il trade\n",
        "                  if mt5 position_total()>0:\n",
        "               MT5 close_all_night()\n",
        "\n",
        "               for assets in symbols_list.keys():\n",
        "                #Inizializzare gli inputs\n",
        "               symbol= symbol_list[asset][0]\n",
        "               lot= symbol_list[asset][1]\n",
        "               buy,sell= SMA_strategy()\n",
        "\n",
        "               #\"RUNNARE\" l'algoritmo\n",
        "               MT5.run(symbol, buy, sell,lot)\n",
        "\n"
      ],
      "metadata": {
        "id": "8hcBWQBBOlpU"
      },
      "execution_count": null,
      "outputs": []
    }
  ]
}