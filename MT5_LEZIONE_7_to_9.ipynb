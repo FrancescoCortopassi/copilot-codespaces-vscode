{
  "nbformat": 4,
  "nbformat_minor": 0,
  "metadata": {
    "colab": {
      "provenance": [],
      "authorship_tag": "ABX9TyNrTQKHBoVjLsLNduFRQ/Ez",
      "include_colab_link": true
    },
    "kernelspec": {
      "name": "python3",
      "display_name": "Python 3"
    },
    "language_info": {
      "name": "python"
    }
  },
  "cells": [
    {
      "cell_type": "markdown",
      "metadata": {
        "id": "view-in-github",
        "colab_type": "text"
      },
      "source": [
        "<a href=\"https://colab.research.google.com/github/FrancescoCortopassi/copilot-codespaces-vscode/blob/main/MT5_LEZIONE_7_to_9.ipynb\" target=\"_parent\"><img src=\"https://colab.research.google.com/assets/colab-badge.svg\" alt=\"Open In Colab\"/></a>"
      ]
    },
    {
      "cell_type": "markdown",
      "source": [
        "LEZIONE_7: METATRADER TERMINAL\n",
        "In questa lezione andiamo ad analizzare il terminal Metatrader (che io già conosco relativamente bene). Anche se il nostro interesse è incentrato sull' API di Python per interagire con MetaTrader è importante comprendere bene il funzionamento del terminal perché l'API riprenderà praticamente tutte le sue funzionalità\n",
        "\n",
        "1.L'API di Python è supportata solo dal Sistema Operativo WINDOWS\n",
        "2.Apertura del Terminal e visone generale\n",
        "2.Il NAVIGATOR PANNEL (il più importante)- da qui si apre l'ACCOUNT\n",
        "3.Market Watch (da qui si aggiungono i simboli con cui vogliamo lavorare)\n",
        "4.Le funzionalità delle CHARTS (i grafici)\n",
        "5.La definizione di PIP applicata al MARKET WATCH (PIP= la minima unità di misura convenzionale apprezzabile in un movimento di prezzo nel mercato forex. Per la maggior parte delle coppie un PIP equivale a 0.0001)\n",
        "6.Come fillare un'ordine manualmente dalla chart\n",
        "7.Il tasto NUOVO ORDINE ti permette di gestire l'ordine manualmente in maniera più accurata"
      ],
      "metadata": {
        "id": "V-pTDRCEHU_p"
      }
    },
    {
      "cell_type": "markdown",
      "source": [
        "#LEZIONE_8: PYTHON API per MT5\n",
        "1.Andiamo sulla sezione Documentazione di MT5 ed apriamo la sotto-sezione dedicata a MT5 con PYTHON\n",
        "2.Istallare MT5 su pyhton\n",
        "3.L'API di MT5 è diversa da quelle utilizzate da altri brokers (perchè python comunica direttamente con il terminal di MT5- il termninal comunica poi con il server, quindi sembrerebbe esserci un passaggio in più rispetto alle API dei broker)\n",
        "4.La funzione INITIALIZE\n",
        "5.Preparare su un file word il testo dell'inizzializzazione per i propri conti per essere più veloci nell'implementazione\n",
        "6.Si può salvare il file e richiamare il path tramite il modulo OS in questo modo:"
      ],
      "metadata": {
        "id": "SvIKHwqbbMab"
      }
    },
    {
      "cell_type": "code",
      "execution_count": null,
      "metadata": {
        "id": "EF9RhrphHAGy"
      },
      "outputs": [],
      "source": [
        "import os\n",
        "\n",
        "os.chdir(r\"C:\\Program Files\\MetaTrader 5\")\n",
        "key=open(\"key,txt\",\"r\").read().split(/)\n",
        "path= r\"C:\\Program Files\\MetaTrader 5\\terminal64.exe\"\n",
        "\n",
        "#Stabilire la connessione di MT5 ad uno specifico account\n",
        "if mt5 not initialize(login=int(key[0]),server=.\"FTMO-Demo2\",password= \".....\"):\n",
        "  print(\"connessione stabilita\")\n"
      ]
    },
    {
      "cell_type": "markdown",
      "source": [
        "Utilizzando prima del path la \"r\" non dovremo fare attenzione al tipo di \"slash\" da inserire nel path perché Python andrà a cercare da solo il metodo corretto per l'importazione del path.\n",
        "Successivamente si stabilisce la connessione a MT5 con le specifiche dell'account\n",
        "\n",
        "IMPORTANTE:Abbiamo inserito anche il path con il file .exe che dovrà eseguire il codice (credo..).Nella sezione INITIALIZE di MT5 for Python troviamo come prima variabile richiesta nella sezione \"Chiamata specificando il percorso e l'account di trading\" la variabile \"path\".Il percorso per trovare il path è il seguente: \\Questo pc\\Programmi\\MetaTrader5\\terminal64"
      ],
      "metadata": {
        "id": "WgAZQmH6Cuwl"
      }
    },
    {
      "cell_type": "markdown",
      "source": [
        "LEZIONE_9: DARWINEX\n",
        "In questa lezione si spiega come collegare la piatatforma MT5 con DARWINEX (per il trading Live) lavorando poi con l'API di Python.\n",
        "Questa lezione non è funzionale alla mia operatività quindi la bypasserò.\n",
        "REVISIONARE NEL PROSSIMO SEMESTRE (Giugno 2025)"
      ],
      "metadata": {
        "id": "AbOgIS72Wevy"
      }
    }
  ]
}