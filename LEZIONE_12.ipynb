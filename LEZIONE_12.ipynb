{
  "nbformat": 4,
  "nbformat_minor": 0,
  "metadata": {
    "colab": {
      "provenance": [],
      "authorship_tag": "ABX9TyOdCWsfHGAGLmBguZinopag",
      "include_colab_link": true
    },
    "kernelspec": {
      "name": "python3",
      "display_name": "Python 3"
    },
    "language_info": {
      "name": "python"
    }
  },
  "cells": [
    {
      "cell_type": "markdown",
      "metadata": {
        "id": "view-in-github",
        "colab_type": "text"
      },
      "source": [
        "<a href=\"https://colab.research.google.com/github/FrancescoCortopassi/copilot-codespaces-vscode/blob/main/LEZIONE_12.ipynb\" target=\"_parent\"><img src=\"https://colab.research.google.com/assets/colab-badge.svg\" alt=\"Open In Colab\"/></a>"
      ]
    },
    {
      "cell_type": "code",
      "execution_count": 1,
      "metadata": {
        "colab": {
          "base_uri": "https://localhost:8080/"
        },
        "id": "9Ia4KalGETcT",
        "outputId": "37a7886b-09d0-43bb-d152-00daf6f7731e"
      },
      "outputs": [
        {
          "output_type": "stream",
          "name": "stdout",
          "text": [
            "5+5 è uguale a 10\n"
          ]
        }
      ],
      "source": [
        "#condizione strutturale IF\n",
        "if 5+5 == 10:\n",
        "    print(\"5+5 è uguale a 10\")"
      ]
    },
    {
      "cell_type": "code",
      "source": [
        "#condizione struturale IF/ELSE\n",
        "if 5>10:\n",
        "    print(\"yes\")\n",
        "else:\n",
        "  print (\"no\")"
      ],
      "metadata": {
        "colab": {
          "base_uri": "https://localhost:8080/"
        },
        "id": "B_zWUSCAEeGb",
        "outputId": "6c213ecf-bbd6-46cc-b59c-d76a7ca06a3b"
      },
      "execution_count": 3,
      "outputs": [
        {
          "output_type": "stream",
          "name": "stdout",
          "text": [
            "no\n"
          ]
        }
      ]
    },
    {
      "cell_type": "code",
      "source": [
        "#condizione strutturale IF/ELSE/ELIF\n",
        "x =15\n",
        "if x>10:\n",
        "    print(\"x è maggiore di 10\")\n",
        "elif x<10:\n",
        "    print(\"x è minore di 10\")\n",
        "else:\n",
        "    print(\"x è uguale a 10\")\n"
      ],
      "metadata": {
        "colab": {
          "base_uri": "https://localhost:8080/"
        },
        "id": "dR4IstUuEh0u",
        "outputId": "02ad63f3-990f-46e5-fcd9-146029d6cfe5"
      },
      "execution_count": 8,
      "outputs": [
        {
          "output_type": "stream",
          "name": "stdout",
          "text": [
            "x è maggiore di 10\n"
          ]
        }
      ]
    },
    {
      "cell_type": "code",
      "source": [
        "import random\n",
        "\n",
        "numero= 20\n",
        "numero = random.randint(1,20)\n",
        "print(numero)\n",
        "if numero > 10:\n",
        "  print (f'Il numero è maggiore di 10')\n",
        "elif numero < 10:\n",
        "    print (f'Il numero è minore di 10')\n",
        "else:\n",
        "    print (f'Il numero è uguale a 10')"
      ],
      "metadata": {
        "colab": {
          "base_uri": "https://localhost:8080/"
        },
        "id": "2OoW3qstGg5H",
        "outputId": "24720af3-c2b5-4c90-a12c-3a8db7189093"
      },
      "execution_count": 19,
      "outputs": [
        {
          "output_type": "stream",
          "name": "stdout",
          "text": [
            "7\n",
            "Il numero è minore di 10\n"
          ]
        }
      ]
    },
    {
      "cell_type": "code",
      "source": [
        "#IN QUEST'ULTIMO CODICE ho creato un giochino carino utilizzando il modulo 'random'"
      ],
      "metadata": {
        "id": "4U4Y_MvFHXva"
      },
      "execution_count": 20,
      "outputs": []
    }
  ]
}