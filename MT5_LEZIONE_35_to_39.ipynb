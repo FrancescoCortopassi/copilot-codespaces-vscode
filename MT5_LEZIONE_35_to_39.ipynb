{
  "nbformat": 4,
  "nbformat_minor": 0,
  "metadata": {
    "colab": {
      "provenance": [],
      "authorship_tag": "ABX9TyMBD7w6cMWEcYZIdzij1nVq",
      "include_colab_link": true
    },
    "kernelspec": {
      "name": "python3",
      "display_name": "Python 3"
    },
    "language_info": {
      "name": "python"
    }
  },
  "cells": [
    {
      "cell_type": "markdown",
      "metadata": {
        "id": "view-in-github",
        "colab_type": "text"
      },
      "source": [
        "<a href=\"https://colab.research.google.com/github/FrancescoCortopassi/copilot-codespaces-vscode/blob/main/MT5_LEZIONE_35_to_39.ipynb\" target=\"_parent\"><img src=\"https://colab.research.google.com/assets/colab-badge.svg\" alt=\"Open In Colab\"/></a>"
      ]
    },
    {
      "cell_type": "markdown",
      "source": [
        "LEZIONE_35: ORDER SEND\n",
        "In questa lezione andiamo a vedere come inviare un'ordine all'API di MT5 tramite il modulo ORDER_SEND. Importante comprendere tutte le variabili che vengono richieste dall'API per poter fillare correttamente l'ordine, che adesso andremo a vedere una per una.\n",
        "NOTA: Il testo che segue è tratto direttamente dalla documentazione dell'API di Mt5, utilizzata anche nel corso\n",
        "\n",
        "**action**\n",
        "\n",
        "Tipo di operazione di trading. Il valore può essere uno dei valori dell'enumerazione TRADE_REQUEST_ACTIONS\n",
        "\n",
        "**magic**\n",
        "\n",
        "EA ID. Consente di organizzare la gestione analitica degli ordini di trading. Ogni EA può impostare un ID univoco quando invia una richiesta di trading\n",
        "\n",
        "**order**\n",
        "\n",
        "Ticket dell'ordine. Richiesto per modificare gli ordini pendenti\n",
        "\n",
        "**symbol**\n",
        "\n",
        "Il nome dello strumento di trading, per il quale viene piazzato l'ordine. Non richiesto per modificare ordini e chiudere posizioni\n",
        "\n",
        "volume **testo in grassetto**\n",
        "\n",
        "Volume richiesto di un affare(deal) in lotti. Un volume reale quando si fa un affare(deal) dipende dal tipo di esecuzione dell'ordine.\n",
        "\n",
        "**price**\n",
        "\n",
        "Prezzo al quale eseguire un ordine. Il prezzo non è fissato nel caso di ordini di mercato per strumenti di tipo \"Esecuzione a Mercato\" (SYMBOL_TRADE_EXECUTION_MARKET) avente il tipo TRADE_ACTION_DEAL\n",
        "\n",
        "**stoplimit**\n",
        "\n",
        "Un prezzo a cui viene impostato un ordine limit pendente quando il prezzo raggiunge il valore 'price' (questa condizione è obbligatoria). L'ordine pendente non viene passato al sistema di trading fino a quel momento\n",
        "\n",
        "**sl**\n",
        "\n",
        "Un prezzo per cui viene attivato un ordine Stop Loss quando il prezzo si sposta in una direzione sfavorevole\n",
        "\n",
        "**tp**\n",
        "\n",
        "Un prezzo per cui viene attivato un ordine Take Profit quando il prezzo si muove in una direzione favorevole\n",
        "\n",
        "**deviation**\n",
        "\n",
        "Deviazione massima accettabile dal prezzo richiesto, specificata in punti\n",
        "\n",
        "**type**\n",
        "\n",
        "Tipo di ordine. Il valore può essere uno dei valori dell'enumerazione ORDER_TYPE\n",
        "\n",
        "**type_filling**\n",
        "\n",
        "Tipo di riempimento dell'ordine. Il valore può essere uno dei valori ORDER_TYPE_FILLING\n",
        "\n",
        "**type_time**\n",
        "\n",
        "Tipo di ordine per scadenza. Il valore può essere uno dei valori ORDER_TYPE_TIME\n",
        "\n",
        "expiration **testo in grassetto**\n",
        "\n",
        "Tempo di espirazione(scadenza9 dell'ordine pendente (per tipo di ordini TIME_SPECIFIED)\n",
        "\n",
        "**comment**\n",
        "\n",
        "Commento ad un ordine\n",
        "\n",
        "**position**\n",
        "\n",
        "Ticket della posizione. Lo riempie quando si cambia e chiude una posizione per la sua chiara identificazione. Di solito, è lo stesso del ticket dell'ordine che ha aperto la posizione.\n",
        "\n",
        "**position_by**\n",
        "\n",
        "Ticket della posizione opposta. Viene utilizzato quando si chiude una posizione da una posizione opposta (aperta con lo stesso simbolo ma nella direzione opposta)."
      ],
      "metadata": {
        "id": "ofWilxRl3ymH"
      }
    },
    {
      "cell_type": "code",
      "source": [
        "#LEZIONE_35: ORDER SEND\n",
        "#scarichiamo le librerie necessarie e prepariamo l'environement per lavorare\n",
        "\n",
        "import MetaTrader5 as mt5\n",
        "import pandas as pd\n",
        "import datetime as dt\n",
        "import os"
      ],
      "metadata": {
        "id": "e3gEn2eOAKPL"
      },
      "execution_count": null,
      "outputs": []
    },
    {
      "cell_type": "code",
      "source": [
        "#Vediamo la funzione per piazzare un MARKET_ORDER considerando tutti i parametri (o attributi) elencati sopra\n",
        "\n",
        "#Inseriamo le richieste dellAPI per inviare ordini\n",
        "#su questa richiesta che abbiamo copia-incollato dalla documentazione, andiamo a creare una funzione MARKET_ORDER, così da inserire come parametro richiesto SYMBOL\n",
        "\n",
        "symbol = \"EURUSD\"  # Simbolo per l'ordine\n",
        "vol = 0.1  # Dimensione dell'ordine (in lotti)\n",
        "\n",
        "\n",
        "def market_order(symbol, vol):\n",
        "    if buy_sell.capitalize()[0]:\n",
        "        direction= MT5.ORDER_TYPE_BUY\n",
        "    else:\n",
        "        direction= MT5.ORDER_TYPE_SELL\n",
        "        request = {\n",
        "            \"action\": mt5.TRADE_ACTION_DEAL,#volendo piazzare un'ordine/mercato questo comando è esatto, ma il tipo di ordine è da valutare a seconda della strategia\n",
        "            \"symbol\": symbol,\n",
        "            \"volume\": vol,\n",
        "            \"price\":mt5.symbol_info_tick(symbol),\n",
        "            \"type\": mt5.ORDER_TYPE_BUY,\n",
        "            \"type_time\": mt5.ORDER_TIME_GTC,\n",
        "            \"type_filling\": mt5.ORDER_FILLING_RETURN,\n",
        "        }\n",
        "\n",
        "order_status= mt5.order_send(request)\n"
      ],
      "metadata": {
        "id": "KESlj16nALYi"
      },
      "execution_count": null,
      "outputs": []
    },
    {
      "cell_type": "code",
      "source": [
        "#Adesso andiamo a ricreare la stessa funzione ma per un'ORDER_LIMIT\n",
        "\n",
        "def limit_order(symbol, vol,buy_sell,pips_away): #PIPS_AWAY ci serve per fillare l'ordine non come ordine a mercato ma come PENDING, quindi l'ordine calcola\n",
        "                                                  #il prezzo partendo dal modulo symbol_info_tick e poi aggiunge i pips che noi andremo a definire come punto di ingreso a mercato\n",
        "    if buy_sell.capitalize()[0]== \"B\":\n",
        "        direction= MT5.ORDER_TYPE_BUY\n",
        "        price=10*mt5.symbol_info_tick (symbol).bid + pips_away*pip_unit\n",
        "    else:\n",
        "        direction= MT5.ORDER_TYPE_SELL_LIMIT\n",
        "        price=10*mt5.symbol_info_tick (symbol).ask + pips_away*pip_unit\n",
        "\n",
        "        request = {\n",
        "            \"action\": mt5.TRADE_ACTION_DEAL,#volendo piazzare un'ordine/mercato questo comando è esatto, ma il tipo di ordine è da valutare a seconda della strategia\n",
        "            \"symbol\": symbol_info,\n",
        "            \"volume\": volume,\n",
        "            \"price\":mt5.symbol_info_tick(\"EURUSD\").ask,\n",
        "            \"type\": mt5.ORDER_TYPE_BUY,\n",
        "            \"type_time\": mt5.ORDER_TIME_GTC,\n",
        "            \"type_filling\": mt5.ORDER_FILLING_RETURN,\n",
        "        }\n",
        "        order_status= mt5.order_send (request)\n",
        "        return order_status\n",
        "\n",
        "        market_order(\"EURUSD\",0.03)\n",
        "        limit_oredr (\"EURUSD\", 0.03, \"buy\",5)\n",
        "\n",
        "\n"
      ],
      "metadata": {
        "id": "BIddT33ousJr"
      },
      "execution_count": null,
      "outputs": []
    },
    {
      "cell_type": "markdown",
      "source": [
        "LEZIONE_36: BRACKET ORDERS\n",
        "Un BRACKET ORDER è un'ordine nel quale specificheremo sia lo SL che il TP\n",
        "È molto utilizzato dai trader nelmercato Forex perché consente una diretta gestione del rischio.\n",
        "\n",
        "Nella documentazione dell'API possiamo infatti notare come tra i vari ARGOMENTI (o PARAMETRI) che possiamo passare alla funzione abbiamo anche i parametri TP e SL.\n",
        "\n",
        "Questi dupe parametri (TP/SL) richiedono che si passi alla funzione un prezzo ben preciso e non il numero di pips, altrimenti l'argomento non verrà attivato correttamente\n",
        "\n"
      ],
      "metadata": {
        "id": "0mvPmbm4vTPq"
      }
    },
    {
      "cell_type": "code",
      "source": [
        "#Possiamo utilizzare la funzione creata per MARKET_ORDER e modificarla\n",
        "\n",
        "\n",
        "def place_braket_order(symbol, vol, tp, sl): #abbiamo inserito i NUOVI PARAMETRI\n",
        "    if buy_sell.capitalize()[0] == \"B\":\n",
        "        direction= MT5.ORDER_TYPE_BUY\n",
        "    else:\n",
        "        direction= MT5.ORDER_TYPE_SELL\n",
        "        request = {\n",
        "            \"action\": mt5.TRADE_ACTION_DEAL,#volendo piazzare un'ordine/mercato questo comando è esatto, ma il tipo di ordine è da valutare a seconda della strategia\n",
        "            \"symbol\": symbol,\n",
        "            \"volume\": vol,\n",
        "            \"price\":mt5.symbol_info_tick(symbol),\n",
        "            \"tp\": tp,\n",
        "            \"sl\": sl,\n",
        "            \"type\": mt5.ORDER_TYPE_BUY,\n",
        "            \"type_time\": mt5.ORDER_TIME_GTC,\n",
        "            \"type_filling\": mt5.ORDER_FILLING_RETURN,\n",
        "        }\n",
        "        place_braket_order (\"EURUSD\",0.03, 1.05515, 1.04500 )\n",
        "        place_braket_order_pip (\"EURUSD\",0.03, 10, 8 )\n",
        "        order_status= mt5.order_send (request)\n",
        "        return order_status"
      ],
      "metadata": {
        "id": "nYl8W2GKvS8w"
      },
      "execution_count": 18,
      "outputs": []
    },
    {
      "cell_type": "code",
      "source": [
        "#Adesso andiamo acreare la stessa funzione ma con la possibilità di inserire il RISK MANAGMENT in pips e non più\n",
        "#dovendo specificare il prezzo\n",
        "\n",
        "def place_braket_order_pip (symbol, vol, tp_pip, sl_pip): #abbiamo inserito i NUOVI PARAMETRI ma con la variazione legata ai PIP,\n",
        "\n",
        "    pip_unit=10*mt5.symbol_info (symbol).ask + pips_away*pip_unit                                                     # abbiamo cambiato il nome della funzione per riconoscibilità ed i parametri per adattarli alla nuova funzione con i PIP\n",
        "    if buy_sell.capitalize()[0] == \"B\":\n",
        "        direction= MT5.ORDER_TYPE_BUY\n",
        "        price= mt5.symbol_info_tick (symbol).ask\n",
        "        tp= - tp_pip*pip_unit\n",
        "        sl= + sl_pip*pip_unit\n",
        "    else:\n",
        "        direction= MT5.ORDER_TYPE_SELL\n",
        "        price= mt5.symbol_info_tick (symbol).ask\n",
        "        tp= + tp_pip*pip_unit\n",
        "        sl= - sl_pip*pip_unit\n",
        "\n",
        "        request = {\n",
        "            \"action\": mt5.TRADE_ACTION_DEAL,#volendo piazzare un'ordine/mercato questo comando è esatto, ma il tipo di ordine è da valutare a seconda della strategia\n",
        "            \"symbol\": symbol,\n",
        "            \"volume\": vol,\n",
        "            \"price\":mt5.symbol_info_tick(symbol),\n",
        "            \"tp\": tp,\n",
        "            \"sl\": sl,\n",
        "            \"type\": mt5.ORDER_TYPE_BUY,\n",
        "            \"type_time\": mt5.ORDER_TIME_GTC,\n",
        "            \"type_filling\": mt5.ORDER_FILLING_RETURN,\n",
        "        }\n",
        "        result=mt5.place_braket_order_pip (\"EURUSD\",0.03,10,8 )# I PIP vengono calcolati in riferimento al prezzo d'ingresso dell'ordine\n",
        "\n"
      ],
      "metadata": {
        "id": "PoTEplPM0xm4"
      },
      "execution_count": null,
      "outputs": []
    },
    {
      "cell_type": "markdown",
      "source": [
        "#LEZIONE_37: CLOSING POSITIONS\n",
        "Questa operatività non è compresa nella documentazione.\n",
        "Dobbiamo usare la funzione CLOSE\n",
        "\n",
        "Il comando è veramente semplice: mt5.Cl\n"
      ],
      "metadata": {
        "id": "L1lE9lUsN2lX"
      }
    },
    {
      "cell_type": "code",
      "source": [
        "#LEZIONE_37: CLOSING POSITIONS\n",
        "#Il comando è veramente semplice\n",
        "\n",
        "mt5.Close (\"EURUSD\")"
      ],
      "metadata": {
        "id": "vcfobfZvO6Ty"
      },
      "execution_count": 5,
      "outputs": []
    },
    {
      "cell_type": "markdown",
      "source": [
        "LEZIONE_38:FETCHING POSITION AND ORDER DETAILS\n",
        "Vediamo il codice per estrarre la posizione ed i dettagli di un'ordine.\n",
        "Spesso prima di piazzare un'ordine dobbiamo verificare quali posizioni sono attive proprio per evitare ordini multipli o un drowdawn troppo penalizzante.\n",
        "\n",
        "Possiamo recuperare i dati su una posizione tramite il comando POSITION_GET:\n",
        "I parametri con cui poter chaiamre la posizione sono i seguenti:\n",
        "\n",
        "1.symbol=SYMBOL\n",
        "2.group=GROUP\n",
        "3.ticket=TICKET (che sarebbe il codice della posizione, molto specifico)"
      ],
      "metadata": {
        "id": "ofbvVOOxQdCq"
      }
    },
    {
      "cell_type": "code",
      "source": [
        "def get_position ():\n",
        "    position = mt5.positions_get ()\n",
        "    if len (position) > 0:\n",
        "        pos_df = pd.DataFrame (position, columns = positions [0].asdict ().Keys())\n",
        "        pos_df.time= pd.to_datetime (pos_df.time, unit = \"s\")\n",
        "        #pos_df.drop ([nomi delle colonne che vogliamo eliminare], axis=1-)-----questo comando non l'ho inserito perché non abbiamo un vero DataFrame\n",
        "        #su cui lavorare finché non comprendo come ottenere i dati di mercato dall'API MT5 con copy_rates_from_pos. Indichiamo anche l'axis (in questo caso \"colonne\")\n",
        "        #IMPORTANTE: Di default l'axis è 0, quindi se vogliamo utlizzare le colonne al posto delle righe dobbiano specificarlo\n",
        "        #pos_df.drop ([nomi delle colonne che vogliamo eliminare], axis=1-)-----questo comando non l'ho inserito perché non abbiamo un vero DataFrame\n",
        "        #su cui lavorare finché non comprendo come ottenere i dati di mercato dall'API MT5 con copy_rates_from_pos. Indichiamo anche l'axis (in questo caso \"colonne\")\n",
        "        #IMPORTANTE: Di default l'axis è 0, quindi se vogliamo utlizzare le colonne al posto delle righe dobbiano specificarlo\n",
        "    else:\n",
        "      pos_df = pd.DataFrame ()\n",
        "      return pos_df\n",
        "\n",
        ""
      ],
      "metadata": {
        "id": "PNf7ALZtO7fk"
      },
      "execution_count": 16,
      "outputs": []
    },
    {
      "cell_type": "markdown",
      "source": [
        "Per reciperare info sull'ordine utiliziamo ORDER_GET, che richiede gli stessi parametri del comando position_get.\n",
        "\n",
        "Possiamo quindi utilizzare la funzione precedente per trasformarla"
      ],
      "metadata": {
        "id": "9B8GUOOpaSpj"
      }
    },
    {
      "cell_type": "code",
      "source": [
        "#ORDER_GET\n",
        "def get_orders ():\n",
        "    order = mt5.orders_get ()\n",
        "    if len (order) > 0:\n",
        "        ord_df = pd.DataFrame (position, columns = positions [0].asdict ().Keys())\n",
        "        ord_df.time_setup= pd.to_datetime (pos_df.time, unit = \"s\")\n",
        "    else:\n",
        "      pos_df = pd.DataFrame ()\n",
        "      return pos_df"
      ],
      "metadata": {
        "id": "ILDRXJLmYsOQ"
      },
      "execution_count": 17,
      "outputs": []
    },
    {
      "cell_type": "markdown",
      "source": [
        "LEZIONE_39: MODIFYING ORDERS\n",
        "Vediamo come utilizzare l'API per mdificare un'ordine.\n",
        "Ovviamente potremo modificare solo ordini che non sono stati ancora eseguiti (PENDING_ORDERS).\n",
        "Se l'ordine non è stato ancora fillato posssiamo cambiare alcuni parametri come la size del lotto, sl e tp etc.\n",
        "Tuttavia (however), anche sui trades già eseguiti possiamo andare ad effettuare delle modifiche"
      ],
      "metadata": {
        "id": "SrkhZ26zdgAO"
      }
    },
    {
      "cell_type": "code",
      "source": [
        "#LEZIONE_39: MODIFYING ORDERS\n",
        "order= place_braket_order_pip (\"EURUSD\",0.03, 20, 40)\n",
        "\n",
        "#Creiamo la funzione per aggiornare TP e SL\n",
        "def update_tp_sl_pos(pos):\n",
        "    #inseriamo come parametro POS per indicare che lavoreremo su una particolare posizione\n",
        "    request = {\n",
        "            \"action\": mt5.TRADE_ACTION_SLTP,#cambiamo il tipo di azione da eseguire\n",
        "            \"symbol\": pos.symbol,\n",
        "            \"position\": int(pos.ticket),#la posizione deve essere un NUMERO_INTERO\n",
        "            \"tp\": tp_new,\n",
        "            \"sl\": sl_new,\n",
        "        }\n",
        "    pos = pos_df.iloc [pos_df.symbol == \"EURUSD\", :].iloc(0)\n",
        "    pos.ticket"
      ],
      "metadata": {
        "id": "ITDacJRhf-1m"
      },
      "execution_count": 21,
      "outputs": []
    },
    {
      "cell_type": "code",
      "source": [
        "#LEZIONE_39: MODIFY OPEN ORDER\n",
        "\n",
        "def modify_open_order (order, price):\n",
        "    request = {\n",
        "            \"action\": mt5.TRADE_ACTION_MODIFY,#cambiamo il tipo di azione da eseguire\n",
        "            \"symbol\": order.symbol,\n",
        "            \"order\": int(order.ticket),#anche il ticket dell'ordine deve essere un NUMERO_INTERO\n",
        "            \"tp\": tp_new,\n",
        "            \"sl\": sl_new,\n",
        "        }\n",
        "    result= mt5.order_send (request)\n",
        "    return (result)\n",
        "\n",
        "#modify_open_order (order,1.3350 )#abbiamo cambiato il prezzo dell'ordine"
      ],
      "metadata": {
        "id": "9ojit5m3piBB"
      },
      "execution_count": null,
      "outputs": []
    }
  ]
}