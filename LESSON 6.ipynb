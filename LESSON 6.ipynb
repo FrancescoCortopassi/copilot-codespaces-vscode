{
  "nbformat": 4,
  "nbformat_minor": 0,
  "metadata": {
    "colab": {
      "provenance": [],
      "toc_visible": true,
      "authorship_tag": "ABX9TyPe7hiQIREsoMNdbCMXslSH",
      "include_colab_link": true
    },
    "kernelspec": {
      "name": "python3",
      "display_name": "Python 3"
    },
    "language_info": {
      "name": "python"
    }
  },
  "cells": [
    {
      "cell_type": "markdown",
      "metadata": {
        "id": "view-in-github",
        "colab_type": "text"
      },
      "source": [
        "<a href=\"https://colab.research.google.com/github/FrancescoCortopassi/copilot-codespaces-vscode/blob/main/LESSON%206.ipynb\" target=\"_parent\"><img src=\"https://colab.research.google.com/assets/colab-badge.svg\" alt=\"Open In Colab\"/></a>"
      ]
    },
    {
      "cell_type": "markdown",
      "source": [
        "LESSON 6: STRINGS"
      ],
      "metadata": {
        "id": "p8m__Wz2thoB"
      }
    },
    {
      "cell_type": "code",
      "source": [
        "\"i'm an iformation\" #stringa semplice con doppio apice"
      ],
      "metadata": {
        "colab": {
          "base_uri": "https://localhost:8080/",
          "height": 36
        },
        "id": "YuMkTIWst3TZ",
        "outputId": "f2557544-f27f-4974-8029-21a6d086b2e5"
      },
      "execution_count": 2,
      "outputs": [
        {
          "output_type": "execute_result",
          "data": {
            "text/plain": [
              "\"i'm an iformation\""
            ],
            "application/vnd.google.colaboratory.intrinsic+json": {
              "type": "string"
            }
          },
          "metadata": {},
          "execution_count": 2
        }
      ]
    },
    {
      "cell_type": "code",
      "source": [
        "'i am another information' #stringa semplice con singolo apice. in questo caso non ho usato l'apostrofo per non creare un conflitto con l'apice"
      ],
      "metadata": {
        "colab": {
          "base_uri": "https://localhost:8080/",
          "height": 36
        },
        "id": "I1Jzfmh5uJF3",
        "outputId": "236769de-fa54-47ca-81c8-9c076e32d169"
      },
      "execution_count": 3,
      "outputs": [
        {
          "output_type": "execute_result",
          "data": {
            "text/plain": [
              "'i am another information'"
            ],
            "application/vnd.google.colaboratory.intrinsic+json": {
              "type": "string"
            }
          },
          "metadata": {},
          "execution_count": 3
        }
      ]
    },
    {
      "cell_type": "code",
      "source": [
        "print ('mean: 10% volatility : 10%') #per questa operazione si utilizza la funzione PRINT per visualizzare una stringa di codice"
      ],
      "metadata": {
        "colab": {
          "base_uri": "https://localhost:8080/"
        },
        "id": "NkczP8cTuJkl",
        "outputId": "dc602115-56bb-4b7d-befd-45e3dc3dc8f5"
      },
      "execution_count": 4,
      "outputs": [
        {
          "output_type": "stream",
          "name": "stdout",
          "text": [
            "mean: 10% volatility : 10%\n"
          ]
        }
      ]
    },
    {
      "cell_type": "code",
      "source": [
        "print ('mean: 10% \\t volatility : 10%') # con questo metodo chiamato TABULATION riusciamo a formattare in maniera più ordinata il codice di una stringa (\\t)"
      ],
      "metadata": {
        "colab": {
          "base_uri": "https://localhost:8080/"
        },
        "id": "bMOFx-3XuKAH",
        "outputId": "5f0e48a5-acc5-4cce-80c9-d1165c04fb6a"
      },
      "execution_count": 6,
      "outputs": [
        {
          "output_type": "stream",
          "name": "stdout",
          "text": [
            "mean: 10% \t volatility : 10%\n"
          ]
        }
      ]
    },
    {
      "cell_type": "code",
      "source": [],
      "metadata": {
        "id": "jXkzuqRYv8tD"
      },
      "execution_count": null,
      "outputs": []
    },
    {
      "cell_type": "code",
      "source": [
        "print ('mean: 10% \\n volatility : 10%')"
      ],
      "metadata": {
        "colab": {
          "base_uri": "https://localhost:8080/"
        },
        "id": "-hU8KjZ9uKid",
        "outputId": "2cb8981e-96d1-4592-a86b-6344de3b7fd8"
      },
      "execution_count": 7,
      "outputs": [
        {
          "output_type": "stream",
          "name": "stdout",
          "text": [
            "mean: 10% \n",
            " volatility : 10%\n"
          ]
        }
      ]
    },
    {
      "cell_type": "markdown",
      "source": [],
      "metadata": {
        "id": "vDF4zOwQwrTs"
      }
    },
    {
      "cell_type": "code",
      "source": [
        "print ('tesla stock price: 110$ at date 01-01-2010')# questo è un' esempio di string NON DINAMICA dove ogni volta dobbiamo inserire il dato manualmente se vogliamo aggiornarlo (il dato in questione è il prezzo di settimanale tesla )"
      ],
      "metadata": {
        "id": "g6oIjdXQuLD4"
      },
      "execution_count": null,
      "outputs": []
    },
    {
      "cell_type": "code",
      "source": [
        "print ('tesla stock price: {}$ at date {}'.format( 110, '01-01-2020,'))# in questo caso abbiamo utilizzato la funzione di formattazione base (meno utilizzata) anche se senza le VARIABILI non può essere aggiornata automaticamente"
      ],
      "metadata": {
        "colab": {
          "base_uri": "https://localhost:8080/"
        },
        "id": "5txcN1KiuLkE",
        "outputId": "3b9c91b6-77e4-4cff-f376-a2c324b81018"
      },
      "execution_count": 11,
      "outputs": [
        {
          "output_type": "stream",
          "name": "stdout",
          "text": [
            "tesla stock price: 110$ at date 01-01-2020,\n"
          ]
        }
      ]
    },
    {
      "cell_type": "code",
      "source": [
        "print (f\"tesla stock price: {110}$ at date {'01-01-2020'}\") #in questo caso abbiamo usato un metodo più 'moderno' per la formattazione dinamica, anteponendo alla stringa la lettera \"f\""
      ],
      "metadata": {
        "colab": {
          "base_uri": "https://localhost:8080/"
        },
        "id": "tQAsvkPKzAxZ",
        "outputId": "f81bd2e4-8ead-4329-8360-841ee75037d0"
      },
      "execution_count": 15,
      "outputs": [
        {
          "output_type": "stream",
          "name": "stdout",
          "text": [
            "tesla stock price: 110$ at date 01-01-2020\n"
          ]
        }
      ]
    },
    {
      "cell_type": "code",
      "source": [
        "#NOTA BENE SOPRA: In questo caso bisogna sempre fare attenzione alla gestione degli apici e dei doppi apici, utilizzando i doppi per aprire e chiudere la stringa ed i singoli apici per definire la data da visualizzare dinamicamente#"
      ],
      "metadata": {
        "id": "icmuOe2e0FPh"
      },
      "execution_count": 17,
      "outputs": []
    },
    {
      "cell_type": "code",
      "source": [
        "print (f\" tesla stock price: {'%.2f' % 110.9887655}$\") #in questo caso abbiamo voluto arrotndare un numero con un' estensione esadecimale troppo lunga (spesso i prezzi delle stocks sono rappresentati così)"
      ],
      "metadata": {
        "colab": {
          "base_uri": "https://localhost:8080/"
        },
        "id": "mHDS_nYN0rx6",
        "outputId": "f0e5e71b-b968-4345-8e5c-5cf4344e5ccf"
      },
      "execution_count": 27,
      "outputs": [
        {
          "output_type": "stream",
          "name": "stdout",
          "text": [
            " tesla stock price: 110.99$\n"
          ]
        }
      ]
    },
    {
      "cell_type": "code",
      "source": [
        "print (f\" tesla stock price: {'%.1f' % 110.9887655}$\") #cambiando il numero nella formula decidiamo di inserire o meno più numeri dopo la virgola"
      ],
      "metadata": {
        "colab": {
          "base_uri": "https://localhost:8080/"
        },
        "id": "hsdM9SW92KZy",
        "outputId": "ae37bd7e-8087-4e38-ac40-541e1b7af66d"
      },
      "execution_count": 25,
      "outputs": [
        {
          "output_type": "stream",
          "name": "stdout",
          "text": [
            " tesla stock price: 111.0$\n"
          ]
        }
      ]
    },
    {
      "cell_type": "code",
      "source": [
        "print (f\" tesla stock price: {'%.4f' % 110.9887655}$\")"
      ],
      "metadata": {
        "colab": {
          "base_uri": "https://localhost:8080/"
        },
        "id": "MYhxojoG2TMP",
        "outputId": "a15a3cdd-8766-458e-b317-6fc5fe9f6c97"
      },
      "execution_count": 26,
      "outputs": [
        {
          "output_type": "stream",
          "name": "stdout",
          "text": [
            " tesla stock price: 110.9888$\n"
          ]
        }
      ]
    },
    {
      "cell_type": "code",
      "source": [
        "\"i'm an information\" [0] #questa funzione si chiama SLICING (affettare) e permette di isolare una parte di stringa (in questo caso una lettera) ponendo la posizione della stessa con valore numerico all'interno delle quadre. ricordiamo che in Python al primo carattere di una stringa viene assegnato il valore \"0\""
      ],
      "metadata": {
        "colab": {
          "base_uri": "https://localhost:8080/",
          "height": 36
        },
        "id": "hqCAaPzo2Nyn",
        "outputId": "e4daed84-0bb0-476f-9ba0-f27fe8bb49a6"
      },
      "execution_count": 30,
      "outputs": [
        {
          "output_type": "execute_result",
          "data": {
            "text/plain": [
              "'i'"
            ],
            "application/vnd.google.colaboratory.intrinsic+json": {
              "type": "string"
            }
          },
          "metadata": {},
          "execution_count": 30
        }
      ]
    },
    {
      "cell_type": "code",
      "source": [
        "\"i'm an information\"[0:11] #in questo caso, volendo visualizzare una porzione di testo, dovrò indicare la cifra d'inizio e la fine considerando di contare anche gli spazi vuoti tra una parola e l'altra (tab)"
      ],
      "metadata": {
        "colab": {
          "base_uri": "https://localhost:8080/",
          "height": 36
        },
        "id": "5HdM5tqe3vLH",
        "outputId": "88e88a87-bb3a-4f2e-aac1-7b679b183648"
      },
      "execution_count": 33,
      "outputs": [
        {
          "output_type": "execute_result",
          "data": {
            "text/plain": [
              "\"i'm an info\""
            ],
            "application/vnd.google.colaboratory.intrinsic+json": {
              "type": "string"
            }
          },
          "metadata": {},
          "execution_count": 33
        }
      ]
    },
    {
      "cell_type": "markdown",
      "source": [],
      "metadata": {
        "id": "Z2grs2Gz0Uao"
      }
    }
  ]
}