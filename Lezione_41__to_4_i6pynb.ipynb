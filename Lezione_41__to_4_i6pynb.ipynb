{
  "nbformat": 4,
  "nbformat_minor": 0,
  "metadata": {
    "colab": {
      "provenance": [],
      "authorship_tag": "ABX9TyPgB7nJolwkQ5Z3uNXPLHVh",
      "include_colab_link": true
    },
    "kernelspec": {
      "name": "python3",
      "display_name": "Python 3"
    },
    "language_info": {
      "name": "python"
    }
  },
  "cells": [
    {
      "cell_type": "markdown",
      "metadata": {
        "id": "view-in-github",
        "colab_type": "text"
      },
      "source": [
        "<a href=\"https://colab.research.google.com/github/FrancescoCortopassi/copilot-codespaces-vscode/blob/main/Lezione_41__to_4_i6pynb.ipynb\" target=\"_parent\"><img src=\"https://colab.research.google.com/assets/colab-badge.svg\" alt=\"Open In Colab\"/></a>"
      ]
    },
    {
      "cell_type": "code",
      "execution_count": 88,
      "metadata": {
        "colab": {
          "base_uri": "https://localhost:8080/"
        },
        "id": "AUJHrybVn1Z-",
        "outputId": "2a4133e5-8248-46cb-829d-fa06e53adb75"
      },
      "outputs": [
        {
          "output_type": "stream",
          "name": "stderr",
          "text": [
            "\r[*********************100%***********************]  1 of 1 completed"
          ]
        },
        {
          "output_type": "stream",
          "name": "stdout",
          "text": [
            "Index(['^GSPC'], dtype='object', name='Ticker')\n"
          ]
        },
        {
          "output_type": "stream",
          "name": "stderr",
          "text": [
            "\n"
          ]
        }
      ],
      "source": [
        "#BETA RATIO: La statistica che indica la relazione tra la variazione il PORTAFOGLIO (strategie, trading assets, altro) ed un BENCHMARK che rappresenta un'indice (ad esempio l'SP500)\n",
        "#questo calcolo serve per comprendere quanto la variazione del portafloglio che gestiamo si discosti (positivamente/negativamente) dalla variazione di un indice di riferimento\n",
        "\n",
        "#ABSOLUTE VALUE:<1 BUONO: Il portafoglio ha una variazione INFERIORE a quello dell'indice di riferimento\n",
        "\n",
        "#ABSOLUTE VALUE:>1 NEGATIVO: Il portafoglio ha una variazione MAGGIORE a quello dell'indice di riferimento\n",
        "\n",
        "#Importare i dati per calcolare la covarianza tra il PORTAFOGLIO e l'INDICE\n",
        "import yfinance as yf\n",
        "import pandas as pd\n",
        "import numpy as np\n",
        "import matplotlib.pyplot as plt\n",
        "\n",
        "sp500= yf.download (\"^GSPC\")[\"Volume\"].pct_change(1)\n",
        "sp500.name=\"SP500\"\n",
        "print(sp500.columns)\n",
        "\n"
      ]
    },
    {
      "cell_type": "code",
      "source": [
        "df= yf.download (\"GOOG\", end= \"2023-01-01\")\n",
        "print (df)\n",
        "\n",
        "return_serie= df[\"Volume\"].pct_change(1).dropna()\n",
        "return_serie.name=\"return\"\n",
        "print (return_serie)\n"
      ],
      "metadata": {
        "colab": {
          "base_uri": "https://localhost:8080/"
        },
        "id": "xMP9mdgPtBlW",
        "outputId": "d1d45039-ad3b-4bed-9952-16c769316fdb"
      },
      "execution_count": 89,
      "outputs": [
        {
          "output_type": "stream",
          "name": "stderr",
          "text": [
            "\r[*********************100%***********************]  1 of 1 completed"
          ]
        },
        {
          "output_type": "stream",
          "name": "stdout",
          "text": [
            "Price           Close       High        Low       Open     Volume\n",
            "Ticker           GOOG       GOOG       GOOG       GOOG       GOOG\n",
            "Date                                                             \n",
            "2004-08-19   2.490186   2.582506   2.381485   2.481747  897427216\n",
            "2004-08-20   2.687981   2.707090   2.494156   2.506813  458857488\n",
            "2004-08-23   2.715032   2.816287   2.706346   2.748535  366857939\n",
            "2004-08-24   2.602609   2.769630   2.570346   2.760696  306396159\n",
            "2004-08-25   2.630652   2.680287   2.578039   2.604841  184645512\n",
            "...               ...        ...        ...        ...        ...\n",
            "2022-12-23  89.488457  89.777419  87.306303  87.306303   17815000\n",
            "2022-12-27  87.615196  89.179575  87.221614  88.990253   15470900\n",
            "2022-12-28  86.150452  88.203074  86.060778  87.186729   17879600\n",
            "2022-12-29  88.631538  89.045054  86.678556  86.718414   18280700\n",
            "2022-12-30  88.412331  88.511971  86.718412  87.052212   19190300\n",
            "\n",
            "[4625 rows x 5 columns]\n",
            "Ticker          GOOG\n",
            "Date                \n",
            "2004-08-20 -0.488697\n",
            "2004-08-23 -0.200497\n",
            "2004-08-24 -0.164810\n",
            "2004-08-25 -0.397363\n",
            "2004-08-26 -0.227859\n",
            "...              ...\n",
            "2022-12-23 -0.246917\n",
            "2022-12-27 -0.131580\n",
            "2022-12-28  0.155692\n",
            "2022-12-29  0.022433\n",
            "2022-12-30  0.049757\n",
            "\n",
            "[4624 rows x 1 columns]\n"
          ]
        },
        {
          "output_type": "stream",
          "name": "stderr",
          "text": [
            "\n"
          ]
        }
      ]
    },
    {
      "cell_type": "code",
      "source": [
        "#Adesso concateniamo i dati per avere la covarianza\n",
        "val= pd.concat((return_serie, sp500) ,axis=1).dropna()#abbiamo usato il metodo CONCAT a cui abbiamo dato come valori((i due asset che vogliamo concatenare)l'axis)\n",
        "val"
      ],
      "metadata": {
        "colab": {
          "base_uri": "https://localhost:8080/",
          "height": 455
        },
        "id": "V4gpIU77tvMG",
        "outputId": "14b520b8-23a9-468a-a13e-53f3de522c8c"
      },
      "execution_count": 90,
      "outputs": [
        {
          "output_type": "execute_result",
          "data": {
            "text/plain": [
              "Ticker          GOOG     ^GSPC\n",
              "Date                          \n",
              "2004-08-20 -0.488697 -0.039619\n",
              "2004-08-23 -0.200497 -0.148346\n",
              "2004-08-24 -0.164810  0.069087\n",
              "2004-08-25 -0.397363  0.091259\n",
              "2004-08-26 -0.227859 -0.141419\n",
              "...              ...       ...\n",
              "2022-12-23 -0.246917 -0.287512\n",
              "2022-12-27 -0.131580  0.074849\n",
              "2022-12-28  0.155692  0.017563\n",
              "2022-12-29  0.022433 -0.025892\n",
              "2022-12-30  0.049757 -0.007927\n",
              "\n",
              "[4624 rows x 2 columns]"
            ],
            "text/html": [
              "\n",
              "  <div id=\"df-ef7bff81-3a84-48c4-ad66-d3f53c49484c\" class=\"colab-df-container\">\n",
              "    <div>\n",
              "<style scoped>\n",
              "    .dataframe tbody tr th:only-of-type {\n",
              "        vertical-align: middle;\n",
              "    }\n",
              "\n",
              "    .dataframe tbody tr th {\n",
              "        vertical-align: top;\n",
              "    }\n",
              "\n",
              "    .dataframe thead th {\n",
              "        text-align: right;\n",
              "    }\n",
              "</style>\n",
              "<table border=\"1\" class=\"dataframe\">\n",
              "  <thead>\n",
              "    <tr style=\"text-align: right;\">\n",
              "      <th>Ticker</th>\n",
              "      <th>GOOG</th>\n",
              "      <th>^GSPC</th>\n",
              "    </tr>\n",
              "    <tr>\n",
              "      <th>Date</th>\n",
              "      <th></th>\n",
              "      <th></th>\n",
              "    </tr>\n",
              "  </thead>\n",
              "  <tbody>\n",
              "    <tr>\n",
              "      <th>2004-08-20</th>\n",
              "      <td>-0.488697</td>\n",
              "      <td>-0.039619</td>\n",
              "    </tr>\n",
              "    <tr>\n",
              "      <th>2004-08-23</th>\n",
              "      <td>-0.200497</td>\n",
              "      <td>-0.148346</td>\n",
              "    </tr>\n",
              "    <tr>\n",
              "      <th>2004-08-24</th>\n",
              "      <td>-0.164810</td>\n",
              "      <td>0.069087</td>\n",
              "    </tr>\n",
              "    <tr>\n",
              "      <th>2004-08-25</th>\n",
              "      <td>-0.397363</td>\n",
              "      <td>0.091259</td>\n",
              "    </tr>\n",
              "    <tr>\n",
              "      <th>2004-08-26</th>\n",
              "      <td>-0.227859</td>\n",
              "      <td>-0.141419</td>\n",
              "    </tr>\n",
              "    <tr>\n",
              "      <th>...</th>\n",
              "      <td>...</td>\n",
              "      <td>...</td>\n",
              "    </tr>\n",
              "    <tr>\n",
              "      <th>2022-12-23</th>\n",
              "      <td>-0.246917</td>\n",
              "      <td>-0.287512</td>\n",
              "    </tr>\n",
              "    <tr>\n",
              "      <th>2022-12-27</th>\n",
              "      <td>-0.131580</td>\n",
              "      <td>0.074849</td>\n",
              "    </tr>\n",
              "    <tr>\n",
              "      <th>2022-12-28</th>\n",
              "      <td>0.155692</td>\n",
              "      <td>0.017563</td>\n",
              "    </tr>\n",
              "    <tr>\n",
              "      <th>2022-12-29</th>\n",
              "      <td>0.022433</td>\n",
              "      <td>-0.025892</td>\n",
              "    </tr>\n",
              "    <tr>\n",
              "      <th>2022-12-30</th>\n",
              "      <td>0.049757</td>\n",
              "      <td>-0.007927</td>\n",
              "    </tr>\n",
              "  </tbody>\n",
              "</table>\n",
              "<p>4624 rows × 2 columns</p>\n",
              "</div>\n",
              "    <div class=\"colab-df-buttons\">\n",
              "\n",
              "  <div class=\"colab-df-container\">\n",
              "    <button class=\"colab-df-convert\" onclick=\"convertToInteractive('df-ef7bff81-3a84-48c4-ad66-d3f53c49484c')\"\n",
              "            title=\"Convert this dataframe to an interactive table.\"\n",
              "            style=\"display:none;\">\n",
              "\n",
              "  <svg xmlns=\"http://www.w3.org/2000/svg\" height=\"24px\" viewBox=\"0 -960 960 960\">\n",
              "    <path d=\"M120-120v-720h720v720H120Zm60-500h600v-160H180v160Zm220 220h160v-160H400v160Zm0 220h160v-160H400v160ZM180-400h160v-160H180v160Zm440 0h160v-160H620v160ZM180-180h160v-160H180v160Zm440 0h160v-160H620v160Z\"/>\n",
              "  </svg>\n",
              "    </button>\n",
              "\n",
              "  <style>\n",
              "    .colab-df-container {\n",
              "      display:flex;\n",
              "      gap: 12px;\n",
              "    }\n",
              "\n",
              "    .colab-df-convert {\n",
              "      background-color: #E8F0FE;\n",
              "      border: none;\n",
              "      border-radius: 50%;\n",
              "      cursor: pointer;\n",
              "      display: none;\n",
              "      fill: #1967D2;\n",
              "      height: 32px;\n",
              "      padding: 0 0 0 0;\n",
              "      width: 32px;\n",
              "    }\n",
              "\n",
              "    .colab-df-convert:hover {\n",
              "      background-color: #E2EBFA;\n",
              "      box-shadow: 0px 1px 2px rgba(60, 64, 67, 0.3), 0px 1px 3px 1px rgba(60, 64, 67, 0.15);\n",
              "      fill: #174EA6;\n",
              "    }\n",
              "\n",
              "    .colab-df-buttons div {\n",
              "      margin-bottom: 4px;\n",
              "    }\n",
              "\n",
              "    [theme=dark] .colab-df-convert {\n",
              "      background-color: #3B4455;\n",
              "      fill: #D2E3FC;\n",
              "    }\n",
              "\n",
              "    [theme=dark] .colab-df-convert:hover {\n",
              "      background-color: #434B5C;\n",
              "      box-shadow: 0px 1px 3px 1px rgba(0, 0, 0, 0.15);\n",
              "      filter: drop-shadow(0px 1px 2px rgba(0, 0, 0, 0.3));\n",
              "      fill: #FFFFFF;\n",
              "    }\n",
              "  </style>\n",
              "\n",
              "    <script>\n",
              "      const buttonEl =\n",
              "        document.querySelector('#df-ef7bff81-3a84-48c4-ad66-d3f53c49484c button.colab-df-convert');\n",
              "      buttonEl.style.display =\n",
              "        google.colab.kernel.accessAllowed ? 'block' : 'none';\n",
              "\n",
              "      async function convertToInteractive(key) {\n",
              "        const element = document.querySelector('#df-ef7bff81-3a84-48c4-ad66-d3f53c49484c');\n",
              "        const dataTable =\n",
              "          await google.colab.kernel.invokeFunction('convertToInteractive',\n",
              "                                                    [key], {});\n",
              "        if (!dataTable) return;\n",
              "\n",
              "        const docLinkHtml = 'Like what you see? Visit the ' +\n",
              "          '<a target=\"_blank\" href=https://colab.research.google.com/notebooks/data_table.ipynb>data table notebook</a>'\n",
              "          + ' to learn more about interactive tables.';\n",
              "        element.innerHTML = '';\n",
              "        dataTable['output_type'] = 'display_data';\n",
              "        await google.colab.output.renderOutput(dataTable, element);\n",
              "        const docLink = document.createElement('div');\n",
              "        docLink.innerHTML = docLinkHtml;\n",
              "        element.appendChild(docLink);\n",
              "      }\n",
              "    </script>\n",
              "  </div>\n",
              "\n",
              "\n",
              "<div id=\"df-39057ea3-e167-4ca6-8876-beac0eb44431\">\n",
              "  <button class=\"colab-df-quickchart\" onclick=\"quickchart('df-39057ea3-e167-4ca6-8876-beac0eb44431')\"\n",
              "            title=\"Suggest charts\"\n",
              "            style=\"display:none;\">\n",
              "\n",
              "<svg xmlns=\"http://www.w3.org/2000/svg\" height=\"24px\"viewBox=\"0 0 24 24\"\n",
              "     width=\"24px\">\n",
              "    <g>\n",
              "        <path d=\"M19 3H5c-1.1 0-2 .9-2 2v14c0 1.1.9 2 2 2h14c1.1 0 2-.9 2-2V5c0-1.1-.9-2-2-2zM9 17H7v-7h2v7zm4 0h-2V7h2v10zm4 0h-2v-4h2v4z\"/>\n",
              "    </g>\n",
              "</svg>\n",
              "  </button>\n",
              "\n",
              "<style>\n",
              "  .colab-df-quickchart {\n",
              "      --bg-color: #E8F0FE;\n",
              "      --fill-color: #1967D2;\n",
              "      --hover-bg-color: #E2EBFA;\n",
              "      --hover-fill-color: #174EA6;\n",
              "      --disabled-fill-color: #AAA;\n",
              "      --disabled-bg-color: #DDD;\n",
              "  }\n",
              "\n",
              "  [theme=dark] .colab-df-quickchart {\n",
              "      --bg-color: #3B4455;\n",
              "      --fill-color: #D2E3FC;\n",
              "      --hover-bg-color: #434B5C;\n",
              "      --hover-fill-color: #FFFFFF;\n",
              "      --disabled-bg-color: #3B4455;\n",
              "      --disabled-fill-color: #666;\n",
              "  }\n",
              "\n",
              "  .colab-df-quickchart {\n",
              "    background-color: var(--bg-color);\n",
              "    border: none;\n",
              "    border-radius: 50%;\n",
              "    cursor: pointer;\n",
              "    display: none;\n",
              "    fill: var(--fill-color);\n",
              "    height: 32px;\n",
              "    padding: 0;\n",
              "    width: 32px;\n",
              "  }\n",
              "\n",
              "  .colab-df-quickchart:hover {\n",
              "    background-color: var(--hover-bg-color);\n",
              "    box-shadow: 0 1px 2px rgba(60, 64, 67, 0.3), 0 1px 3px 1px rgba(60, 64, 67, 0.15);\n",
              "    fill: var(--button-hover-fill-color);\n",
              "  }\n",
              "\n",
              "  .colab-df-quickchart-complete:disabled,\n",
              "  .colab-df-quickchart-complete:disabled:hover {\n",
              "    background-color: var(--disabled-bg-color);\n",
              "    fill: var(--disabled-fill-color);\n",
              "    box-shadow: none;\n",
              "  }\n",
              "\n",
              "  .colab-df-spinner {\n",
              "    border: 2px solid var(--fill-color);\n",
              "    border-color: transparent;\n",
              "    border-bottom-color: var(--fill-color);\n",
              "    animation:\n",
              "      spin 1s steps(1) infinite;\n",
              "  }\n",
              "\n",
              "  @keyframes spin {\n",
              "    0% {\n",
              "      border-color: transparent;\n",
              "      border-bottom-color: var(--fill-color);\n",
              "      border-left-color: var(--fill-color);\n",
              "    }\n",
              "    20% {\n",
              "      border-color: transparent;\n",
              "      border-left-color: var(--fill-color);\n",
              "      border-top-color: var(--fill-color);\n",
              "    }\n",
              "    30% {\n",
              "      border-color: transparent;\n",
              "      border-left-color: var(--fill-color);\n",
              "      border-top-color: var(--fill-color);\n",
              "      border-right-color: var(--fill-color);\n",
              "    }\n",
              "    40% {\n",
              "      border-color: transparent;\n",
              "      border-right-color: var(--fill-color);\n",
              "      border-top-color: var(--fill-color);\n",
              "    }\n",
              "    60% {\n",
              "      border-color: transparent;\n",
              "      border-right-color: var(--fill-color);\n",
              "    }\n",
              "    80% {\n",
              "      border-color: transparent;\n",
              "      border-right-color: var(--fill-color);\n",
              "      border-bottom-color: var(--fill-color);\n",
              "    }\n",
              "    90% {\n",
              "      border-color: transparent;\n",
              "      border-bottom-color: var(--fill-color);\n",
              "    }\n",
              "  }\n",
              "</style>\n",
              "\n",
              "  <script>\n",
              "    async function quickchart(key) {\n",
              "      const quickchartButtonEl =\n",
              "        document.querySelector('#' + key + ' button');\n",
              "      quickchartButtonEl.disabled = true;  // To prevent multiple clicks.\n",
              "      quickchartButtonEl.classList.add('colab-df-spinner');\n",
              "      try {\n",
              "        const charts = await google.colab.kernel.invokeFunction(\n",
              "            'suggestCharts', [key], {});\n",
              "      } catch (error) {\n",
              "        console.error('Error during call to suggestCharts:', error);\n",
              "      }\n",
              "      quickchartButtonEl.classList.remove('colab-df-spinner');\n",
              "      quickchartButtonEl.classList.add('colab-df-quickchart-complete');\n",
              "    }\n",
              "    (() => {\n",
              "      let quickchartButtonEl =\n",
              "        document.querySelector('#df-39057ea3-e167-4ca6-8876-beac0eb44431 button');\n",
              "      quickchartButtonEl.style.display =\n",
              "        google.colab.kernel.accessAllowed ? 'block' : 'none';\n",
              "    })();\n",
              "  </script>\n",
              "</div>\n",
              "\n",
              "  <div id=\"id_6e9a1845-1720-463d-a91e-59a2b97a552b\">\n",
              "    <style>\n",
              "      .colab-df-generate {\n",
              "        background-color: #E8F0FE;\n",
              "        border: none;\n",
              "        border-radius: 50%;\n",
              "        cursor: pointer;\n",
              "        display: none;\n",
              "        fill: #1967D2;\n",
              "        height: 32px;\n",
              "        padding: 0 0 0 0;\n",
              "        width: 32px;\n",
              "      }\n",
              "\n",
              "      .colab-df-generate:hover {\n",
              "        background-color: #E2EBFA;\n",
              "        box-shadow: 0px 1px 2px rgba(60, 64, 67, 0.3), 0px 1px 3px 1px rgba(60, 64, 67, 0.15);\n",
              "        fill: #174EA6;\n",
              "      }\n",
              "\n",
              "      [theme=dark] .colab-df-generate {\n",
              "        background-color: #3B4455;\n",
              "        fill: #D2E3FC;\n",
              "      }\n",
              "\n",
              "      [theme=dark] .colab-df-generate:hover {\n",
              "        background-color: #434B5C;\n",
              "        box-shadow: 0px 1px 3px 1px rgba(0, 0, 0, 0.15);\n",
              "        filter: drop-shadow(0px 1px 2px rgba(0, 0, 0, 0.3));\n",
              "        fill: #FFFFFF;\n",
              "      }\n",
              "    </style>\n",
              "    <button class=\"colab-df-generate\" onclick=\"generateWithVariable('val')\"\n",
              "            title=\"Generate code using this dataframe.\"\n",
              "            style=\"display:none;\">\n",
              "\n",
              "  <svg xmlns=\"http://www.w3.org/2000/svg\" height=\"24px\"viewBox=\"0 0 24 24\"\n",
              "       width=\"24px\">\n",
              "    <path d=\"M7,19H8.4L18.45,9,17,7.55,7,17.6ZM5,21V16.75L18.45,3.32a2,2,0,0,1,2.83,0l1.4,1.43a1.91,1.91,0,0,1,.58,1.4,1.91,1.91,0,0,1-.58,1.4L9.25,21ZM18.45,9,17,7.55Zm-12,3A5.31,5.31,0,0,0,4.9,8.1,5.31,5.31,0,0,0,1,6.5,5.31,5.31,0,0,0,4.9,4.9,5.31,5.31,0,0,0,6.5,1,5.31,5.31,0,0,0,8.1,4.9,5.31,5.31,0,0,0,12,6.5,5.46,5.46,0,0,0,6.5,12Z\"/>\n",
              "  </svg>\n",
              "    </button>\n",
              "    <script>\n",
              "      (() => {\n",
              "      const buttonEl =\n",
              "        document.querySelector('#id_6e9a1845-1720-463d-a91e-59a2b97a552b button.colab-df-generate');\n",
              "      buttonEl.style.display =\n",
              "        google.colab.kernel.accessAllowed ? 'block' : 'none';\n",
              "\n",
              "      buttonEl.onclick = () => {\n",
              "        google.colab.notebook.generateWithVariable('val');\n",
              "      }\n",
              "      })();\n",
              "    </script>\n",
              "  </div>\n",
              "\n",
              "    </div>\n",
              "  </div>\n"
            ],
            "application/vnd.google.colaboratory.intrinsic+json": {
              "type": "dataframe",
              "variable_name": "val",
              "summary": "{\n  \"name\": \"val\",\n  \"rows\": 4624,\n  \"fields\": [\n    {\n      \"column\": \"Date\",\n      \"properties\": {\n        \"dtype\": \"date\",\n        \"min\": \"2004-08-20 00:00:00\",\n        \"max\": \"2022-12-30 00:00:00\",\n        \"num_unique_values\": 4624,\n        \"samples\": [\n          \"2009-08-21 00:00:00\",\n          \"2017-08-04 00:00:00\",\n          \"2010-12-09 00:00:00\"\n        ],\n        \"semantic_type\": \"\",\n        \"description\": \"\"\n      }\n    },\n    {\n      \"column\": \"GOOG\",\n      \"properties\": {\n        \"dtype\": \"number\",\n        \"std\": 0.6905713610006498,\n        \"min\": -0.9974637796339706,\n        \"max\": 33.66394340010639,\n        \"num_unique_values\": 4624,\n        \"samples\": [\n          -0.10963014708292185,\n          -0.09995841995841992,\n          0.06374864593427576\n        ],\n        \"semantic_type\": \"\",\n        \"description\": \"\"\n      }\n    },\n    {\n      \"column\": \"^GSPC\",\n      \"properties\": {\n        \"dtype\": \"number\",\n        \"std\": 0.20541924466869715,\n        \"min\": -0.7611547552570586,\n        \"max\": 3.2346048780487804,\n        \"num_unique_values\": 4613,\n        \"samples\": [\n          0.04422382869974295,\n          -0.15171067473278432,\n          0.3673453196280436\n        ],\n        \"semantic_type\": \"\",\n        \"description\": \"\"\n      }\n    }\n  ]\n}"
            }
          },
          "metadata": {},
          "execution_count": 90
        }
      ]
    },
    {
      "cell_type": "markdown",
      "source": [
        "ATTENZIONE: Spesso l'output che genero è differente da quello del corso perché\n",
        "io devo ricreare l'ambiente di lavoro per ogni Capitolo del corso, ed alcune volte faccio ancora un pò di confusione"
      ],
      "metadata": {
        "id": "QIHosYcFuyrU"
      }
    },
    {
      "cell_type": "code",
      "source": [
        "#Adesso calcoliamo il BETA\n",
        "cov_var_mat= np.cov(val.values, rowvar=False)#prima creiamo la variabile per effettuare il calcolo di covarianza dell' oggetto VAL (.VALUES riguarda tutti i valori all'intero di VAL(suppongo))\n",
        "\n",
        "cov= cov_var_mat[0][1]\n",
        "\n",
        "\n",
        "print(cov_var_mat)"
      ],
      "metadata": {
        "colab": {
          "base_uri": "https://localhost:8080/"
        },
        "id": "NwieyYxzvEOd",
        "outputId": "366b37a0-13ab-441e-da04-762111c6cc4d"
      },
      "execution_count": 91,
      "outputs": [
        {
          "output_type": "stream",
          "name": "stdout",
          "text": [
            "[[0.4768888  0.03564813]\n",
            " [0.03564813 0.04219707]]\n"
          ]
        }
      ]
    },
    {
      "cell_type": "code",
      "source": [
        "#Il valore di output che ci interessa è il secondo valore in basso a sinistra (speculare al primo in alto a destra, dato che le matrici di varianza e covarianza sono simmetriche)\n",
        "#che è la COVARIANZA"
      ],
      "metadata": {
        "id": "Nlh457n31Kqx"
      },
      "execution_count": 92,
      "outputs": []
    },
    {
      "cell_type": "code",
      "source": [
        "#Adesso andiamo a mostrare solo il BETA, che si calcola dividendo la COVARIANZA con la VARIANZA. [FORMULA DI BETA]\n",
        "cov= cov_var_mat[0][1]\n",
        "var= cov_var_mat[1][1]\n",
        "\n",
        "beta= cov/var\n",
        "print(beta)\n"
      ],
      "metadata": {
        "colab": {
          "base_uri": "https://localhost:8080/"
        },
        "id": "naNoNa-d2G62",
        "outputId": "3a81abe7-4461-45f1-8693-940b22f3d1ce"
      },
      "execution_count": 93,
      "outputs": [
        {
          "output_type": "stream",
          "name": "stdout",
          "text": [
            "0.8448011141326834\n"
          ]
        }
      ]
    },
    {
      "cell_type": "markdown",
      "source": [
        "#NOTA BENE: Ho corretto il problema di OUTPUT che ho segnalato prima, e questo era dovuto al fatto che non avevo utilizzato la stessa colonna di dati (\"Volume\") per la covarianza. Penso di avere compreso meglio come richiamare con pandas una particolare colonna di dati, ma prima devo verificare (come fatto sopra) come sono indicizzate le colonne (print.(name.columns))"
      ],
      "metadata": {
        "id": "i-45NcMjzFBC"
      }
    },
    {
      "cell_type": "code",
      "source": [
        "#Adesso che ho ottenuto il dato di COVARIANZA ([0.03564813) posso utilizzarlo per manipolarlo secondo le mie necessità (es: calcolare la radice quadrata)\n",
        "sqrt_cov= np.sqrt(cov_var_mat[1][1])\n",
        "print(sqrt_cov)"
      ],
      "metadata": {
        "colab": {
          "base_uri": "https://localhost:8080/"
        },
        "id": "nHD9AchHzDd6",
        "outputId": "5c51c779-c797-434d-e40a-7f621b8cc90e"
      },
      "execution_count": 94,
      "outputs": [
        {
          "output_type": "stream",
          "name": "stdout",
          "text": [
            "0.20541924466869713\n"
          ]
        }
      ]
    },
    {
      "cell_type": "markdown",
      "source": [
        "LEZIONE 42: ALPHA RATIO"
      ],
      "metadata": {
        "id": "l789gb1g1J9g"
      }
    },
    {
      "cell_type": "code",
      "source": [
        "#LEZIONE 42: ALPHA RATIO: rappresenta la misura della performance di un portafoglio rispetto al valore atteso di una strategia,\n",
        "#calcolato in funzione del rischio assunto(BETA)\n",
        "\n",
        "#ALPHA VALUE:>0 BUONO: Il portafoglio ha una PERFORMANCE MIGLIORE (overperformance) a quella del valore atteso (in termini di risk_return)\n",
        "\n",
        "#ABSOLUTE VALUE:<0 NEGATIVO: Il portafoglio ha una PERFORMANCE PEGGIORE(outperformance) a quella del valore atteso (in termini di risk_return)\n"
      ],
      "metadata": {
        "id": "xKe9tgwu0-To"
      },
      "execution_count": 95,
      "outputs": []
    },
    {
      "cell_type": "code",
      "source": [
        "#Recuperare la mean (per il mio portafoglio (return_serie))\n",
        "mean= np.mean(return_serie)\n",
        "mean\n"
      ],
      "metadata": {
        "colab": {
          "base_uri": "https://localhost:8080/"
        },
        "id": "UcyyLW4y8uaN",
        "outputId": "3899089f-d714-46a0-af5f-3a5752a350b1"
      },
      "execution_count": 96,
      "outputs": [
        {
          "output_type": "execute_result",
          "data": {
            "text/plain": [
              "0.0746715230555773"
            ]
          },
          "metadata": {},
          "execution_count": 96
        }
      ]
    },
    {
      "cell_type": "code",
      "source": [
        "#Calcoliamo l'ALPHA di GOOGLE\n",
        "alpha= 252 * mean *(1-beta)\n",
        "alpha"
      ],
      "metadata": {
        "colab": {
          "base_uri": "https://localhost:8080/"
        },
        "id": "CcFwypuj1m8j",
        "outputId": "468ecb27-3309-4aa3-a8bb-7567bc6c49ef"
      },
      "execution_count": 97,
      "outputs": [
        {
          "output_type": "execute_result",
          "data": {
            "text/plain": [
              "2.920412170428792"
            ]
          },
          "metadata": {},
          "execution_count": 97
        }
      ]
    },
    {
      "cell_type": "markdown",
      "source": [
        "LEZIONE 43: DROWDAWN FUNCTION"
      ],
      "metadata": {
        "id": "FYl6FVFQ1P7M"
      }
    },
    {
      "cell_type": "code",
      "source": [
        "#DROWDAWN:Il drowdoawn definisce la misura del rischio di una strategia. Il MAXIMUM DROWDAWN è una metrica molto interessante perché misura la perdita massima\n",
        "#(in un dato periodo di tempo) di una strategia.Questo ci permette di comprendere quanto la strategia sia RISCHIOSA (in accordo con il nostro livello di rischio)\n",
        "\n",
        "#Creaiamo la funzione\n",
        "def drowdawn_function (serie):\n",
        "\n",
        "  #adesso calcoliamo la somma dei dati nella serie +1\n",
        "  cum=serie.dropna().cumsum() +1\n",
        "\n",
        "  #Come si nota dall'esempio l'output della funzione (accumulate_max) ci consegna un'altra lista in cui l'ultimo numero rappresenta sempre il massimo,\n",
        "#fino a che la serie non troverà un  numero maggiore (in questo caso >5)\n",
        "\n",
        "#Importiamo NUMPY per il calcolo del drowdawn massimo\n",
        "  import numpy as np\n",
        "  running_max=np.maximum.accumulate (cum) #utiliziamo il modulo MAXIMUM_ACCUMULATE\n",
        "\n",
        "  #Calcoliamo il drowdawn con questa formula: DROWDAWN/MAX DORWDAWN -1\n",
        "  drowdawn= cum/running_max-1\n",
        "  return drowdawn\n",
        "\n",
        "  #calcoliamo il drowdawn\n",
        "  drowdawn= drowdawn_function(return_serie)#Utilizziamo la DROWDAWN_FUNCTION ()\n",
        "  drowdawn()\n",
        "  plt.figure(figsize=(15,8))\n",
        "  plt.title(\"Drowdawn\")\n",
        "  plt.ylabel=(\"drowdawn %\")\n",
        "  plt.fill_between (drowdawn.index, drowdawn*100, 0,\n",
        "                  drowdawn, color= \"#CE5757\", alpha=0.65)\n",
        "  plt.show()\n",
        "\n",
        "\n"
      ],
      "metadata": {
        "id": "FGfM6d_f1m5e"
      },
      "execution_count": 98,
      "outputs": []
    },
    {
      "cell_type": "markdown",
      "source": [
        "IMPORTANTE: Controllare sempre l'indentazione del codice (soprattutto quando c'è Errorname), è davvero importante per mantenere il codice all'interno delle funzioni, delle classi o comunque degli oggetti che creiamo, altrimenti potrebbero non essere riconosciuto"
      ],
      "metadata": {
        "id": "DzE7z9k89BlD"
      }
    },
    {
      "cell_type": "code",
      "source": [
        "#Plottare la misura del grafico\n",
        "plt.figure(figsize=(15,8))"
      ],
      "metadata": {
        "colab": {
          "base_uri": "https://localhost:8080/",
          "height": 52
        },
        "id": "zWMWzmCl_8FS",
        "outputId": "4fc152d1-dc7f-4cee-f3ed-727d266c7fe0"
      },
      "execution_count": 99,
      "outputs": [
        {
          "output_type": "execute_result",
          "data": {
            "text/plain": [
              "<Figure size 1500x800 with 0 Axes>"
            ]
          },
          "metadata": {},
          "execution_count": 99
        },
        {
          "output_type": "display_data",
          "data": {
            "text/plain": [
              "<Figure size 1500x800 with 0 Axes>"
            ]
          },
          "metadata": {}
        }
      ]
    },
    {
      "cell_type": "code",
      "source": [
        "#TEST: Sto ricevendo un'errore di output quando vado a plottare il dorwdawn, quindi ho provato un test semplice\n",
        "#utilizzando il PLOT e vedendo cosa succedeva\n",
        "plt.plot(drowdawn)\n",
        "\n",
        "#Cambiare titolo\n",
        "plt.title(\"Drowdawn\")\n",
        "plt.ylabel=(\"drowdawn %\")"
      ],
      "metadata": {
        "colab": {
          "base_uri": "https://localhost:8080/",
          "height": 452
        },
        "id": "mRanPOJWFDrU",
        "outputId": "b95ecd19-ded7-4d00-e306-bad2c6fdd994"
      },
      "execution_count": 100,
      "outputs": [
        {
          "output_type": "display_data",
          "data": {
            "text/plain": [
              "<Figure size 640x480 with 1 Axes>"
            ],
            "image/png": "[encoded data removed]"
          },
          "metadata": {}
        }
      ]
    },
    {
      "cell_type": "markdown",
      "source": [],
      "metadata": {
        "id": "YB0OEzO6E84K"
      }
    },
    {
      "cell_type": "markdown",
      "source": [
        "LEZIONI DA COMPLETARE:45-46"
      ],
      "metadata": {
        "id": "16io13hlNvIt"
      }
    }
  ]
}