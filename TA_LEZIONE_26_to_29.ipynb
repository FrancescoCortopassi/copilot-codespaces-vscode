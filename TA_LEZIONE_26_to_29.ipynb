{
  "nbformat": 4,
  "nbformat_minor": 0,
  "metadata": {
    "colab": {
      "provenance": [],
      "authorship_tag": "ABX9TyNn0PCE/Cqx/EqWW+/uBkSW",
      "include_colab_link": true
    },
    "kernelspec": {
      "name": "python3",
      "display_name": "Python 3"
    },
    "language_info": {
      "name": "python"
    }
  },
  "cells": [
    {
      "cell_type": "markdown",
      "metadata": {
        "id": "view-in-github",
        "colab_type": "text"
      },
      "source": [
        "<a href=\"https://colab.research.google.com/github/FrancescoCortopassi/copilot-codespaces-vscode/blob/main/TA_LEZIONE_26_to_29.ipynb\" target=\"_parent\"><img src=\"https://colab.research.google.com/assets/colab-badge.svg\" alt=\"Open In Colab\"/></a>"
      ]
    },
    {
      "cell_type": "markdown",
      "source": [
        "#LEZIONE_26: OVERWIEV\n",
        "In questo capitolo si introduce l'analisi tecnica.\n",
        "Gli argomenti trattati saranno i seguenti:\n",
        "\n",
        "1.Techinal Analysis vs Fundamental Analysis\n",
        "2. Technical Annalysis and the Efficient Market Ipotesys\n",
        "3. Techinal Analysis -DO'S and DONT'S\n",
        "4. Forex Daytrading"
      ],
      "metadata": {
        "id": "F9jmscmN5AP9"
      }
    },
    {
      "cell_type": "markdown",
      "source": [
        "LEZIONE_27: TECHNICAL ANALYSIS vs FUNDAMENTAL ANALYSIS\n",
        "\n",
        "La prima cosa da definire di questi due metodi di studio ed analisi del mercato è il loro fine comune: l'obiettivo è sempre quello di prevedee i movimenti futuri del mercato per poter effettuare operazioni di speculazione sullo stesso.\n",
        "Le differenze tra queste due analisi sono molteplici, andiamole a vedere\n",
        "\n",
        "1.DATI: L'analisi tecnica si basa su dati storici, la fondamentale su dati finanziari (es: tassi di interesse,bilanci aziendali, fusioni&aqquisizioni) e su notizie di mercato\n",
        "2.PRICE DRIVEN: Nell'analisi tecnica il prezzo si suppone sia guidato da domanda ed offerta, mentre nella fondamentale il prezzo ha un suo fair value intrinseco (da approfondire)\n",
        "3. Pros & Cons: Nel video troviamo un'elenco per entrambe, ma riassumendo l'analisi tecnica funziona meglio quando non ci sono grosse manipolazioni da parte dei player più grandi e che è più accessibile a chi non ha conoscenze approfondite di finanza, l'analisi fondamentale richiede più dati, una sofisticazione maggiore e la\n",
        "4.Evidenze empiriche: Entrambe le analisi\n",
        "5.Teoria: Entrambe le analisi disputano intorno alla teoria dei Mercati efficienti\n",
        "6. Conclusioni: Ha senso lavorare mixando entrambe le strategie di analisi e non con un concetto \"una o l'altra\""
      ],
      "metadata": {
        "id": "5N3E8z-N6Bd3"
      }
    },
    {
      "cell_type": "markdown",
      "source": [
        "LEZIONE_28: TECHNICAL ANALYSIS AND THE EFFICIENT MARKET HIPOTESYS (EMH)\n",
        "Come abbiamo visto nl'ANALISI TECNICA è una metodologia di studio dei mercati che ipotizza una relazione tra i prezzi passati e quelli presenti, concentrandosi quindi sull'analisi dei dati storici e sui volumi passati. Quelloc che si cerca di ottenere con questo tipo di analisi è un ritorno \"anormale\" dal mercato\n",
        "\n",
        "Nella teoria dei mercati efficienti si ipotizza invece che i prezzi già contengano al loro interno tutte le informazioni di cui possiamo beneficiare, e che quindi sono sempre esatti e non inclini ad inefficienze. Quest'ipotesi quindi asserisce che sia impossibile \"battere i mercati di riferimento\"(benchmark) con l'analisi tecnica.\n",
        "\n",
        "In definitiva, secondo la T.A i prezzi sonojì influenzati dal passato, secondo l'analisi fondamentale no\n",
        "\n",
        "CHI HA RAGIONE? Gli studi accademici hanno dimostrato evidenze a supporto di entrambe le tesi e la discussione tra i ostenitori di una e dell'altra ipostesi vanno avanti da decadi.\n",
        "Una cosa sicura è che adesso i mercati sviluppati sono molto più efficenti dei mercati non sviluppati.\n",
        "Due punti importanti vanno tenuti in considerazione:\n",
        "+Non tutti i partecipanti ai mercati hanno le stesse informazioni\n",
        "+Spesso le decisioni degli opeeratori non seguono logiche razionali (financial behavior)\n"
      ],
      "metadata": {
        "id": "88zhxFWk892t"
      }
    },
    {
      "cell_type": "markdown",
      "source": [
        "LEZIONE_28: PROPER USE OF TECHNICAL ANALYSIS (TA/FA)\n",
        "\n",
        "CONFERMATION BIAS: La prima cosa da definire è che nessun indicatore tecnico utilizzato singolarmente può avere una qualsiasi valenza predittiva. Solamente la combinazione di più fattori possono funzionare poichè possono confermare una visione fondamentale (per esempio che il mercato sta convergendo verso la media dopo un periodo di distacco). Dobbiamo trovare sempre altri indicatori che confermano quanto accaduto in passato ed avvalorano la nostra visione per la scelta presente\n",
        "\n",
        "OVERCONFIDENCE BIAS:L'nalisi tecnica non ha da sola la capacità predittiva ma solamente un'analisi statistica del passato per poter prendere decisioni solide nel presente. Spesso i traders che si affidano alla T.A sviluppano una confidenza eccessiva nei confronti di questo tipo di analisi, andando a scommettere su predizioni che non hanno solide fondamente analitiche (EMH)\n",
        "\n",
        "SI PUò OTTENERE UN PICCOLO VANTAGGIO COMPETITIVO SE:\n",
        "-Si prendono in considerazione diversi indicatori ed altri tool (FA)\n",
        "-Si backtestano rigorosamente le strategie\n",
        "-Si monitorano e controllano da vicino le metriche di performance e la gestione\n",
        "Questo tipo di gestione ed utilizzo della T.A può permetterci di avere un buon risultato nel lungo periodo\n",
        "\n",
        "DOMANDA: COME CAPITALIZZARE DALLE INFORMAZIONI CHE HO SULLA T.A\n",
        "\n",
        "RISPOSTA:  ALGORITHMIC DAY TRADING\n",
        "Comprare e rivendere assets entro la stessa giornata di trading\n",
        "CARATTERISTICHE DESIDERATE:\n",
        "-Possibilità di shortare sugli assets\n",
        "-costi di trading/transazione bassi\n",
        "-alta volatilità dei prezzi\n",
        "\n",
        "MIGLIORI ASSETS: Forex/CFD\n",
        "\n",
        "\n",
        "\n",
        "\n",
        "\n"
      ],
      "metadata": {
        "id": "KFecr_NVCAr6"
      }
    },
    {
      "cell_type": "markdown",
      "source": [
        "LEZIONE_29: INTRODUZIONE AL FOREX\n",
        "In questa lezione andiamo a comprendere alcune info sul mercato del forex.\n",
        "\n",
        "PREZZI: Ogni asset ha un prezzo BID (acquisto) ed un prezzo ASK (vendita), e la differenza che c'è tra questi due prezzi si chiama SPREAD\n",
        "\n",
        "FOREX: I vantaggi del mercato forex sono 3: LIQUIDITà, VOLATILITà e SPREADS STRETTI"
      ],
      "metadata": {
        "id": "__O3mJytJES4"
      }
    }
  ]
}