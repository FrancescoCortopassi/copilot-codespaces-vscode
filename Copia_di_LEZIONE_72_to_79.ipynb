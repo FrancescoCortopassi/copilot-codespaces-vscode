{
  "nbformat": 4,
  "nbformat_minor": 0,
  "metadata": {
    "colab": {
      "provenance": [],
      "authorship_tag": "ABX9TyP0N4QrJ64TFfzkwOT6cbtA",
      "include_colab_link": true
    },
    "kernelspec": {
      "name": "python3",
      "display_name": "Python 3"
    },
    "language_info": {
      "name": "python"
    }
  },
  "cells": [
    {
      "cell_type": "markdown",
      "metadata": {
        "id": "view-in-github",
        "colab_type": "text"
      },
      "source": [
        "<a href=\"https://colab.research.google.com/github/FrancescoCortopassi/copilot-codespaces-vscode/blob/main/Copia_di_LEZIONE_72_to_79.ipynb\" target=\"_parent\"><img src=\"https://colab.research.google.com/assets/colab-badge.svg\" alt=\"Open In Colab\"/></a>"
      ]
    },
    {
      "cell_type": "code",
      "execution_count": null,
      "metadata": {
        "id": "66fU4lMd_gX0"
      },
      "outputs": [],
      "source": [
        "#LEZIONE_72: In questo capitolo andiamo a vedere come implementare le nostre strategie di trading\n",
        "#sviluppate con Python su MT5, e come RUNNARE una strategia di trading algoritmico"
      ]
    },
    {
      "cell_type": "code",
      "source": [
        "#LEZIONE_73: Questa lezione ci mostra come installare le librerie su Jupyter notebook.\n",
        "#Ho osservato la lezione ma adesso non è necessaria al mio studio su Colab, quindi la\n",
        "#testerò in seguito\n",
        "\n",
        "#ESEMPIO\n",
        "#import sis\n",
        "#{sys.executable}- m pip install numpy== 1.19.2 --user\n",
        "\n",
        "#Volendo cambiare libreria basta utilizzare questo codice cambiando il nome della libreria nella seconda linea\n",
        "\n",
        "#Intanto istalliamo la libreria di MetaTrader5\n",
        "!pip install MetaTrader5\n"
      ],
      "metadata": {
        "colab": {
          "base_uri": "https://localhost:8080/"
        },
        "id": "K423DtBYAhkZ",
        "outputId": "c119c45e-deab-4d1a-9f2d-c3e581d734e0"
      },
      "execution_count": null,
      "outputs": [
        {
          "output_type": "stream",
          "name": "stdout",
          "text": [
            "\u001b[31mERROR: Could not find a version that satisfies the requirement MetaTrader5 (from versions: none)\u001b[0m\u001b[31m\n",
            "\u001b[0m\u001b[31mERROR: No matching distribution found for MetaTrader5\u001b[0m\u001b[31m\n",
            "\u001b[0m"
          ]
        }
      ]
    },
    {
      "cell_type": "code",
      "source": [
        "#LEZIONE_74: Come installare e configurare la piattaforma MT5\n",
        "#Considerando che io ho già installato MT5, analizzerò solo la parte a me necessaria\n",
        "\n",
        "#STEP 1: Scaricare la piattaforma dal sito di METAQUOTES\n",
        "#STEP 2: Attivare ALGO TRADING\n",
        "#STEP 3: Cliccare su Tools---Opzioni----Expert Advisor (abilitare tutte le opzioni che permettano il trading algoritmico)\n",
        "#STEP 4: Aggiungere i simboli necesari sul Market Watch\n"
      ],
      "metadata": {
        "id": "znNNL9t0B1ug"
      },
      "execution_count": null,
      "outputs": []
    },
    {
      "cell_type": "code",
      "source": [
        "from re import S\n",
        "#LEZIONE_75: Come importare i dati in MT5\n",
        "#importiamo le librerie\n",
        "import warnings\n",
        "from datetime import datetime\n",
        "import pandas as pd\n",
        "#import MetaTrader5 as mt5\n",
        "warnings.filterwarnings(\"ignore\")\n",
        "#mt5.initialize()\n",
        "\n",
        "#Creiamo la funzione per importare i dati del simbolo selezionato\n",
        "class MT5:\n",
        "  def get_data(symbol, n, time_frame=mt5.TIMEFRAME_D1):\n",
        "    #Inizializzare la connessione\n",
        "    mt5.initialize()\n",
        "\n",
        "    #Estrarre dati correnti (current data)\n",
        "    utc_from= datetime.now\n",
        "\n",
        "    #Importare i dati in  una Tupla\n",
        "    rates=mt5.copy_rates(symbol,timeframe,utc_from,n)#\"n\" sta per il numero di dati che vogliamo importare, quindi con tutta probabilità andrà sostituito con una cifra\n",
        "\n",
        "    #Convertire \"time\" in secondi\n",
        "    rates_frame[\"time\"]= pd.to_datetime(rates_frame[\"time\"], unit=\"s\")\n",
        "\n",
        "    #Convertire la colonna \"Time\" nel giusto formato\n",
        "    rates_frame[\"time\"]= pd.to_datetime(rates_frame[\"time\"],format=\"%Y%-%m-%d\")#\"format\" serve per scegliere il formato per la data, che in questo caso è \"anno-mese-giorno\"\n",
        "\n",
        "    #Settare la colonna \"Time\" come l'indice del DataFrame\n",
        "    rates_frame= rates_frame.set_index(\"time\")\n",
        "    return rates_frame\n",
        "\n",
        "    #Convertire i dati in un DataFrame\n",
        "    rates_frame= pd.DataFrame(rates)\n",
        "\n",
        "    #Chiudere la connessione\n",
        "    mt5.shutdown()\n",
        "\n",
        "    #Ritornare i dati\n",
        "    return rates_frame\n",
        "\n",
        "    #Per ottenere i dati dobbiamo RICHIAMARE LA CLASSE (MT5) ed inserire come valori (\"simobolo\", numero di dati che vogliamo importare)\n",
        "    MT5.get_data(\"EURUSD\",100)\n"
      ],
      "metadata": {
        "id": "RbL83i2KEUhH"
      },
      "execution_count": null,
      "outputs": []
    },
    {
      "cell_type": "code",
      "source": [
        "#LEZIONE_76: Inviare ordini a mercato utilizzando Python\n",
        "def order(symbol, lot,buy=True, id_position=None): #i primi due parametri SONO NECESSARI (simbolo, lotto), gli altri sono FACOLTATIVI\n",
        "  \"\"\"Send the orders\"\"\"\n",
        "\n",
        "  #Inizializzare la connessione se non presente\n",
        "  mt5.initialize()\n",
        "\n",
        "  #ottenere il \"filling mode\"\n",
        "  filling.mode= mt5.symbol_info (symbol).filling_mode -1\n",
        "\n",
        "  #Chiedere il prezzo ask\n",
        "  ask_price= mt5.symbol_info_tick(symbol).ask\n",
        "\n",
        "  #Chiedere il prezzo bid\n",
        "  bid_price= mt5.symbol_info_tick(symbol).bid\n",
        "\n",
        "  #Prendere il punto dell'asset (take the point of the asset)\n",
        "  point=mt5.symbol_info(symbol).id_position\n",
        "\n",
        "  deviation= 20 #mt5 get_slippage(symbol)\n",
        "\n",
        "  #ADESSO LA PARTE OPERATIVA\n",
        "  if id_position== None:\n",
        "\n",
        "    #Parametri per l'order BUY\n",
        "    if buy:\n",
        "      type_trade= mt5.ORDER_TYPE_BUY\n",
        "      sl= ask_price*(1-0.01)\n",
        "      tp= ask_price*(1+0.01)\n",
        "\n",
        "      #Parametri per ordine SELL\n",
        "    else:\n",
        "      type_trade= mt5.ORDER_TYPE_SELL\n",
        "      sl= bid_price*(1+0.01)\n",
        "      tp= bid_price*(1-0.01)\n",
        "\n",
        "      #Aprire il trade\n",
        "      request= {\n",
        "        \"action\": mt5.TRADE_ACTION_DEAL,\n",
        "        \"symbol\": symbol,\n",
        "        \"volume\": lot,\n",
        "        \"type\": type_trade,\n",
        "        \"price\": ask_price,\n",
        "        \"sl\": sl,\n",
        "        \"tp\": tp,\n",
        "        \"deviation\": deviation,\n",
        "        \"magic\":234000,\n",
        "        \"comment\": \"Python script order\",\n",
        "        \"type_time\": mt5.ORDER_TIME_GTC,\n",
        "        \"type_filling\": filling_mode\n",
        "      }\n",
        "      #Inviare una richiesta d'ordine\n",
        "      order_result=mt5.order_send(request)\n",
        "      return order_send\n",
        "\n",
        "      #Preparare l'ordine di chiusura (si tratta di effettuare un'ordine opposto per chiudere il trade, quindi se\n",
        "      #abbiamo comprato l'ordine di chiusura è un'ordine di vendita)\n",
        "    else:\n",
        "      type_trade= mt5.ORDER_TYPE_SELL\n",
        "      price=\"bid price\"\n",
        "\n",
        "    else:\n",
        "      type_trade= mt5.ORDER_TYPE_BUY\n",
        "      price=\"ask price\"\n",
        "\n",
        "      #Chiudere la posizione\n",
        "      request= {\n",
        "        \"action\": mt5.TRADE_ACTION_DEAL,\n",
        "        \"symbol\": symbol,\n",
        "        \"volume\": lot,\n",
        "        \"type\": type_trade,\n",
        "        \"position\":id_position\n",
        "        \"price\": price,\n",
        "        \"deviation\": deviation,\n",
        "        \"magic\":234000,\n",
        "        \"comment\": \"Python script order\",\n",
        "        \"type_time\": mt5.ORDER_TIME_GTC,\n",
        "        \"type_filling\": filling_mode\n",
        "      }\n",
        "      #Inviare una richiesta di d'ordine (lo stesso codice dell'ordine di apertura, ma stavolta per chiudere la posizione)\n",
        "      order_result=mt5.order_send(request)\n",
        "      return order_send\n",
        "\n",
        "\n"
      ],
      "metadata": {
        "id": "HzGFERZXEUd0"
      },
      "execution_count": null,
      "outputs": []
    },
    {
      "cell_type": "code",
      "source": [
        "#INSERTO:Il codice che segue serve per eseguire un'ordine manuale per testare in maniera\n",
        "#intuitiva le possibilità di Python con MT5, inviando un'ordine \"manuale\"\n",
        "MT5.orders(EURUSD,0.01)\n",
        "\n",
        "#Chiudere l'ordine\n",
        "MT5.orders(EURUSD,0.01,id_position=36144033)\n",
        "\n",
        "#Chiudere un'ordine sell\n",
        "MT5.orders(EURUSD,0.01,buy=False)#praticamente con il codice (buy=False) chiudiamo la posizione BUY"
      ],
      "metadata": {
        "id": "IcgaRN3HqJVu"
      },
      "execution_count": null,
      "outputs": []
    },
    {
      "cell_type": "code",
      "source": [
        "#IMPORTANTE: Creare la funzione RESUME, che servirà per registrare i dati del trade appena chiuso\n",
        "#Quello che ancora devo capire è dove vengono registrati questi dati\n",
        "#La cosa interessante è che sicuramente possiamo automatizzare un sistema di analisi di questi\n",
        "#risultati, che serviranno per migliorare il modello (con l'utilizzo del ML)\n",
        "def resume():\n",
        "  \"\"\"Return current position, Position=0---->Buy\"\"\"\n",
        "  #Inizializziamo MT5(praticamente lo dobbiamo fare per ogni funzione che andiamo a creare)\n",
        "  mt5.initialize()\n",
        "\n",
        "  #definiamo i nomi delle colonne che andremo a creare\n",
        "  columns=[\"ticker\",\"position\",\"symbol\",\"volume\"]\n",
        "\n",
        "  #Andare al trade corrente\n",
        "  current=mt5.position_get()\n",
        "\n",
        "  #Creare un dataFrame vuoto\n",
        "  summary=pd.Dataframe()\n",
        "\n",
        "  #Loop per aggiungere ogni riga nel DataFrame\n",
        "  #Può essere migliorato con una lista di liste----DA APPROFONDIRE\n",
        "  for element in current:\n",
        "    element_pandas= pd.DataFrame([element.ticket\n",
        "                                  element.position,\n",
        "                                  element.symbol,\n",
        "                                  element.volume],columns=colonnes)\n",
        "    summary=pd.concat([summary,element_pandas],axis=0)#abbiamo utilizzato il loop FOR, credo che sarà una costante per automatizzare i miei processi\n",
        "\n",
        "  return summary"
      ],
      "metadata": {
        "id": "DZVSpi7ftqWC"
      },
      "execution_count": null,
      "outputs": []
    },
    {
      "cell_type": "code",
      "source": [
        "#LEZIONE_78: RUNNARE la struttura che abbiamo creato\n",
        "def run (symbol, long, short,lot):\n",
        "  #Inizializzare MT5\n",
        "  mt5.initialize()\n",
        "\n",
        "  #Scegliere il simbolo\n",
        "  print(\"-----------------------------------------------------------\")\n",
        "  print (\"Date: \",datetime.now().strftime(\"%Y-%m-%d %H:%M:%S\"))\n",
        "  print (\"SYMBOL:\",Symbol)\n",
        "\n",
        "  #Inizializzare il device\n",
        "  current_open_position= MT5.resume()\n",
        "\n",
        "  #BUY or SELL\n",
        "  print (f\"BUY:{long} \\t SELL:{short}\")\n",
        "  \"\"\"Close trade eventually\"\"\"\n",
        "\n",
        "  #Extraxtion type trade\n",
        "  try:\n",
        "    position= current_open_position.loc[current_open_position[\"symbol\"]==symbol].values[0][1]#serve per chiudere una posizione prima di aprirne una nuova\n",
        "    identifier= current_open_position.loc[current_open_position[\"symbol\"]==symbol].values[0][0]\n",
        "  except:\n",
        "    position= None\n",
        "    identifier= None\n",
        "\n",
        "    print(f\"POSITION:{position}, ID:{identifier}\")\n",
        "\n",
        "     #Codice per chiudere le posizioni\n",
        "    \"\"\"Close trades\"\"\"\n",
        "    if long== True and position==0:\n",
        "      long= false\n",
        "    elif long== False and position==0:\n",
        "      res= MT5.orders(symbol,lot,buy= True, id_position=identifier)\n",
        "      print(f\"CLOSE LONG TRADE:{res}\")\n",
        "    elif short== True and position== 1:\n",
        "      short= False\n",
        "    elif short== False and position==1:\n",
        "      res= MT5.orders(symbol,lot,buy=False,id_position=identifier)\n",
        "      print(f\"CLOSE SHORT TRADE:{res}\")\n",
        "\n",
        "    else:\n",
        "      pass\n",
        "\n",
        "      \"\"\"BUY or SHORT\"\"\"\n",
        "      if long== True:\n",
        "        res= MT5.orders(symbol,lot,buy=True)\n",
        "        print(f\"OPEN LONG TRADE:{res}\")\n",
        "      elif short== True:\n",
        "        res= MT5.orders(symbol,lot,buy=False)\n",
        "\n",
        "        print(\"----------------------------\")\n",
        "\n",
        "\n",
        "#ESEMPIO: Di seguito il codice utilizzato nell'esempio del corso per \"runnare\" manualmente un'ordine\n",
        "MT5.run(\"EURUSD\",True,False,0.01)\n"
      ],
      "metadata": {
        "id": "FJ8IOQsbw-OR"
      },
      "execution_count": null,
      "outputs": []
    },
    {
      "cell_type": "code",
      "source": [
        "#LEZIONE_79: Chiudere tutte le posizioni aperte durante la notte (procedura molot interessante nell'intraday trading)\n",
        "def close_all_night():\n",
        "  result= MT5.resume()\n",
        "  for i in range(len(result)):\n",
        "    before=MT5.account_info().balance\n",
        "    row=result.iloc[0+i:1+i,:]\n",
        "    if row[\"position\"][0]==0:\n",
        "      res= MT5.orders(row[\"symbol\"][0],row[\"volume\"][0],id_position=row[\"ticket]\", buy=True)\n",
        "      print(f\"CLOSE LONG TRADE:{res}\")\n",
        "\n",
        "#ESEMPIO: Di seguito il codice utilizzato nell'esempio del corso per \"chiudere\" manualmente tutti gli ordini durante la notte\n",
        "MT5.close_all_night()"
      ],
      "metadata": {
        "id": "Ie0V-zgEHbWC"
      },
      "execution_count": null,
      "outputs": []
    },
    {
      "cell_type": "code",
      "source": [],
      "metadata": {
        "id": "s_s-YiBY7nS1"
      },
      "execution_count": null,
      "outputs": []
    }
  ]
}