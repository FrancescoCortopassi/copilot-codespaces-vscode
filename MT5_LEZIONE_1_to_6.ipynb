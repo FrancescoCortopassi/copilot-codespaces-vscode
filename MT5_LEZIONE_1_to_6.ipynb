{
  "nbformat": 4,
  "nbformat_minor": 0,
  "metadata": {
    "colab": {
      "provenance": [],
      "authorship_tag": "ABX9TyMfDp3jlh0ZmZrKyXTSbQcm",
      "include_colab_link": true
    },
    "kernelspec": {
      "name": "python3",
      "display_name": "Python 3"
    },
    "language_info": {
      "name": "python"
    }
  },
  "cells": [
    {
      "cell_type": "markdown",
      "metadata": {
        "id": "view-in-github",
        "colab_type": "text"
      },
      "source": [
        "<a href=\"https://colab.research.google.com/github/FrancescoCortopassi/copilot-codespaces-vscode/blob/main/MT5_LEZIONE_1_to_6.ipynb\" target=\"_parent\"><img src=\"https://colab.research.google.com/assets/colab-badge.svg\" alt=\"Open In Colab\"/></a>"
      ]
    },
    {
      "cell_type": "markdown",
      "source": [
        "LEZIONE_1:PERCHé OPERARE NEL MERCATO FOREX:\n",
        "\n",
        "\n",
        "1.Il mercato del Forex è di gran linga il mercato più grande, in cui avvengono il maggior numero di scambi giornalieri e quindi il mercato con maggiori volumi\n",
        "\n",
        "2.È un mercato decentralizzato (il + grande) e questo ci da la possibilità di poter fare degli ARBITRAGGI\n",
        "\n",
        "3.Il mercato è attivo 24/24 per 5 giorni alla settimana\n",
        "\n",
        "4. Il Forex è un mercato molto competitivo e solo il 3%-5% degli operatori di mercato ha risultati positivi nel medio e nel lungo periodo (a differenza del mercato azionario dove il rate è del 7%-8%)\n",
        "\n",
        "\n",
        "\n",
        "\n",
        "\n"
      ],
      "metadata": {
        "id": "1qCPB8YUVQ6S"
      }
    },
    {
      "cell_type": "markdown",
      "source": [
        "LEZIONE_2:I broker\n",
        "Quando pensiamo al mercato azionario, per creare un'immagine su foglio che traduca il suo funzionamento dovremo disegnare al centro del foglio una grande scatola (il mercato azionario centralizzato) da cui partono ed arrivano ordini verso gli organi esterni (retails traders, istituzionali, banche, edge founds etc etc )\n",
        "\n",
        "IL FOREX è molto differenti: immaginiamoci un network dove il cuore sono le BANCHE CENTRALI di differenti paesi. le Banche Centrali hanno un'esigenza di fare trading sul mercato del forex (questo perchè nessuna nazione produce tutto quello di cui necessita ed ogni nazione usa le Banche Centrali per effettuare transazioni con altre nazioni). Queste transazioni tra nazioni sono il + grande contributo al mercato del forex.\n",
        " Il trading tra banche centrali è diverso, loro si possono garantire i prezzi migliori ed ovviamente questo non sucecde nel mercato retail dove c'è lo spread ed il costo degli assets subisce delle modifiche più o meno sostanziali.\n",
        "\n",
        " Dopo il rpimo \"blocco\" costituito dalle Banche Centrali abbiamo un secondo blocco più esterno costituito dalle Majors Bancks, che diventano rilevanti anche per noi traders dato che forniscono gli assets ai Brokers ed alle Compagnie Commerciali (edge founds+altro), che vanno a creare il mercato per noi retails traders.\n",
        "\n",
        " I retails trader si trovano alla periferia di questo network ed il loro rapporto di scambio si verifica principalmente con i broker e con altri retail traders\n",
        "\n",
        " I broker possono fornire servizi diversi per i retail traders; uno dei più importanti è la possibilità di fare trading utilizzando la leva finanziaria (tipicamente 100, 500 o addirittura 1.000)\n",
        "\n",
        " Dobbiamo fare molta attenzione quando andiamo a scegliere un Broker nel mercato del forex perchè questo è il primo passo che può fare la differenza tra un successo ed un' insuccesso.\n",
        "\n",
        " Ci sono molti broker che si approfittano dei traders che vogliono operare da paesi in cui il trading sul forex è vietato e che conseguentemente devono utilizzare sistemi alternativi per riuscire a depositare soldi sul conto del broker\n",
        "\n",
        " Questo corso utilizzerà MT5 come piattaforma e  DARWINEX come broker.\n"
      ],
      "metadata": {
        "id": "UbSJb4sOZ7MJ"
      }
    },
    {
      "cell_type": "markdown",
      "source": [
        "LEZIONE_3: DARWINEX ZERO ANALYSIS\n",
        "\n",
        "1. DARWINEX è un broker che permette di poter aprire un conto personale e poter tracciare i risultati delle proprie performence per attrarre investitori e quindi nuovi capitali per il trading.\n",
        "\n",
        "2. È compatibile con MT5\n",
        "\n",
        "3. Generalmentetra il 5% ed il 10% dei traders che aprono un conto su Darwinex ricevono seed money dagli investitori della piattaforma\n",
        "\n",
        "4. L'unico costo è la subscription fee mensile di circa 25€-30€\n",
        "\n",
        "5. Non ci osno restrizioni regionali (anche in zone come India, Cina e vietnam)\n",
        "\n",
        "6. È regolato da un'ente di regolazione inglese (FCA) spagnolo (CNMV)"
      ],
      "metadata": {
        "id": "AEAWB2Qiof_t"
      }
    },
    {
      "cell_type": "markdown",
      "source": [
        "LEZIONE_4: MT5\n",
        "\n",
        "Introduciamo la piattaforma MT5 che sarà l'anima di questo corso\n",
        "La piattaforma è web-based ed è da molti anni il punto di riferimento per i traders sul mercato Forex\n",
        "\n",
        "Pur non essendo un broker permette a varie broker di utilizzare la poiattaforma e sicuramente è compatibile con i migliori e più seri broker a livello mondiale\n",
        "\n",
        "MT5 è l'ultima versione di questa piattaforma, ed è questa versione che supporta la API di python\n",
        "\n",
        "Nonostante questo, ancora oggi il 70% dei fruitori di MetaTrader utilizzano la versione precedente MT4 a causa della transizione tra piattaforma, che generalmente non è un'esperienza gradevole\n",
        "\n",
        "La compagnia Metaquotes ha recebtemente comunicato che a breve non supporterà più lo sviluppo di MT4 favorendo la transizione degli utenti all'ultima versione della piattaforma"
      ],
      "metadata": {
        "id": "jSFDKfvIvJfS"
      }
    },
    {
      "cell_type": "markdown",
      "source": [
        "LEZIONE_5: METATRADER ECOSYSTEM\n",
        "1.Mt5 Terminal Download: non è un broker ma una piattaforma\n",
        "2. Se si conosce la API di Metatrdaer non ci sarà bisogno di conoscere quella del broker che vogliamo utilizzare\n",
        "3.MetaTrader è così famosa ed utilizzata perché è pioniera di questa tecnologia nel mercato forex\n",
        "4.Supporti altri assets come ETF, equities ed altro ma è maggiormente utilizzata per il tading sul forex\n",
        "5.L'azienda produttrice della piattafroma si chiama Metaquotes ed il linguaggio di programmazione utilizzato si chiama MQL, ed è molto simile a C++\n",
        "6.Se si è sviluppatori ci si può iscrivere alla piatatforma come freelancer ed aiutare altri utenti nello sviluppo della loro tecnologia di trading (vedi pagina \"freelance\", che in linea di massima ha lo stesso concetto di CraigList)\n",
        "7.La sezione dei segnali permette di abbonarsi ad un servizio in cui si ricevono segnali dal bot dello sviluppatore, copiandode facto le sue operazioni\n",
        "8.Il forum è interessante per interagire con altri sviluppatori e porre loro domande confrontandoci, o trovando articoli sugli items che ci interessano\n",
        "9.Un link molot interessante per noi è \"PYTHON INTEGRATION\"\n"
      ],
      "metadata": {
        "id": "TFQMoFpR-eg7"
      }
    },
    {
      "cell_type": "markdown",
      "source": [
        "LEZIONE_6: PREREQUISITI DEL CORSO\n",
        "\n",
        "1.Avere familiarità con i topics di base riguardo al trading algoritmico utilizzando Python\n",
        "2.Avere familiarità con le basi di Python (liste, dizionari, cicli etc)\n",
        "3. conoscenze di matematica e statistica di base (livello scuola superiore)\n",
        "4. Avere esperienza di base con il trading"
      ],
      "metadata": {
        "id": "ekOIiRP2Dx-5"
      }
    },
    {
      "cell_type": "code",
      "execution_count": null,
      "metadata": {
        "id": "rNmKbOQaVGDj"
      },
      "outputs": [],
      "source": [
        "\n"
      ]
    }
  ]
}