{
  "nbformat": 4,
  "nbformat_minor": 0,
  "metadata": {
    "colab": {
      "provenance": [],
      "authorship_tag": "ABX9TyNo0XEjiaZecDdeKaDlWG86",
      "include_colab_link": true
    },
    "kernelspec": {
      "name": "python3",
      "display_name": "Python 3"
    },
    "language_info": {
      "name": "python"
    }
  },
  "cells": [
    {
      "cell_type": "markdown",
      "metadata": {
        "id": "view-in-github",
        "colab_type": "text"
      },
      "source": [
        "<a href=\"https://colab.research.google.com/github/FrancescoCortopassi/copilot-codespaces-vscode/blob/main/LEZIONE_20.ipynb\" target=\"_parent\"><img src=\"https://colab.research.google.com/assets/colab-badge.svg\" alt=\"Open In Colab\"/></a>"
      ]
    },
    {
      "cell_type": "code",
      "execution_count": 1,
      "metadata": {
        "id": "RvZjeLi5GT4U"
      },
      "outputs": [],
      "source": [
        "#NUMPY: Questa è la libreria che ci permette di eseguire clacoli complessi in Python"
      ]
    },
    {
      "cell_type": "code",
      "source": [
        "#Importare Numpy\n",
        "import numpy as np\n",
        "np"
      ],
      "metadata": {
        "colab": {
          "base_uri": "https://localhost:8080/"
        },
        "id": "YO6mD8jTLbnM",
        "outputId": "f500b533-2614-4ed0-dcf2-7d0a2c41820b"
      },
      "execution_count": 6,
      "outputs": [
        {
          "output_type": "execute_result",
          "data": {
            "text/plain": [
              "<module 'numpy' from '/usr/local/lib/python3.10/dist-packages/numpy/__init__.py'>"
            ]
          },
          "metadata": {},
          "execution_count": 6
        }
      ]
    },
    {
      "cell_type": "code",
      "source": [
        "#creaiamo un array ad una dimensione\n",
        "array = np.array([1,2,3])\n",
        "array"
      ],
      "metadata": {
        "colab": {
          "base_uri": "https://localhost:8080/"
        },
        "id": "MlBq87scL5Sd",
        "outputId": "18f0c32b-56b1-4f6a-c7f6-f4676a6ddf6b"
      },
      "execution_count": 7,
      "outputs": [
        {
          "output_type": "execute_result",
          "data": {
            "text/plain": [
              "array([1, 2, 3])"
            ]
          },
          "metadata": {},
          "execution_count": 7
        }
      ]
    },
    {
      "cell_type": "code",
      "source": [
        "#la funzione LINSPACE\n",
        "np.linspace(0,50,51)"
      ],
      "metadata": {
        "colab": {
          "base_uri": "https://localhost:8080/"
        },
        "id": "o87iBopUMZSX",
        "outputId": "c6548236-00a8-4833-fe17-382dcec6ff1d"
      },
      "execution_count": 8,
      "outputs": [
        {
          "output_type": "execute_result",
          "data": {
            "text/plain": [
              "array([ 0.,  1.,  2.,  3.,  4.,  5.,  6.,  7.,  8.,  9., 10., 11., 12.,\n",
              "       13., 14., 15., 16., 17., 18., 19., 20., 21., 22., 23., 24., 25.,\n",
              "       26., 27., 28., 29., 30., 31., 32., 33., 34., 35., 36., 37., 38.,\n",
              "       39., 40., 41., 42., 43., 44., 45., 46., 47., 48., 49., 50.])"
            ]
          },
          "metadata": {},
          "execution_count": 8
        }
      ]
    },
    {
      "cell_type": "code",
      "source": [
        "np.linspace (0,20,21)"
      ],
      "metadata": {
        "colab": {
          "base_uri": "https://localhost:8080/"
        },
        "id": "xuIA_nqbMoxB",
        "outputId": "d48f2a39-2121-4c21-8700-acbc47bef3fa"
      },
      "execution_count": 13,
      "outputs": [
        {
          "output_type": "execute_result",
          "data": {
            "text/plain": [
              "array([ 0.,  1.,  2.,  3.,  4.,  5.,  6.,  7.,  8.,  9., 10., 11., 12.,\n",
              "       13., 14., 15., 16., 17., 18., 19., 20.])"
            ]
          },
          "metadata": {},
          "execution_count": 13
        }
      ]
    },
    {
      "cell_type": "code",
      "source": [
        "np.linspace (0,20,0.5)"
      ],
      "metadata": {
        "colab": {
          "base_uri": "https://localhost:8080/"
        },
        "id": "e79Z2ZmpNSQA",
        "outputId": "53110fdb-3a94-4545-fc58-1e01f170637e"
      },
      "execution_count": 16,
      "outputs": [
        {
          "output_type": "execute_result",
          "data": {
            "text/plain": [
              "array([ 10. ,  10.9,  11.8,  12.7,  13.6,  14.5,  15.4,  16.3,  17.2,\n",
              "        18.1,  19. ,  19.9,  20.8,  21.7,  22.6,  23.5,  24.4,  25.3,\n",
              "        26.2,  27.1,  28. ,  28.9,  29.8,  30.7,  31.6,  32.5,  33.4,\n",
              "        34.3,  35.2,  36.1,  37. ,  37.9,  38.8,  39.7,  40.6,  41.5,\n",
              "        42.4,  43.3,  44.2,  45.1,  46. ,  46.9,  47.8,  48.7,  49.6,\n",
              "        50.5,  51.4,  52.3,  53.2,  54.1,  55. ,  55.9,  56.8,  57.7,\n",
              "        58.6,  59.5,  60.4,  61.3,  62.2,  63.1,  64. ,  64.9,  65.8,\n",
              "        66.7,  67.6,  68.5,  69.4,  70.3,  71.2,  72.1,  73. ,  73.9,\n",
              "        74.8,  75.7,  76.6,  77.5,  78.4,  79.3,  80.2,  81.1,  82. ,\n",
              "        82.9,  83.8,  84.7,  85.6,  86.5,  87.4,  88.3,  89.2,  90.1,\n",
              "        91. ,  91.9,  92.8,  93.7,  94.6,  95.5,  96.4,  97.3,  98.2,\n",
              "        99.1, 100. ])"
            ]
          },
          "metadata": {},
          "execution_count": 16
        }
      ]
    },
    {
      "cell_type": "code",
      "source": [
        "#la funzione ARRANGE\n",
        "np.arange (0,51)"
      ],
      "metadata": {
        "colab": {
          "base_uri": "https://localhost:8080/"
        },
        "id": "1rs4QXhyOLnl",
        "outputId": "acc6000f-c43b-4e0f-ddd2-deea1e5211e2"
      },
      "execution_count": 21,
      "outputs": [
        {
          "output_type": "execute_result",
          "data": {
            "text/plain": [
              "array([ 0,  1,  2,  3,  4,  5,  6,  7,  8,  9, 10, 11, 12, 13, 14, 15, 16,\n",
              "       17, 18, 19, 20, 21, 22, 23, 24, 25, 26, 27, 28, 29, 30, 31, 32, 33,\n",
              "       34, 35, 36, 37, 38, 39, 40, 41, 42, 43, 44, 45, 46, 47, 48, 49, 50])"
            ]
          },
          "metadata": {},
          "execution_count": 21
        }
      ]
    },
    {
      "cell_type": "code",
      "source": [
        "#creare un array 2D\n",
        "import numpy as np\n",
        "arr_bis = numpy.array ([[1,2,3],\n",
        "                    [4,5,6],\n",
        "                    [7,8,9]])\n",
        "arr_bis"
      ],
      "metadata": {
        "id": "BOd3mBaXRltB"
      },
      "execution_count": null,
      "outputs": []
    },
    {
      "cell_type": "code",
      "source": [
        "np.array"
      ],
      "metadata": {
        "colab": {
          "base_uri": "https://localhost:8080/"
        },
        "id": "Lo9p_KkXRWaI",
        "outputId": "2401f199-88b7-4f3c-a83f-f01d04a2e0f2"
      },
      "execution_count": 35,
      "outputs": [
        {
          "output_type": "execute_result",
          "data": {
            "text/plain": [
              "array([[1, 2, 3],\n",
              "       [4, 5, 6],\n",
              "       [7, 8, 9]])"
            ]
          },
          "metadata": {},
          "execution_count": 35
        }
      ]
    },
    {
      "cell_type": "code",
      "source": [],
      "metadata": {
        "id": "FS8c8-tbWJBX"
      },
      "execution_count": null,
      "outputs": []
    },
    {
      "cell_type": "markdown",
      "source": [
        "**NOTA:** GENERALMENTE GLI ARRAY NON SI CREANO MA SI IMPORTANO DIRETTAMENTE COME DATA-SET, per cui questa operatività non sarà usata generalmente ma solo nel caso che si voglia creare un dataset personalizzato"
      ],
      "metadata": {
        "id": "7unPZOfPRrNl"
      }
    },
    {
      "cell_type": "code",
      "source": [
        "#NULL MATRIX ARRAY\n",
        "o = np.zeros ([3,5])\n",
        "o"
      ],
      "metadata": {
        "colab": {
          "base_uri": "https://localhost:8080/"
        },
        "id": "oRUALTrHR-eb",
        "outputId": "0f7cb3b3-216a-4f99-ee0e-e32cfd981bab"
      },
      "execution_count": 40,
      "outputs": [
        {
          "output_type": "execute_result",
          "data": {
            "text/plain": [
              "array([[0., 0., 0., 0., 0.],\n",
              "       [0., 0., 0., 0., 0.],\n",
              "       [0., 0., 0., 0., 0.]])"
            ]
          },
          "metadata": {},
          "execution_count": 40
        }
      ]
    },
    {
      "cell_type": "code",
      "source": [
        "#IDENTITY MATRIX\n",
        "identity = np.identity (5)\n",
        "identity"
      ],
      "metadata": {
        "colab": {
          "base_uri": "https://localhost:8080/"
        },
        "id": "lmY1LRShTAVQ",
        "outputId": "25975607-dfb2-4957-fdd9-72b3dd765a11"
      },
      "execution_count": 41,
      "outputs": [
        {
          "output_type": "execute_result",
          "data": {
            "text/plain": [
              "array([[1., 0., 0., 0., 0.],\n",
              "       [0., 1., 0., 0., 0.],\n",
              "       [0., 0., 1., 0., 0.],\n",
              "       [0., 0., 0., 1., 0.],\n",
              "       [0., 0., 0., 0., 1.]])"
            ]
          },
          "metadata": {},
          "execution_count": 41
        }
      ]
    },
    {
      "cell_type": "code",
      "source": [
        "#ONE MATRIX\n",
        "one= np.ones ([3,5])\n",
        "one"
      ],
      "metadata": {
        "colab": {
          "base_uri": "https://localhost:8080/"
        },
        "id": "IDCSMHAgTaz5",
        "outputId": "a78eb990-ae25-4e58-d678-0eac2478754c"
      },
      "execution_count": 42,
      "outputs": [
        {
          "output_type": "execute_result",
          "data": {
            "text/plain": [
              "array([[1., 1., 1., 1., 1.],\n",
              "       [1., 1., 1., 1., 1.],\n",
              "       [1., 1., 1., 1., 1.]])"
            ]
          },
          "metadata": {},
          "execution_count": 42
        }
      ]
    },
    {
      "cell_type": "code",
      "source": [
        "#sommare due array\n",
        "o + one"
      ],
      "metadata": {
        "colab": {
          "base_uri": "https://localhost:8080/"
        },
        "id": "l-eLUCoOTx3F",
        "outputId": "82a7fb4a-1841-4515-cd82-5f626ed69d93"
      },
      "execution_count": 48,
      "outputs": [
        {
          "output_type": "execute_result",
          "data": {
            "text/plain": [
              "array([[1., 1., 1., 1., 1.],\n",
              "       [1., 1., 1., 1., 1.],\n",
              "       [1., 1., 1., 1., 1.]])"
            ]
          },
          "metadata": {},
          "execution_count": 48
        }
      ]
    },
    {
      "cell_type": "code",
      "source": [
        "#sottrarre due matrici\n",
        "o - one"
      ],
      "metadata": {
        "colab": {
          "base_uri": "https://localhost:8080/"
        },
        "id": "FhFJj0s9UVON",
        "outputId": "4e93c131-cd6f-4a04-9682-fb038750c29a"
      },
      "execution_count": 49,
      "outputs": [
        {
          "output_type": "execute_result",
          "data": {
            "text/plain": [
              "array([[-1., -1., -1., -1., -1.],\n",
              "       [-1., -1., -1., -1., -1.],\n",
              "       [-1., -1., -1., -1., -1.]])"
            ]
          },
          "metadata": {},
          "execution_count": 49
        }
      ]
    },
    {
      "cell_type": "code",
      "source": [
        "#Moltiplicazione scalare / Scalar moltiplication\n",
        "one * 10"
      ],
      "metadata": {
        "colab": {
          "base_uri": "https://localhost:8080/"
        },
        "id": "24hDb3IUUmJM",
        "outputId": "6dec1fc0-98ac-44d5-801b-82bfcb36dca0"
      },
      "execution_count": 50,
      "outputs": [
        {
          "output_type": "execute_result",
          "data": {
            "text/plain": [
              "array([[10., 10., 10., 10., 10.],\n",
              "       [10., 10., 10., 10., 10.],\n",
              "       [10., 10., 10., 10., 10.]])"
            ]
          },
          "metadata": {},
          "execution_count": 50
        }
      ]
    },
    {
      "cell_type": "markdown",
      "source": [
        "**SINTASSI: **Ogni array deve essere inserito all'intterno di parentesi quadre, a loro volta inserite nelle parentesi tonde. ESEMPIO:\n",
        "numeri_magliette= np.array ([1,5,60])"
      ],
      "metadata": {
        "id": "jUkhnHfwV_hK"
      }
    }
  ]
}