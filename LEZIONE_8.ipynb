{
  "nbformat": 4,
  "nbformat_minor": 0,
  "metadata": {
    "colab": {
      "provenance": [],
      "authorship_tag": "ABX9TyMSOw985ZZ/lK64YYgpCeD+",
      "include_colab_link": true
    },
    "kernelspec": {
      "name": "python3",
      "display_name": "Python 3"
    },
    "language_info": {
      "name": "python"
    }
  },
  "cells": [
    {
      "cell_type": "markdown",
      "metadata": {
        "id": "view-in-github",
        "colab_type": "text"
      },
      "source": [
        "<a href=\"https://colab.research.google.com/github/FrancescoCortopassi/copilot-codespaces-vscode/blob/main/LEZIONE8.ipynb\" target=\"_parent\"><img src=\"https://colab.research.google.com/assets/colab-badge.svg\" alt=\"Open In Colab\"/></a>"
      ]
    },
    {
      "cell_type": "code",
      "execution_count": null,
      "metadata": {
        "id": "x3Yqnc9iM5Dj"
      },
      "outputs": [],
      "source": [
        "# prompt: #creaimo una VARIABILE NUMERICA\n",
        "\n",
        "x = 10\n",
        "x\n"
      ]
    },
    {
      "cell_type": "code",
      "source": [
        "x = 10\n",
        "y = 15\n",
        "z= 20\n",
        "print (x+y+z)"
      ],
      "metadata": {
        "colab": {
          "base_uri": "https://localhost:8080/"
        },
        "id": "3UCke1IPNLjj",
        "outputId": "08d9c6f7-5337-4514-b9d9-70ab164cd5c2"
      },
      "execution_count": 1,
      "outputs": [
        {
          "output_type": "stream",
          "name": "stdout",
          "text": [
            "45\n"
          ]
        }
      ]
    },
    {
      "cell_type": "code",
      "source": [
        "print (x,y)"
      ],
      "metadata": {
        "colab": {
          "base_uri": "https://localhost:8080/"
        },
        "id": "8PxRt4KRNd8O",
        "outputId": "1aa2b517-e3a9-4cdf-9d19-3dae5ee8a08e"
      },
      "execution_count": 2,
      "outputs": [
        {
          "output_type": "stream",
          "name": "stdout",
          "text": [
            "10 15\n"
          ]
        }
      ]
    },
    {
      "cell_type": "code",
      "source": [
        "data ='20_12_2024'\n",
        "price = 100\n",
        "info = f'TESLA: {price}, data:{data}'\n",
        "print (info)\n"
      ],
      "metadata": {
        "colab": {
          "base_uri": "https://localhost:8080/"
        },
        "id": "OpMD6dolN0gc",
        "outputId": "87807584-8bf9-4c58-bae9-beeeb573ab47"
      },
      "execution_count": 7,
      "outputs": [
        {
          "output_type": "stream",
          "name": "stdout",
          "text": [
            "TESLA: 100, data:20_12_2024\n"
          ]
        }
      ]
    },
    {
      "cell_type": "code",
      "source": [
        "#NOTE DI SINTASSI: La VARIABILE STRINGA si scrive senza utilizzare nessun tipo di apice. Quando viene richiamata da una funzione, come in questo caso da PRINT, dobbiamo richiamarla tra le parentesi"
      ],
      "metadata": {
        "id": "UDqrRd71O13O"
      },
      "execution_count": 8,
      "outputs": []
    },
    {
      "cell_type": "code",
      "source": [
        "OPEN = 21\n",
        "HIGH = 45\n",
        "LOW = 34\n",
        "SMA = 40\n",
        "info = f'EUR_USD: il prezzo apre a :{OPEN}, il przzo più alto della giornata è stato: {HIGH}, il prezzo più basso della giornata è stato: {LOW}. La decisione è stata quella di operare con una media mobile a {SMA} periodi'\n",
        "print (info)"
      ],
      "metadata": {
        "colab": {
          "base_uri": "https://localhost:8080/"
        },
        "id": "m7DsQWL3PNts",
        "outputId": "c1f972ad-b38a-4687-f55e-c3a1c5a2deff"
      },
      "execution_count": 11,
      "outputs": [
        {
          "output_type": "stream",
          "name": "stdout",
          "text": [
            "EUR_USD: il prezzo apre a :21, il przzo più alto della giornata è stato: 45, il prezzo più basso della giornata è stato: 34. La decisione è stata quella di operare con una media mobile a 40 periodi\n"
          ]
        }
      ]
    },
    {
      "cell_type": "code",
      "source": [
        "time = \"06:00\"\n",
        "market_open = ('8:00'<time) and (time <'20:00')\n",
        "print (market_open)\n"
      ],
      "metadata": {
        "colab": {
          "base_uri": "https://localhost:8080/"
        },
        "id": "ok5U2MP-Wlxv",
        "outputId": "996c9ab1-c43c-4090-d216-43dcde85ef4e"
      },
      "execution_count": 23,
      "outputs": [
        {
          "output_type": "stream",
          "name": "stdout",
          "text": [
            "False\n"
          ]
        }
      ]
    },
    {
      "cell_type": "code",
      "source": [
        "time = \"22:00\"\n",
        "market_open = (\"03:00\"< time) and (time <\"23:00\")\n",
        "print (market_open)\n",
        "\n"
      ],
      "metadata": {
        "colab": {
          "base_uri": "https://localhost:8080/"
        },
        "id": "WqMUPGFWYCnQ",
        "outputId": "cfb09613-eab9-4d42-cfe5-d042d1eb29cf"
      },
      "execution_count": 26,
      "outputs": [
        {
          "output_type": "stream",
          "name": "stdout",
          "text": [
            "True\n"
          ]
        }
      ]
    },
    {
      "cell_type": "code",
      "source": [
        "time = \"24:00\"\n",
        "market_open = (\"03:00\"< time) and (time <\"23:00\")\n",
        "print (market_open)"
      ],
      "metadata": {
        "colab": {
          "base_uri": "https://localhost:8080/"
        },
        "id": "cEfwp6oQYquw",
        "outputId": "bc03a855-1265-4212-909d-d3256b9fb89f"
      },
      "execution_count": 27,
      "outputs": [
        {
          "output_type": "stream",
          "name": "stdout",
          "text": [
            "False\n"
          ]
        }
      ]
    },
    {
      "cell_type": "code",
      "source": [
        "#Le VARIABILI sono fondamentali in PYTHIN , quindi è importante esercitarsi sul comprenderne la logica e le possibilità"
      ],
      "metadata": {
        "id": "lrA363jFYuy2"
      },
      "execution_count": 28,
      "outputs": []
    }
  ]
}
