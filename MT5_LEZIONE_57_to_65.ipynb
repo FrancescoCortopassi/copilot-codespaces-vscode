{
  "nbformat": 4,
  "nbformat_minor": 0,
  "metadata": {
    "colab": {
      "provenance": [],
      "authorship_tag": "ABX9TyOClzasqCBFUv5Zemv5yAxx",
      "include_colab_link": true
    },
    "kernelspec": {
      "name": "python3",
      "display_name": "Python 3"
    },
    "language_info": {
      "name": "python"
    }
  },
  "cells": [
    {
      "cell_type": "markdown",
      "metadata": {
        "id": "view-in-github",
        "colab_type": "text"
      },
      "source": [
        "<a href=\"https://colab.research.google.com/github/FrancescoCortopassi/copilot-codespaces-vscode/blob/main/MT5_LEZIONE_57_to_65.ipynb\" target=\"_parent\"><img src=\"https://colab.research.google.com/assets/colab-badge.svg\" alt=\"Open In Colab\"/></a>"
      ]
    },
    {
      "cell_type": "markdown",
      "source": [
        "LEZIONE_57: STRATEGY DEPLOIMENT INTRO\n",
        "Prima di implementare la nostra strategia in real dobbiamo prendere in considerazione alcuni punti importanti:\n",
        "\n",
        "\n",
        "1. POSITION SIZE: Questo parametro deciderà qual'è la size della nostra posizione e quanto possiamo aspettarci in termini di P&L (profitti e perdite). Consigliabile ottimizzare questo parametro testandolo sulla startegia e sul portafoglio per considerare l'impatto sul nostro ecosistema di trading.\n",
        "2. ASSETS: Quale/quali assets vogliamo includere nel nostro portafoglio per questa strategia? Tutti gli assets hanno gli stessi parametri?(ex: timeframe). In più ogni asset potrebbe avere più o meno parametri (dobbiamo quindi comprendere anche come fornire differenti parametri agli asset ed il corso non approfondisce questo punto)\n",
        "3. NOTIFICATIONS: È imortante rimanere aggiornati sullo svolgimento del nostro trading per monitorare attivamente alcuni parametri (punti di ingresso e di uscita, money mangment,account balance ed altro)\n",
        "4. CONTINGENCY: Quali misure abbiamo preso per evitare che la strategia produca perdite minimali e non ci siano problematiche di disconnessione o altro genere?\n",
        "\n"
      ],
      "metadata": {
        "id": "vuayzXLDqiEW"
      }
    },
    {
      "cell_type": "markdown",
      "source": [],
      "metadata": {
        "id": "iXg3UntCvoZY"
      }
    },
    {
      "cell_type": "markdown",
      "source": [
        "LEZIONE_58: POSITION SIZE\n",
        "\n",
        "\n",
        "1. La scelta della size è un fattore determinante per il successo di una strategia\n",
        "2. Ci sono molteplici approcci alla gestione delle size: Fixed, Risk PnL basaed, sofisticated models etc\n",
        "3. Quello che noi andremo ad implementare nelal nostra strategia sarà basata su Risk PnL e punterà ad avere lo stesso (o quasi) ratio di vincite e perdite per movimento di pip (DA APPROFONDIRE IL CONCETTO PERCHé NON COMPRESO PERFETTAMENTE)\n",
        "\n"
      ],
      "metadata": {
        "id": "KKqufXEOvqMp"
      }
    },
    {
      "cell_type": "markdown",
      "source": [
        "LEZIONE_59: POSITION SIZE RISK MANAGMENT\n",
        "Andiamo a vedere come sviluppare il codice per ottimizzare la size della nostra posizione in base al nostro programma di gestione del rischio. Nel codice del corso si utilizza come valuta di benchmark il dollaro statunitense (USD). Lo stesso concetto può essere applocato a qualsiasi moneta."
      ],
      "metadata": {
        "id": "DZt7zjOvZYMm"
      }
    },
    {
      "cell_type": "code",
      "source": [
        "#LEZIONE_59: POSITION SIZE RISK MANAGMENT\n",
        "\n",
        "# establish MetaTrader 5 connection to a specified trading account\n",
        "if mt5.initialize():\n",
        "    print(\"connection established\")\n",
        "\n",
        "time.sleep(2)\n",
        "\n",
        "#get current price of a symbol\n",
        "def get_current_price(symbol):\n",
        "    tick_info = mt5.symbol_info_tick(symbol)\n",
        "    return (tick_info.bid + tick_info.ask)/2\n",
        "\n",
        "def usd_conversion_factor(currency):\n",
        "    if currency == \"USD\":\n",
        "        return 1\n",
        "\n",
        "    currency_data = mt5.symbols_get(\"*{}*\".format(currency))\n",
        "    for symbol in currency_data:\n",
        "        if symbol.name[:3] == \"USD\" or symbol.name[3:] == \"USD\":\n",
        "            base_currency = symbol.name[:3]\n",
        "            counter_currency = symbol.name[3:]\n",
        "            break\n",
        "    currency_data = mt5.symbol_info(base_currency+counter_currency)\n",
        "    current_price = get_current_price(base_currency+counter_currency)\n",
        "    if base_currency == \"USD\":\n",
        "        return 1/current_price\n",
        "    else:\n",
        "        return current_price\n"
      ],
      "metadata": {
        "id": "s5cCvmufaGVe"
      },
      "execution_count": null,
      "outputs": []
    },
    {
      "cell_type": "markdown",
      "source": [
        "LEZIONE_60: CORRELATION ANALYSIS\n",
        "Questo passsaggio è una cosa a cui io credo molto per mia natura, ovvero l'nalisi della correlazione tra due coppie di valute. la correlazione misura il coefficiente di \"simbiosi\" rappresentato da due valute, in poche parole quanto queste valute si muovono nello stesso modo durante il tempo.\n",
        "\n",
        "C'è un modo statistico di identificare la correlazione, il PEARSON CORRELATION COEFFICIENT (che andremo a vedere nel codice). Se la correlazione è superiore a 1 significa che c'è una grande correlzione, vicino allo 0 significa che non c'è correlazione e vicino al -1 significa che c'è correlazione negativa.\n",
        "\n",
        "STRATEGIA DI PORTAFOGLIO: Avere un paniere di assets con una bassa correlazione permette al nostro portafoglio di mantenersi più stabile e di non essere sbilanciato in periodi di alta volatilità"
      ],
      "metadata": {
        "id": "tQkuFo0vaOyT"
      }
    },
    {
      "cell_type": "code",
      "source": [
        "\n",
        "# -*- coding: utf-8 -*-\n",
        "\"\"\"\n",
        "MetaTrader5 - Correlation analysis\n",
        "\n",
        "@author: Mayank\n",
        "\"\"\"\n",
        "\n",
        "import MetaTrader5 as mt5\n",
        "import os\n",
        "import datetime as dt\n",
        "import pandas as pd\n",
        "import pytz\n",
        "\n",
        "os.chdir(r\"C:\\Users\\Mayank\\OneDrive\\Udemy\\MT5 Algorithmic Trading\") #path where login credentials and server details\n",
        "key = open(\"key.txt\",\"r\").read().split()\n",
        "path = r\"C:\\Program Files\\MetaTrader 5\\terminal64.exe\"\n",
        "\n",
        "\n",
        "# establish MetaTrader 5 connection to a specified trading account\n",
        "if mt5.initialize(path=path,login=int(key[0]), password=key[1], server=key[2]):\n",
        "    print(\"connection established\")\n",
        "\n",
        "#extract historical data\n",
        "def get_hist_data(symbol, timeframe, time_till=None, num_candles=200):\n",
        "    \"\"\"\n",
        "    Parameters\n",
        "    ----------\n",
        "    symbol : TYPE str - e.g \"USDCAD\"\n",
        "    timeframe : TYPE str - e.g. \"TIMEFRAME_M15\"\n",
        "    time_till : TYPE str -e.g. \"YYYY-MM-DD HH:MM:SS\"\n",
        "    num_candles : TYPE int\n",
        "\n",
        "    Returns\n",
        "    -------\n",
        "    historical data dataframe\n",
        "\n",
        "    \"\"\"\n",
        "    #pytz.all_timezones\n",
        "    current_tz = pytz.timezone(\"Asia/Kolkata\") #change this based on your location\n",
        "    eet_tz = pytz.timezone(\"Europe/Kyiv\")\n",
        "    required_tz = pytz.timezone(\"Etc/UTC\")\n",
        "\n",
        "    if time_till == None:\n",
        "        time_till = current_tz.localize(dt.datetime.now()).replace(tzinfo=required_tz)\n",
        "    else:\n",
        "        time_till = eet_tz.localize(dt.datetime.strptime(time_till, \"%Y-%m-%d %H:%M:%S\")).replace(tzinfo=required_tz)\n",
        "\n",
        "    hist_data = mt5.copy_rates_from(symbol, getattr(mt5, timeframe), time_till, num_candles)\n",
        "    hist_data_df = pd.DataFrame(hist_data)\n",
        "    hist_data_df.time = pd.to_datetime(hist_data_df.time, unit=\"s\")\n",
        "    hist_data_df.set_index(\"time\", inplace=True)\n",
        "    return hist_data_df\n",
        "\n",
        "#hist_data = get_hist_data(\"USDCAD\", \"TIMEFRAME_M30\") #get data till current time\n",
        "\n",
        "# symbols = mt5.symbols_get()\n",
        "# symbols = [i.name for i in symbols if \"Forex\" in i.path]\n",
        "\n",
        "symbols = [\"USDCAD\",\"USDJPY\",\"GBPUSD\",\"EURUSD\",\"AUDUSD\",\"USDCHF\",\"AUDNZD\",\"NZDJPY\",\"AUDCHF\",\"GBPMXN\",\"USDSEK\",\"NZDUSD\"]\n",
        "\n",
        "hist_data_cp_df = pd.DataFrame()\n",
        "for symbol in symbols:\n",
        "    temp = get_hist_data(symbol, \"TIMEFRAME_D1\", num_candles=1000)\n",
        "    hist_data_cp_df[symbol] = temp.close\n",
        "\n",
        "\n",
        "\n",
        "hist_data_cp_df_ret = hist_data_cp_df.pct_change()\n",
        "hist_data_cp_df_ret.dropna(inplace=True)\n",
        "corr_matrix = hist_data_cp_df_ret.corr()\n",
        "cm_below_threshold = corr_matrix[abs(corr_matrix) < 0.3]\n",
        "\n",
        "\n",
        "#Il comando CORR ci fornisce come argomento di default la correlazione PEARSON, ma possiamo\n",
        "#passare come argomento (parametro) qualsiasi altro metodo di correlazione presente nella libreria\n",
        "#pandas. Quello che fa questo metodo è calcolare la correlazione basandosi sui ritorni (returns),\n",
        "#che poi è l'unico modo fuznionale di poter correlare le valute in un dataFrame di pandas\n",
        "#Per comodità memorizzioamo il codice di correlazione nella variabile CORR_MATRIX\n",
        "\n",
        "#NOTA:Le correlazioni sono molto utilizzate dai trader sul forex per ottimizzare il portafoglio\n",
        "#(cercando la non correlazione). Nelle strategie di PAIR TRADING(come l'arbitraggio su PAIR) andiamo acercare\n",
        "#coppie altamente correlate per aprire operazioni durante la fase di non correlazione, che solitamente\n",
        "#precede un ritorno alla media (MEAN REVERSION)"
      ],
      "metadata": {
        "id": "4HCx9aZgZEpC"
      },
      "execution_count": null,
      "outputs": []
    },
    {
      "cell_type": "markdown",
      "source": [
        "LEZIONE_61: SEND EMAILS NOTIFICATIONSpython fornisce ai propri programamtori molti modi di creare notifiche e ci sono diverse librerie davvero funzionali per creare questo tipo di allert (via email, con messaggio telefonico, via telegram o whatsapp)\n",
        "\n",
        "In questo caso andremo at utilizzare le notifiche via email perché risultano più affidabili e possono contenere più testo ed informazioni in maniera più fruibile rispetto ad altri tipi di notifica.\n",
        "Si può utilizzare qualsiasi provider (noi useremo Gmail) ma alcuni provider sono più difficli da implementare rispetto ad altri perché sono proprio i provider a rendere le operazioni di autenticazioni piuttosto complicate"
      ],
      "metadata": {
        "id": "OdWV7lrJkWKB"
      }
    },
    {
      "cell_type": "code",
      "source": [
        "Sending email notifications using smtplib\n",
        "\n",
        "@author: Mayank\n",
        "\n",
        "\n",
        "import MetaTrader5 as mt5\n",
        "import os\n",
        "import time\n",
        "import smtplib\n",
        "\n",
        "def send_email(message, email_id=\"abc@gmail.com\", app_password=\"blah blah\", to_email_id=\"xyz@gmail.com\"):\n",
        "    try:\n",
        "        s = smtplib.SMTP('smtp.gmail.com', 587)\n",
        "        s.starttls()\n",
        "        s.login(email_id,app_password)\n",
        "        email_subject=\"MT5 TradingBot_1 Notification\"\n",
        "        email_body=message\n",
        "        s.sendmail(email_id,to_email_id, 'Subject: {}\\n\\n{}'.format(email_subject, email_body))\n",
        "        s.quit()\n",
        "    except Exception as e:\n",
        "        print(e)\n",
        "\n",
        "os.chdir(r\"C:\\Users\\Mayank\\OneDrive\\Udemy\\MT5 Algorithmic Trading\") #path where login credentials and server details\n",
        "key = open(\"key.txt\",\"r\").read().split()\n",
        "path = r\"C:\\Program Files\\MetaTrader 5\\terminal64.exe\"\n",
        "\n",
        "\n",
        "# establish MetaTrader 5 connection to a specified trading account\n",
        "if mt5.initialize(path=path,login=int(key[0]), password=key[1], server=key[2]):\n",
        "    print(\"connection established\")\n",
        "    send_email(\"connection established\")\n",
        "\n",
        "time.sleep(2)"
      ],
      "metadata": {
        "id": "bAK0AS7VnZAS"
      },
      "execution_count": null,
      "outputs": []
    },
    {
      "cell_type": "markdown",
      "source": [
        "LEZIONE_62_TO_65: STRATEGY DEPLOYMENT\n",
        "In queste lezioni andiamo a vedere come implementare la strategia che abbiamo backtestato nel capitolo precedente del corso.\n",
        "\n",
        "NOTA: Quello che ho compreso è che si può sviluppare codice per una strategia inserendolo in fase di sviluppo direttamente all'interno di un contesto di backtesting. Questo implica un'ulteriore modifica nel momento in cui vogliamo implementare la strategia in live: dovremo quindi riscrivere il codice esulandolo dalla parte riguardante iol backtest (queste sono impressioni che DEVO APPROFONDIRE IN FASE DI RIPASSO).\n",
        "\n",
        "SVOLGIMENTO: Per questa parte del corso ho optato per l'utilizzo dei files .PY che sono stati messi a disposizione dal corso per non dover riscrivere tutto il codice. Quindi di seguito caricherò tutto il codice fornito in questo capitolo per poterlo studiare senza impiegare tempo nella trascrizione."
      ],
      "metadata": {
        "id": "U1EAi6P21ZiL"
      }
    },
    {
      "cell_type": "code",
      "source": [
        "!python3 /content/macd_supp_res_strat.py"
      ],
      "metadata": {
        "colab": {
          "base_uri": "https://localhost:8080/"
        },
        "id": "U7E6sFt43jdm",
        "outputId": "5e80e10b-6746-4e11-b25e-b934316efb62"
      },
      "execution_count": 3,
      "outputs": [
        {
          "output_type": "stream",
          "name": "stdout",
          "text": [
            "Traceback (most recent call last):\n",
            "  File \"/content/macd_supp_res_strat.py\", line 8, in <module>\n",
            "    import MetaTrader5 as mt5\n",
            "ModuleNotFoundError: No module named 'MetaTrader5'\n"
          ]
        }
      ]
    },
    {
      "cell_type": "markdown",
      "source": [
        "ERROR: Non sono riuscito a caricare i file.py che mi servivano ma ho comunque trascritto il codice base per caricare i files.py qui su Colab (utilizzando il comando \"!python3\"). In seguito sarà mia premura comprendere come lavorare con MT5 su questa piattaforma che io prediligo per l'assistenza al codice"
      ],
      "metadata": {
        "id": "rd4uGH4e38jn"
      }
    }
  ]
}