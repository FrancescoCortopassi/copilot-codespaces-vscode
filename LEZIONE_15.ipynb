{
  "nbformat": 4,
  "nbformat_minor": 0,
  "metadata": {
    "colab": {
      "provenance": [],
      "authorship_tag": "ABX9TyNGLYLMUjw7dn3mgWnJsNSF",
      "include_colab_link": true
    },
    "kernelspec": {
      "name": "python3",
      "display_name": "Python 3"
    },
    "language_info": {
      "name": "python"
    }
  },
  "cells": [
    {
      "cell_type": "markdown",
      "metadata": {
        "id": "view-in-github",
        "colab_type": "text"
      },
      "source": [
        "<a href=\"https://colab.research.google.com/github/FrancescoCortopassi/copilot-codespaces-vscode/blob/main/LEZIONE_15.ipynb\" target=\"_parent\"><img src=\"https://colab.research.google.com/assets/colab-badge.svg\" alt=\"Open In Colab\"/></a>"
      ]
    },
    {
      "cell_type": "code",
      "execution_count": 6,
      "metadata": {
        "id": "J6n1u-loQMpL"
      },
      "outputs": [],
      "source": [
        "#FUNZIONI BASE\n",
        "def mia_funzione (param1,param2, param3):\n",
        "  \"\"\"\n",
        "  Questa è una DOC-STRING ed è assolutamente importante da utilizzare per descrivere il proprio codice (in questo caso per descrivere la FUNZIONE)\n",
        "  \"\"\"\n",
        "  return param1+ param2+ param3\n"
      ]
    },
    {
      "cell_type": "code",
      "source": [
        "#eseguiamo la funzione\n",
        "mia_funzione (1,2,3,)"
      ],
      "metadata": {
        "colab": {
          "base_uri": "https://localhost:8080/"
        },
        "id": "PQC9MbH7R2Mb",
        "outputId": "c11f2982-0628-4a3f-94c3-aec6f04e91a6"
      },
      "execution_count": 8,
      "outputs": [
        {
          "output_type": "execute_result",
          "data": {
            "text/plain": [
              "6"
            ]
          },
          "metadata": {},
          "execution_count": 8
        }
      ]
    },
    {
      "cell_type": "code",
      "source": [
        "#creare una funzione con dei VOLORI DI DEFAULT\n",
        "def mia_funzione_bis (param1,param2=12, param3=24):\n",
        "  \"\"\"\n",
        "  Questa è una DOC-STRING ed è assolutamente importante da utilizzare per descrivere il proprio codice (in questo caso per descrivere la FUNZIONE)\n",
        "  \"\"\"\n",
        "  return param1+ param2- param3"
      ],
      "metadata": {
        "id": "dJQPhgCnSjVa"
      },
      "execution_count": 14,
      "outputs": []
    },
    {
      "cell_type": "code",
      "source": [
        "mia_funzione_bis (2)"
      ],
      "metadata": {
        "colab": {
          "base_uri": "https://localhost:8080/"
        },
        "id": "FehpJYWkTegy",
        "outputId": "9a31b2a0-82b9-4b01-e50d-3040275e7dd5"
      },
      "execution_count": 18,
      "outputs": [
        {
          "output_type": "execute_result",
          "data": {
            "text/plain": [
              "-10"
            ]
          },
          "metadata": {},
          "execution_count": 18
        }
      ]
    }
  ]
}