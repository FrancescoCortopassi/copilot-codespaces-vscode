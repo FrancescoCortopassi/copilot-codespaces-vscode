{
  "nbformat": 4,
  "nbformat_minor": 0,
  "metadata": {
    "colab": {
      "provenance": [],
      "authorship_tag": "ABX9TyPgRbt86PskiR3QqSJKB7/t",
      "include_colab_link": true
    },
    "kernelspec": {
      "name": "python3",
      "display_name": "Python 3"
    },
    "language_info": {
      "name": "python"
    }
  },
  "cells": [
    {
      "cell_type": "markdown",
      "metadata": {
        "id": "view-in-github",
        "colab_type": "text"
      },
      "source": [
        "<a href=\"https://colab.research.google.com/github/FrancescoCortopassi/copilot-codespaces-vscode/blob/main/MT5_LEZIONE_23_to_32.ipynb\" target=\"_parent\"><img src=\"https://colab.research.google.com/assets/colab-badge.svg\" alt=\"Open In Colab\"/></a>"
      ]
    },
    {
      "cell_type": "markdown",
      "source": [
        "LEZIONE_23: GLI INDICATORI TECNICI\n",
        "\n",
        "+I TI (Technical Indicators) sono dei calcoli matematici basati su movimento dei prezzi,\n",
        "volumi o altre informazioni utiuli per ipotizzare il trend di uno strumento finanziario\n",
        "\n",
        "+La maggior parte sono indicatori \"lagging\", ovvero in ritardo, e come detto sono utili per la previsione di un trend\n",
        "\n",
        "+Ovviamente questi dati non prendono in considerazione l'analisi fondamentale,seguendo e cercando di sfruttare invece la teoria dei mercati efficienti (in cui sis ostiene che i prezzi degli asset contengano tutte le informazioni disponibili)\n",
        "\n",
        "+Gli indicatori tecnici più popolari sono:\n",
        "-MACD\n",
        "-Bollinger Bands\n",
        "-RSI\n",
        "-ADX\n",
        "-Supertrend\n",
        "-Renko Charts\n"
      ],
      "metadata": {
        "id": "9SHA0BFAiYx0"
      }
    },
    {
      "cell_type": "markdown",
      "source": [
        "#LEZIONE_24: Indicatori tecnici in MT5\n",
        "In questa lezione andiamo a vedere come reperire ed utilizzare gli indicatori su MT5, ed anche come ottenere indicatori che non sono caricati sul terminale di default\n",
        "\n",
        "1.È importante sottolineare come tutti i codici degli indicatori che possiamo selezionare su MT5 siano scritti in linguaggio MQL5, quindi una cosa interessante da poter fare per implementarli in Python è andare a leggere il loro funzionamento tramite (tasto destro----view) per comprendere la logica dell'indicatore e ricrearla con Python\n",
        "\n",
        "2.La raccomandazione del docente è comunque quella di costruire i propri indicatori direttamente con python senza dover tradurre codice MQL5\n",
        "\n",
        "3.TRADINGVIEW è considerata la base di studio degli indicatori tecnici, e possiamo trovare indicazioni su come sviluppare tutti gli indicatori in quasi tutti i linguaggi di programmazione esistenti (ovviamente compreso Python)\n"
      ],
      "metadata": {
        "id": "qMjdjD1djID2"
      }
    },
    {
      "cell_type": "markdown",
      "source": [],
      "metadata": {
        "id": "lmaYSenjXoSZ"
      }
    },
    {
      "cell_type": "markdown",
      "source": [
        "LEZIONE_25: MOVING AVERAGE\n",
        "Andiamo ad analizzare l'indicatore tecnico SMA (Media Mobile Semplice), che in realtà è una famiglia di indicatori.\n",
        "Andiamo a vedere i due indicatori più utilizzati di questa famiglia:\n",
        "1.SIMPLE MOVING AVERAGE: Un calcolo matematico che sviluppa medie dei prezzi passati secondi diversi range temporali, in cui ogni dato ha la stessa rilevanza per il calcolo della media. Generalmente per un sistema di trading si sviluppano 2 MEDIE MOBILI, quella che va più indietro nel tempo viene chiamata FAST MA, mentre quella che analizza un range di prezzi più recente si chiama FAST MA\n",
        "2.EXPONENTIAL MOVING AVERAGE: Un calcolo matematico simile a quello della MA, ma che da più valore ai prezzi più recenti (per questo si chiama Media Mobile Esponenziale)"
      ],
      "metadata": {
        "id": "oWWmi0g15qJA"
      }
    },
    {
      "cell_type": "code",
      "source": [
        "#Funzione per calcolare l'SMA\n",
        "ser=hist_data.close\n",
        "def SMA (ser, n=9):\n",
        "    return ser.rolling(30).mean()\n",
        "\n",
        "#Funzione per calcolare l'EMA\n",
        "def EMA (ser,n=9):\n",
        "    multiplyer = 2/(n+1)\n",
        "    sma =SMA (ser,n=9)\n",
        "    ema= np.full (len(ser),np.nan)\n",
        "    ema[len(sma)-len(sma.dropna())]=sma.dropna()[0]#questo codice permette al rprimo valore generato dalla SMA di essere anche il primo valore dell'EMA (questa cosa non l'ho compresa molto bene, DA APPROFONDIRE)\n",
        "    for i in range (len(ser)):\n",
        "        if not np.isnan(ema[i-1]):\n",
        "            ema[i]=ema (ser.iloc[i]-ema[-1]*multiplyer+ ema[i-1])\n",
        "\n",
        "\n",
        "hist_data[\"ema\"] = EMA (hist_data.close)"
      ],
      "metadata": {
        "id": "h1e6RBgFjfiW"
      },
      "execution_count": null,
      "outputs": []
    },
    {
      "cell_type": "code",
      "source": [
        "#LEZIONE_26: IMPLEMENTAZIONE MA\n",
        "#la prima cosa che dobbiamo fare è eseguire la funzione \"get_hist_data_numeric_index\" che sarebbela funzione di recupero dei dati\n",
        "#in modalità TIMEZONE AGNOSTIC (ovvero che non ha bisogno di specificare o regolare la TIMEZONE)\n",
        "import pandas as pd\n",
        "import MetaTrader5 as mt5\n",
        "import pytz\n",
        "\n",
        "\n",
        "def get_hist_data_numeric_index(symbol,timeframe,start_pos=0,num_candles=200):\n",
        "  hist_data=mt5.copy_rates_from_pos(symbol,(datetime,timeframe),start_pos=0,num_candles=200)\n",
        "  hist_data_dataframe=pd.DataFrame(hist_data)\n",
        "  hist_data_df.time=pd_to_datetime(hist_data_df.time,unit=\"s\")\n",
        "  hist_data_df.set_index [\"time\",inplace==True]\n",
        "  return hist_data_df\n",
        "\n",
        "hist_data=get_hist_data_numeric_index(\"USDCAD\",\"H1\",num_candles=100)"
      ],
      "metadata": {
        "id": "Ouq241SkJcE_"
      },
      "execution_count": null,
      "outputs": []
    },
    {
      "cell_type": "markdown",
      "source": [
        "#LEZIONE 27: MACD\n",
        "\n",
        "Il MACD è un indicatore di TREND FOLLOWING MOMENTUM ed è ampiamente utilizzato per confermare una variazione di trend. Generalmente è composta da due MEDIE MOBILI ESPONENZIALI (generalmente a 12 ed a 26 periodi))\n",
        "\n",
        "\n",
        "Una signal line (di solito a 9 periodi) viene utilizzata per generare i segnali\n",
        "\n",
        "\n",
        "Quando il MACD taglia la signal line dal basso verso l'alto si tratta di un segnale BUY, viceverrsa si tratta di un segnale SELLL\n",
        "\n",
        "Da molti falsi positivi, da non utilizzare come unico segnale di trading\n",
        "\n",
        "Segnale soggetto a LAGGING (RITARDO)\n",
        "\n",
        "SI SPIEGA POI COME IMPLEMENTARLO SU MT5\n",
        "\n",
        "\n",
        "\n",
        "\n"
      ],
      "metadata": {
        "id": "VQIHQD6pJjFz"
      }
    },
    {
      "cell_type": "code",
      "source": [
        "#LEZIONE 28: MACD IMPLEMENTATION\n",
        "#andiamo a crare la funzione per il MACD che poi potremo riutilizzare\n",
        "#i parametri da passare nella funzione sono il DATAFRAME, i due periofdi per le\n",
        "#MEDIE MOBILI ESPONENZIALI (12,26)ed il periodo sulla SIGNAL LINE (9)\n",
        "\n",
        "def MACD (df, a=12, b=26, c=9):\n",
        "    df=DF.copy #creiamo una copia del DataFrame\n",
        "    df [ma_fast]=EMA (df[\"close\"],a)\n",
        "    df [ma_slow]=EMA (df[\"close\"],b)\n",
        "    df [Macd]= df [\"ma_fast\"] - df [\"ma_slow\"]\n",
        "    df [signal]= EMA (df[\"macd\"],c)\n",
        "    df [histogram] =df [\"macd\"]- df [\"signal\"]\n",
        "    return df[\"macd\",\"signal\",\"histogram\"]\n",
        "\n",
        "hist_data[[\"macd\",\"signal\",\"histogram\"]]=MACD (hist_data)\n"
      ],
      "metadata": {
        "id": "67rGvvHTJdwg"
      },
      "execution_count": null,
      "outputs": []
    },
    {
      "cell_type": "markdown",
      "source": [
        "LEZIONE_29: RSI\n",
        "\n",
        "L'RSI è un'OSCILLATORE DI MOMENTUM che calcola la velocità e la forza con cui un prezzo si muove all'interno di un RANGE predefinito\n",
        "\n",
        "Il valore dell'RSI all'interno del range oscilla tra 0 e 100, con delle sogli a 70 ed a 30 che indicano rispettizone di IPERCOMPRATO ed IPERVENDUTO. In alcuni mercati emergenti si usa la proporzione 80/20 (le proporzioni possono essere testate a discrezionalità del trader)\n",
        "\n",
        "È importante ricordarsi che gli asset possono rimanere in ipercomprato o in ipervenduto per lunghi periodi di tempo, quindi questo indicatore non dovrebbe essere utilizzato da solo ma come conferma di altri segnali (ex: inversione di un trend)\n",
        "\n",
        "Calcolare la qualità di un'ingresso a mercato utilizzando solo l'RSI può risultare complicato e non profittevole\n",
        "\n",
        "Gli steps descritti su Tradingview per il calcolo sono i seguenti:\n",
        "1. Calcolare i cambiamenti di prezzo in un range prestabilito alla sua chiusura (close)\n",
        "2. Dobbiamo calcolare GAIN e LOSS, quindi se ad ogni chiusura dell'asset il prezzo si è apprezzato o deprezzato rispetto al giorno precedente\n",
        "3. Il calcolo dell' RS (la forza relativa dell'asset) prevede un rapporto (divisione) tra perdite e vincite nel periodo di tempo preso in considerazione (in questo caso si tratterebbe di 14 giorni presi in considerazione)\n",
        "4. Infine il calcolo dell'RSI si ottiene con questa formula (100-(100:1+RS))\n"
      ],
      "metadata": {
        "id": "JddsTlugWkke"
      }
    },
    {
      "cell_type": "code",
      "source": [
        "#Funzione per calcolare l'RMA, ripresa dalla funzione precedente per calcolare\n",
        "def RMA (ser,n=9):\n",
        "    multiplyer = 1/n\n",
        "    sma =ser.rolling (n).mean()\n",
        "    ema= np.full (len(ser),np.nan)\n",
        "    ema[len(sma)-len(sma.dropna())]=sma.dropna()[0]#questo codice permette al rprimo valore generato dalla SMA di essere anche il primo valore dell'EMA (questa cosa non l'ho compresa molto bene, DA APPROFONDIRE)\n",
        "    for i in range (len(ser)):\n",
        "        if not np.isnan(ema[i-1]):\n",
        "            ema[i]=ema (ser.iloc[i]-ema[-1]*multiplyer+ ema[i-1])\n",
        "\n",
        "#LEZIONE_29: RSI IMPLEMENTATION\n",
        "def RSI (DF, n=5):\n",
        "  #inseriamo come valori di funzione il DaatFrame ed il numero di periodi da\n",
        "  #prendere in considerazione: noi abbiamo inserito il valore che MT5 ci da di default, ovvero 5\n",
        "  df= DF.copy()\n",
        "  change = df[\"close\"]-df [\"close\"].shift (1)\n",
        "  df[\"gain\"]= np.where (df [\"change\"]>0, df [\"change\"],0)#si usa numpy.where definendo quali sono i valori per cui la condizione è rispettata e quelli per cui non lo è\n",
        "  df[\"loss\"]= np.where (df[\"change\"]<0, -1* df [\"change\"],0)#non ho capito perché è stato inserito questo valore di -1, DA RIVEDERE\n",
        "  df [\"avg_gain\"]= (df [\"gain\"],n)\n",
        "  df [\"avg_loss\"]= (df [\"loss\"],n)\n",
        "  df [\"rs\"]= (df[avg_gain]/df[avg_loss])\n",
        "  df [\"rsi\"]=100-(100/(1+df[\"rs\"]))#come vediamo questa è la formula per il calcolo dell' RSI che abbiamo visto all'inizio\n",
        "  return df [\"rsi\"]\n",
        "\n",
        "hist_data[\"rsi\"]=RSI (hist_data)\n",
        "\n",
        "\n",
        "\n"
      ],
      "metadata": {
        "id": "pXhWZPK_WeE1"
      },
      "execution_count": null,
      "outputs": []
    },
    {
      "cell_type": "markdown",
      "source": [
        "LEZIONE_30: INDICATORE STOCASTICO (STOCHASTIC)\n",
        "\n",
        "L'indicatore STOOCHASTIC è un'oscillatore utilizzato per calcolare la velocità del momentum dei prezzi\n",
        "\n",
        "La formula per calcolarlo è la seguente: (Close-Lowest Low)/(Highest high-Lowest Low) * 100\n",
        "\n",
        "I valori variano da 0 a 100, considerando che un valore massimo vicino al 100 indicherebbe che il prezzo ha raggiunto il suo massimo valore di incremento nella finestra temporale presa in considerazione\n",
        "\n",
        "Sopra gli 80 indica ipercomprato e sotto i 20 indica ipervenduto\n",
        "\n",
        "Calcolare il momentum diventa importante sulla base dell'asseverazione che prima di un'inversione di tendeza (reversal) il momentum deve cambiare. Questo è un ragionamento che funziona meglio quando siamo in un trend market"
      ],
      "metadata": {
        "id": "QEACNwuxsb5Y"
      }
    },
    {
      "cell_type": "code",
      "source": [
        "def Stochastic (DF, loockbac=14, k=3, d=3)\n",
        "df= DF.copy()\n",
        "df [\"HH\"]=df [\"close\"].rollig (loockback).max()\n",
        "df [\"LL\"]=df [\"close\"].rollig (loockback).min()\n",
        "df [\"%K\"]=((df [\"close\"]-df [\"LL\"])/(df[\"HH\"]-df [\"LL\"])).rollig (k).mean()\n",
        "df [\"%D\"]=df [\"%K\"].rollig (d).mean()\n",
        "return df [\"%K\",\"%D\"]\n",
        "\n",
        "hist_data [\"%K\",\"%D\"]=Stochastic (hist_data)\n",
        "\n",
        "#((df [\"close\"]-df [\"LL\"])/(df[\"HH\"]-df [\"LL\"])).rollig (k).mean()///////#questa è la formula per il calcolo dell'inidcatore Stocastico trasformata codice Python"
      ],
      "metadata": {
        "id": "SMRpiKbIsbJy"
      },
      "execution_count": null,
      "outputs": []
    },
    {
      "cell_type": "markdown",
      "source": [
        "LEZIONE_31: SUPPORTI E RESISTENZE (parte 1)\n",
        "\n",
        " I supporti e resistenze sono LIVELLI IMMAGINARI in cui il prezzo verifica una reale difficoltà a passare.\n",
        "\n",
        " Ci sono diversi approcci che i trader quantitativi utilizzano per definire supporti e resistenze\n",
        "\n",
        " La funzione che andremo a sviluppare per tracciare supporti e resistenze è basata sul concetto di \"Hills & Valleys\" (colline e valli)\n",
        "\n"
      ],
      "metadata": {
        "id": "3Scj5uCuT8yJ"
      }
    },
    {
      "cell_type": "code",
      "source": [
        "from os import remove\n",
        "from ast import Index\n",
        "LEZIONE_31: SUPPORTI E RESISTENZE (parte 1)\n",
        "#andiamo a creare la funzione per definire \"hilss&valleys\"\n",
        "\n",
        "def get_hills_valleys (DF, pip=0.0001):\n",
        "  df=DF.copy()\n",
        "  df [\"hill_valley\"]= np.where(np.logical_and(df.low < df.low(shift=(1) - 3*pip), #la funzione NP.WHERE viene utilizzata per selezionare elementi di un'array in base a una condizione\n",
        "                                                df.low < df.low(shift=(2) - 3*pip )\n",
        "                                               ),\n",
        "                        np.logical_and((df.low < df.low(shift=(-1) - 3*pip), #la funzione LOGICAL_AND si utilizza per applicare un AND LOGICO ad un processo che coinvolge la combinazione di più condizioni su un'array Python\n",
        "                                        df.low < df.low(shift=(-2) - 3*pip )\n",
        "                                       )),\"valley\") #questo codice permette di riconoscere nel nostro DF tutti i punti (del range selezionato) considerati dalla nostra funzione delle \"valleys\"\n",
        "                        np.where(np.logical_and(df.high > df.high(shift=(1) + 3*pip),\n",
        "                                                df.high > df.high(shift=(2) + 3*pip )\n",
        "                                               ),\n",
        "                                (np.logical_and(df.high > df.high(shift=(1) + 3*pip),\n",
        "                                                df.high > df.high(shift=(2) + 3*pip )\n",
        "                                               ),\"hill\") #stessa cosa per creare\n",
        "                                 return df [\"hill_valley\"]\n",
        "\n",
        "\n",
        "def get_support (df, list_of_lows, current_price, level_range=20, pip=0.0001):\n",
        "  support_levels= []\n",
        "  remove_index= [] #immagazzina tutti gli indici che sono stati usati per definire un valido supporto\n",
        "  for indx, low in enumerate (list_of_lows):\n",
        "    if indx in remove_index:\n",
        "        continue\n",
        "    count=0\n",
        "    lows = []\n",
        "    for j in list_of_lows [indx]:\n",
        "        if abs (low-j)< level_range*pip:\n",
        "          count+=1\n",
        "          lows.append(j)\n",
        "        if count> min_occurance:\n",
        "           suppor_levels.append(sum(lows)/len(lows)) if sum(lows)/len(lows) < current_price else support_levels\n",
        "           #adesso dobbiamorimuovere tutti gli indici di un valore usati per calcolare il livello di supporto identificato\n",
        "           for k in lows:\n",
        "               remove index (list_of_lows(k)) if list_of_lows.index (k) not in remove_index else remove\n",
        "        if len(support_levels)==0\n",
        "          return min (list_of_lows)\n",
        "          else:\n",
        "               return current_price\n",
        "\n",
        "          elif list_of_lows.index (min(list_of_lows)) > 0.7 (len(list_of_lows)):\n",
        "            return min(list_of_lows)\n",
        "          else:\n",
        "            return sorted (support_levels, reverse= True) [0]\n",
        "\n",
        "\n",
        "\n",
        "\n",
        "\n",
        "\n",
        "\n"
      ],
      "metadata": {
        "id": "G8aIywm2zqHr"
      },
      "execution_count": null,
      "outputs": []
    }
  ]
}