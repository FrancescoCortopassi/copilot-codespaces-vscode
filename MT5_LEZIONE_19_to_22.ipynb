{
  "nbformat": 4,
  "nbformat_minor": 0,
  "metadata": {
    "colab": {
      "provenance": [],
      "authorship_tag": "ABX9TyObuSlIxYLbu/iRRiSsAANG",
      "include_colab_link": true
    },
    "kernelspec": {
      "name": "python3",
      "display_name": "Python 3"
    },
    "language_info": {
      "name": "python"
    }
  },
  "cells": [
    {
      "cell_type": "markdown",
      "metadata": {
        "id": "view-in-github",
        "colab_type": "text"
      },
      "source": [
        "<a href=\"https://colab.research.google.com/github/FrancescoCortopassi/copilot-codespaces-vscode/blob/main/MT5_LEZIONE_19_to_22.ipynb\" target=\"_parent\"><img src=\"https://colab.research.google.com/assets/colab-badge.svg\" alt=\"Open In Colab\"/></a>"
      ]
    },
    {
      "cell_type": "markdown",
      "source": [
        "#LEZIONE_19: RECUPERARE DATI STORICI\n",
        "Questo capitolo è dedicato al recupero dei dati storici. In quello precedente abbiamo visto come ottenere informazioni rilevanti sul simbolo/simboli su cui vogliamo operare, adesso andiamo a recuperare i DATI STORICI, sicuramente una delle parti fondamentali e più importanti da padroneggiare nello sviluppo di strategie algoritmiche e quantitative"
      ],
      "metadata": {
        "id": "sxHsar5lFXdW"
      }
    },
    {
      "cell_type": "code",
      "execution_count": null,
      "metadata": {
        "id": "bwyHfXn7FRdH"
      },
      "outputs": [],
      "source": [
        "#Recuperare i dati storici per il simbolo specificato\n",
        "hist_data=mt5.copy_rates_from(\"EURUSD\", mt5.TIMEFRAME_H1,dt.datetime(2024,10,2),200)\n",
        "hist_data_dataframe=pd.DataFrame(hist_data)\n",
        "hist_data_df.time=pd_to_datetime(hist_data_df.time,unit=\"s\")\n",
        "hist_data_df.set_index [\"time\",inplace=True]"
      ]
    },
    {
      "cell_type": "markdown",
      "source": [
        "LEZIONE_20: Creiamo una FUNZIONE per andare a recuperare i DATI STORICI (integrando il codice di prima)"
      ],
      "metadata": {
        "id": "ZFG9niI1couD"
      }
    },
    {
      "cell_type": "code",
      "source": [
        "\n",
        "def get_hist_data(symbol,timeframe,time_till=None,num_candles=200):#come valori della funzione ammiamo inserito\n",
        "#SIMBOLO:Type str- ex. (USDCAD)\n",
        "#TIMEFRAME:Type str- ex. (TIMEFRAME_H1)\n",
        "#TIME_TILL:Type str- ex. (YYYY/MM/DD HH:MM:SS) Si inseriscono prima anni/mesi/giorni e poi ore/minuti/secondi\n",
        "#NUM.CANDLES:Type int- ex. (200)\n",
        "  if time_time==None:\n",
        "    time_till=datetime.now()\n",
        "  else:\n",
        "    time_till=pd_to_datetime(time_till,%Y-%M-%D-%M-%S) #abbiamo ricreato il datetime nel formato TIME_TILL ed abbiamo dovuto fornire i valori di formattazione\n",
        "    hist_data=mt5.copy_rates_from(symbol,(datetime,timeframe)time_till,num_candles=200)\n",
        "    hist_data_dataframe=pd.DataFrame(hist_data)\n",
        "    hist_data_df.time=pd_to_datetime(hist_data_df.time,unit=\"s\")\n",
        "    hist_data_df.set_index [\"time\",inplace=True]\n"
      ],
      "metadata": {
        "id": "zmIHxY4zcoAt"
      },
      "execution_count": null,
      "outputs": []
    },
    {
      "cell_type": "markdown",
      "source": [
        "LEZIONE_21: IMPORTANZA DELLA TIMEZONE NELL'HISTORICAL DATA\n",
        "In questa lezione andiamo a vedere come modificare la TIMEZONE per allinearla a quella di MetaTrader5"
      ],
      "metadata": {
        "id": "bBNXfkfboMNi"
      }
    },
    {
      "cell_type": "code",
      "source": [],
      "metadata": {
        "id": "2hyY8HJAp3YB"
      },
      "execution_count": null,
      "outputs": []
    }
  ]
}